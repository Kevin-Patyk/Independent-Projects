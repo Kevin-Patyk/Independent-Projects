{
 "cells": [
  {
   "cell_type": "markdown",
   "id": "a4a9959b",
   "metadata": {},
   "source": [
    "# More Loops Practice\n",
    "\n",
    "## Exercise 1: Print First 10 natural numbers using while loop"
   ]
  },
  {
   "cell_type": "code",
   "execution_count": 1,
   "id": "e1653d77",
   "metadata": {},
   "outputs": [
    {
     "name": "stdout",
     "output_type": "stream",
     "text": [
      "1\n",
      "2\n",
      "3\n",
      "4\n",
      "5\n",
      "6\n",
      "7\n",
      "8\n",
      "9\n",
      "10\n"
     ]
    }
   ],
   "source": [
    "i = 1\n",
    "while i <= 10:\n",
    "    print(i)\n",
    "    i += 1"
   ]
  },
  {
   "cell_type": "markdown",
   "id": "110ce2e1",
   "metadata": {},
   "source": [
    "## Exercise 2: Print the following pattern\n",
    "\n",
    "* `1`\n",
    "* `1 2`\n",
    "* `1 2 3`\n",
    "* `1 2 3 4`\n",
    "* `1 2 3 4 5`"
   ]
  },
  {
   "cell_type": "code",
   "execution_count": 2,
   "id": "da731385",
   "metadata": {},
   "outputs": [
    {
     "name": "stdout",
     "output_type": "stream",
     "text": [
      "1 \n",
      "1 2 \n",
      "1 2 3 \n",
      "1 2 3 4 \n",
      "1 2 3 4 5 \n"
     ]
    }
   ],
   "source": [
    "row = 5\n",
    "for i in range(1, row + 1, 1):\n",
    "    for j in range(1, i + 1):\n",
    "        print(j, end=' ')\n",
    "    print(\"\")"
   ]
  },
  {
   "cell_type": "markdown",
   "id": "88621b78",
   "metadata": {},
   "source": [
    "## Exercise 3: Calculate the sum of all numbers from 1 to a given number"
   ]
  },
  {
   "cell_type": "code",
   "execution_count": 3,
   "id": "66fc5472",
   "metadata": {},
   "outputs": [
    {
     "name": "stdout",
     "output_type": "stream",
     "text": [
      "55\n"
     ]
    }
   ],
   "source": [
    "N = 10\n",
    "sum = 0\n",
    "for i in range(0,N+1,1):\n",
    "    sum += i\n",
    "print(sum)"
   ]
  },
  {
   "cell_type": "markdown",
   "id": "5f2980ca",
   "metadata": {},
   "source": [
    "## Exercise 4: Write a program to print multiplication table of a given number"
   ]
  },
  {
   "cell_type": "code",
   "execution_count": 4,
   "id": "37901a77",
   "metadata": {},
   "outputs": [
    {
     "name": "stdout",
     "output_type": "stream",
     "text": [
      "3\n",
      "6\n",
      "9\n",
      "12\n",
      "15\n",
      "18\n",
      "21\n",
      "24\n",
      "27\n",
      "30\n"
     ]
    }
   ],
   "source": [
    "num = 3\n",
    "stor = 0\n",
    "for i in range(1,11,1):\n",
    "    stor = stor + num\n",
    "    print(stor)"
   ]
  },
  {
   "cell_type": "markdown",
   "id": "657b4061",
   "metadata": {},
   "source": [
    "Or:"
   ]
  },
  {
   "cell_type": "code",
   "execution_count": 5,
   "id": "4218f0dd",
   "metadata": {},
   "outputs": [
    {
     "name": "stdout",
     "output_type": "stream",
     "text": [
      "2\n",
      "4\n",
      "6\n",
      "8\n",
      "10\n",
      "12\n",
      "14\n",
      "16\n",
      "18\n",
      "20\n"
     ]
    }
   ],
   "source": [
    "num = 2\n",
    "for i in range(1,11,1):\n",
    "    product = num * i\n",
    "    print(product)"
   ]
  },
  {
   "cell_type": "markdown",
   "id": "d28fb4ff",
   "metadata": {},
   "source": [
    "## Exercise 5: Display numbers from a list using loop\n",
    "\n",
    "Write a program to display only those numbers from a list that satisfy the following conditions:\n",
    "\n",
    "* The number must be divisible by five\n",
    "* If the number is greater than 150, then skip it and move to the next number\n",
    "* If the number is greater than 500, then stop the loop\n",
    "\n",
    "Given:\n",
    "`numbers = [12, 75, 150, 180, 145, 525, 50]`\n",
    "\n",
    "Expected output:\n",
    "`75`\n",
    "`150`\n",
    "`145`"
   ]
  },
  {
   "cell_type": "code",
   "execution_count": 6,
   "id": "edaf9e9a",
   "metadata": {},
   "outputs": [
    {
     "name": "stdout",
     "output_type": "stream",
     "text": [
      "75\n",
      "150\n",
      "145\n"
     ]
    }
   ],
   "source": [
    "numbers = [12, 75, 150, 180, 145, 525, 50]\n",
    "for i in numbers:\n",
    "    if i > 500:\n",
    "        break\n",
    "    elif i > 150 or i % 5 != 0:\n",
    "        continue\n",
    "    else:\n",
    "        print(i)"
   ]
  },
  {
   "cell_type": "markdown",
   "id": "35a0210d",
   "metadata": {},
   "source": [
    "## Exercise 6:\n",
    "\n",
    "Write a program to count the total number of digits in a number using a while loop.\n",
    "\n",
    "For example, the number is 75869, so the output should be 5."
   ]
  },
  {
   "cell_type": "code",
   "execution_count": 7,
   "id": "c8f70004",
   "metadata": {},
   "outputs": [
    {
     "name": "stdout",
     "output_type": "stream",
     "text": [
      "5\n"
     ]
    }
   ],
   "source": [
    "number = 75869\n",
    "counter = 0\n",
    "while number != 0:\n",
    "    number = number//10\n",
    "    counter += 1\n",
    "    \n",
    "print(counter)"
   ]
  },
  {
   "cell_type": "markdown",
   "id": "f08da5ed",
   "metadata": {},
   "source": [
    "## Exercise 7: Print the following pattern\n",
    "\n",
    "Write a program to use for loop to print the following reverse number pattern:\n",
    "\n",
    "* `1 2 3 4 5`\n",
    "* `1 2 3 4`\n",
    "* `1 2 3`\n",
    "* `1 2`\n",
    "* `1`"
   ]
  },
  {
   "cell_type": "code",
   "execution_count": 8,
   "id": "da5a67d6",
   "metadata": {},
   "outputs": [
    {
     "name": "stdout",
     "output_type": "stream",
     "text": [
      "5 4 3 2 1 \n",
      "4 3 2 1 \n",
      "3 2 1 \n",
      "2 1 \n",
      "1 \n",
      "\n"
     ]
    }
   ],
   "source": [
    "n = 5\n",
    "k = 5\n",
    "for i in range(0,n+1):\n",
    "    for j in range(k-i,0,-1):\n",
    "        print(j,end=' ')\n",
    "    print()"
   ]
  },
  {
   "cell_type": "markdown",
   "id": "3d3f551c",
   "metadata": {},
   "source": [
    "## Exercise 8: Print list in reverse order using a loop\n",
    "\n",
    "* Given:\n",
    "`list1 = [10, 20, 30, 40, 50]`"
   ]
  },
  {
   "cell_type": "code",
   "execution_count": 9,
   "id": "dd9a0226",
   "metadata": {},
   "outputs": [
    {
     "name": "stdout",
     "output_type": "stream",
     "text": [
      "[50, 40, 30, 20, 10]\n"
     ]
    }
   ],
   "source": [
    "list1 = [10, 20, 30, 40, 50]\n",
    "newlist = list()\n",
    "for i in range(len(list1)-1,-1,-1):\n",
    "    newlist.append(list1[i])\n",
    "\n",
    "print(newlist)"
   ]
  },
  {
   "cell_type": "markdown",
   "id": "c84f801a",
   "metadata": {},
   "source": [
    "## Exercise 9: Display numbers from -10 to -1 using for loop"
   ]
  },
  {
   "cell_type": "code",
   "execution_count": 10,
   "id": "2946d3ff",
   "metadata": {},
   "outputs": [
    {
     "name": "stdout",
     "output_type": "stream",
     "text": [
      "[-10, -9, -8, -7, -6, -5, -4, -3, -2, -1]\n"
     ]
    }
   ],
   "source": [
    "stor = []\n",
    "for i in range(-10,0,1):\n",
    "    stor.append(i)\n",
    "print(stor)"
   ]
  },
  {
   "cell_type": "markdown",
   "id": "f3e43c79",
   "metadata": {},
   "source": [
    "## Exercise 10: Use else block to display a message “Done” after successful execution of for loop"
   ]
  },
  {
   "cell_type": "code",
   "execution_count": 11,
   "id": "228f9336",
   "metadata": {},
   "outputs": [
    {
     "name": "stdout",
     "output_type": "stream",
     "text": [
      "0\n",
      "1\n",
      "2\n",
      "3\n",
      "4\n",
      "Done\n"
     ]
    }
   ],
   "source": [
    "for i in range(5):\n",
    "    print(i)\n",
    "else:\n",
    "    print(\"Done\")"
   ]
  },
  {
   "cell_type": "markdown",
   "id": "fc58d2a9",
   "metadata": {},
   "source": [
    "## Exercise 11: Write a program to display all prime numbers within a range\n",
    "\n",
    "**Note**: A Prime Number is a number that cannot be made by multiplying other whole numbers. A prime number is a natural number greater than 1 that is not a product of two smaller natural numbers\n",
    "\n",
    "Examples:\n",
    "* 6 is not a prime mumber because it can be made by 2×3 = 6\n",
    "* 37 is a prime number because no other whole numbers multiply together to make it.\n",
    "\n",
    "Given:\n",
    "* `start = 25`\n",
    "* `end = 50`"
   ]
  },
  {
   "cell_type": "code",
   "execution_count": 12,
   "id": "add557ef",
   "metadata": {},
   "outputs": [
    {
     "name": "stdout",
     "output_type": "stream",
     "text": [
      "Prime numbers between 25 and 50 are:\n",
      "29\n",
      "31\n",
      "37\n",
      "41\n",
      "43\n",
      "47\n"
     ]
    }
   ],
   "source": [
    "start = 25\n",
    "end = 50\n",
    "print(\"Prime numbers between\", start, \"and\", end, \"are:\")\n",
    "\n",
    "for num in range(start, end + 1):\n",
    "    # All prime numbers are greater than 1\n",
    "    # If number is less than or equal to 1, it is not prime\n",
    "    if num > 1:\n",
    "        for i in range(2, num):\n",
    "            # Check for factors\n",
    "            if (num % i) == 0:\n",
    "                # Not a prime number so break inner loop and\n",
    "                # Look for next number\n",
    "                break\n",
    "        else:\n",
    "            print(num)"
   ]
  },
  {
   "cell_type": "markdown",
   "id": "371ac66d",
   "metadata": {},
   "source": [
    "## Exercise 12: Display Fibonacci series up to 10 terms\n",
    "\n",
    "The Fibonacci Sequence is a series of numbers. The next number is found by adding up the two numbers before it. The first two numbers are 0 and 1.\n",
    "\n",
    "For example, 0, 1, 1, 2, 3, 5, 8, 13, 21. The next number in this series above is 13+21 = 34.\n",
    "\n",
    "Expected output: \n",
    "* `0  1  1  2  3  5  8  13  21  34`"
   ]
  },
  {
   "cell_type": "code",
   "execution_count": 13,
   "id": "4e5dea8f",
   "metadata": {},
   "outputs": [
    {
     "name": "stdout",
     "output_type": "stream",
     "text": [
      "0\n",
      "1\n",
      "1\n",
      "2\n",
      "3\n",
      "5\n",
      "8\n",
      "13\n",
      "21\n",
      "34\n"
     ]
    }
   ],
   "source": [
    "N = 10\n",
    "n1, n2 = 0,1\n",
    "for i in range(0,N):\n",
    "    print(n1)\n",
    "    result = n1 + n2\n",
    "    n1 = n2\n",
    "    n2 = result"
   ]
  },
  {
   "cell_type": "markdown",
   "id": "079f93db",
   "metadata": {},
   "source": [
    "## Exercise 13: Write a program to use the loop to find the factorial of a given number.\n",
    "\n",
    "The factorial (symbol: $!$) means to multiply all whole numbers from the chosen number down to 1.\n",
    "\n",
    "For example: calculate the factorial of 5\n",
    "* `5! = 5 × 4 × 3 × 2 × 1 = 120`\n",
    "\n",
    "Expected Output:\n",
    "* `120`"
   ]
  },
  {
   "cell_type": "code",
   "execution_count": 14,
   "id": "3b86a7a8",
   "metadata": {},
   "outputs": [
    {
     "name": "stdout",
     "output_type": "stream",
     "text": [
      "120\n"
     ]
    }
   ],
   "source": [
    "N = 5\n",
    "if N < 0:\n",
    "    print(\"Factorial does not exist for negative numbers\")\n",
    "elif N == 0:\n",
    "    print(\"The factorial of 0 is 1\")\n",
    "else:\n",
    "    for i in range(N-1,0,-1):\n",
    "        result = N * i\n",
    "        N = result\n",
    "    \n",
    "print(result)"
   ]
  },
  {
   "cell_type": "markdown",
   "id": "a532dbd6",
   "metadata": {},
   "source": [
    "Or: "
   ]
  },
  {
   "cell_type": "code",
   "execution_count": 15,
   "id": "a0b1a236",
   "metadata": {},
   "outputs": [
    {
     "name": "stdout",
     "output_type": "stream",
     "text": [
      "The factorial of 5 is 120\n"
     ]
    }
   ],
   "source": [
    "num = 5\n",
    "factorial = 1\n",
    "if num < 0:\n",
    "    print(\"Factorial does not exist for negative numbers\")\n",
    "elif num == 0:\n",
    "    print(\"The factorial of 0 is 1\")\n",
    "else:\n",
    "    # Run loop 5 times\n",
    "    for i in range(1, num + 1):\n",
    "        # Multiply factorial by current number\n",
    "        factorial = factorial * i\n",
    "    print(\"The factorial of\", num, \"is\", factorial)"
   ]
  },
  {
   "cell_type": "markdown",
   "id": "dff75b8d",
   "metadata": {},
   "source": [
    "## Exercise 14: Reverse a given integer number\n",
    "\n",
    "Given:\n",
    "* `76542`\n",
    "\n",
    "Output:\n",
    "* `24567`"
   ]
  },
  {
   "cell_type": "code",
   "execution_count": 16,
   "id": "20b9684a",
   "metadata": {},
   "outputs": [
    {
     "name": "stdout",
     "output_type": "stream",
     "text": [
      "24567"
     ]
    }
   ],
   "source": [
    "num = 76542\n",
    "num2 = [int(d) for d in str(num)]\n",
    "list1 = []\n",
    "for i in range(len(num2)-1,-1,-1):\n",
    "    list1.append(num2[i])\n",
    "\n",
    "for i in list1:\n",
    "    print(i, end=\"\")"
   ]
  },
  {
   "cell_type": "markdown",
   "id": "ffd50281",
   "metadata": {},
   "source": [
    "Or:"
   ]
  },
  {
   "cell_type": "code",
   "execution_count": 17,
   "id": "25feb2f1",
   "metadata": {},
   "outputs": [
    {
     "name": "stdout",
     "output_type": "stream",
     "text": [
      "Given Number  76542\n",
      "Reverse Number  24567\n"
     ]
    }
   ],
   "source": [
    "num = 76542\n",
    "reverse_number = 0\n",
    "print(\"Given Number \", num)\n",
    "while num > 0:\n",
    "    remainder = num % 10\n",
    "    reverse_number = (reverse_number * 10) + remainder\n",
    "    num = num // 10\n",
    "print(\"Reverse Number \", reverse_number)"
   ]
  },
  {
   "cell_type": "markdown",
   "id": "85c23e55",
   "metadata": {},
   "source": [
    "## Exercise 15: Use a loop to display elements from a given list present at odd index positions\n",
    "\n",
    "Given:\n",
    "* `my_list = [10, 20, 30, 40, 50, 60, 70, 80, 90, 100]`\n",
    "\n",
    "Expected output:\n",
    "* `20 40 60 80 100`"
   ]
  },
  {
   "cell_type": "code",
   "execution_count": 18,
   "id": "b4ed5332",
   "metadata": {},
   "outputs": [
    {
     "name": "stdout",
     "output_type": "stream",
     "text": [
      "[20, 40, 60, 80, 100]\n"
     ]
    }
   ],
   "source": [
    "my_list = [10, 20, 30, 40, 50, 60, 70, 80, 90, 100]\n",
    "new_list = []\n",
    "for i in range(0,len(my_list)):\n",
    "    if i == 0 or i % 2 == 0:\n",
    "        continue\n",
    "    else:\n",
    "        new_list.append(my_list[i])\n",
    "\n",
    "print(new_list)"
   ]
  },
  {
   "cell_type": "markdown",
   "id": "6384e167",
   "metadata": {},
   "source": [
    "Or using list slicing:"
   ]
  },
  {
   "cell_type": "code",
   "execution_count": 19,
   "id": "35b36552",
   "metadata": {},
   "outputs": [
    {
     "name": "stdout",
     "output_type": "stream",
     "text": [
      "20 40 60 80 100 "
     ]
    }
   ],
   "source": [
    "my_list = [10, 20, 30, 40, 50, 60, 70, 80, 90, 100]\n",
    "# Start from index 1 with step 2( means 1, 3, 5, an so on)\n",
    "for i in my_list[1::2]:\n",
    "    print(i, end=\" \")"
   ]
  },
  {
   "cell_type": "markdown",
   "id": "820b3679",
   "metadata": {},
   "source": [
    "## Exercise 16: Calculate the cube of all numbers from 1 to a given number\n",
    "\n",
    "Write a program to get the cube of all numbers from 1 to a given number\n",
    "\n",
    "Given:\n",
    "* `input_number = 6`"
   ]
  },
  {
   "cell_type": "code",
   "execution_count": 20,
   "id": "85846de8",
   "metadata": {},
   "outputs": [
    {
     "name": "stdout",
     "output_type": "stream",
     "text": [
      "1\n",
      "8\n",
      "27\n",
      "64\n",
      "125\n",
      "216\n"
     ]
    }
   ],
   "source": [
    "input_number = 6\n",
    "for i in range(1,input_number+1):\n",
    "    print(i**3)"
   ]
  },
  {
   "cell_type": "markdown",
   "id": "26b6c5b2",
   "metadata": {},
   "source": [
    "Or:"
   ]
  },
  {
   "cell_type": "code",
   "execution_count": 21,
   "id": "7f24d2a4",
   "metadata": {},
   "outputs": [
    {
     "name": "stdout",
     "output_type": "stream",
     "text": [
      "Current Number is : 1  and the cube is 1\n",
      "Current Number is : 2  and the cube is 8\n",
      "Current Number is : 3  and the cube is 27\n",
      "Current Number is : 4  and the cube is 64\n",
      "Current Number is : 5  and the cube is 125\n",
      "Current Number is : 6  and the cube is 216\n"
     ]
    }
   ],
   "source": [
    "input_number = 6\n",
    "for i in range(1, input_number + 1):\n",
    "    print(\"Current Number is :\", i, \" and the cube is\", (i * i * i))"
   ]
  },
  {
   "cell_type": "markdown",
   "id": "1b2b1c80",
   "metadata": {},
   "source": [
    "## Exercise 17: Find the sum of the series up to n terms\n",
    "\n",
    "Write a program to calculate the sum of series up to n term. For example, if n = 5 the series will become 2 + 22 + 222 + 2222 + 22222 = 24690\n",
    "\n",
    "Given:\n",
    "* `n = 5`\n",
    "\n",
    "Expected output:\n",
    "* `24690`"
   ]
  },
  {
   "cell_type": "code",
   "execution_count": 22,
   "id": "6bef3783",
   "metadata": {},
   "outputs": [
    {
     "name": "stdout",
     "output_type": "stream",
     "text": [
      "2+22+222+2222+22222+\n",
      "Sum of above series is: 24690\n"
     ]
    }
   ],
   "source": [
    "n = 5\n",
    "# first number of sequence\n",
    "start = 2\n",
    "sum_seq = 0\n",
    "\n",
    "# run loop n times\n",
    "for i in range(0, n):\n",
    "    print(start, end=\"+\")\n",
    "    sum_seq += start\n",
    "    # calculate the next term\n",
    "    start = start * 10 + 2\n",
    "print(\"\\nSum of above series is:\", sum_seq)"
   ]
  },
  {
   "cell_type": "markdown",
   "id": "ba1c9e4c",
   "metadata": {},
   "source": [
    "## Exercise 18: Print the following pattern\n",
    "\n",
    "Write a program to print the following start pattern using the for loop:\n",
    "\n",
    "* `* `\n",
    "* `* * `\n",
    "* `* * * `\n",
    "* `* * * * `\n",
    "* `* * * * * `\n",
    "* `* * * * `\n",
    "* `* * * `\n",
    "* `* * `\n",
    "* `*`"
   ]
  },
  {
   "cell_type": "code",
   "execution_count": 23,
   "id": "819d6a82",
   "metadata": {},
   "outputs": [
    {
     "name": "stdout",
     "output_type": "stream",
     "text": [
      "* \r\n",
      "* * \r\n",
      "* * * \r\n",
      "* * * * \r\n",
      "* * * * * \r\n",
      "* * * * \r\n",
      "* * * \r\n",
      "* * \r\n",
      "* \r\n",
      "\r\n"
     ]
    }
   ],
   "source": [
    "rows = 5\n",
    "for i in range(0, rows):\n",
    "    for j in range(0, i + 1):\n",
    "        print(\"*\", end=' ')\n",
    "    print(\"\\r\")\n",
    "\n",
    "for i in range(rows, 0, -1):\n",
    "    for j in range(0, i - 1):\n",
    "        print(\"*\", end=' ')\n",
    "    print(\"\\r\")"
   ]
  }
 ],
 "metadata": {
  "kernelspec": {
   "display_name": "Python 3 (ipykernel)",
   "language": "python",
   "name": "python3"
  },
  "language_info": {
   "codemirror_mode": {
    "name": "ipython",
    "version": 3
   },
   "file_extension": ".py",
   "mimetype": "text/x-python",
   "name": "python",
   "nbconvert_exporter": "python",
   "pygments_lexer": "ipython3",
   "version": "3.9.7"
  }
 },
 "nbformat": 4,
 "nbformat_minor": 5
}
