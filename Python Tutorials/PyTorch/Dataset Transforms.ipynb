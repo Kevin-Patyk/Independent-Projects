{
 "cells": [
  {
   "cell_type": "markdown",
   "id": "a51a4971",
   "metadata": {},
   "source": [
    "# Dataset Transforms"
   ]
  },
  {
   "cell_type": "markdown",
   "id": "56934bec",
   "metadata": {},
   "source": [
    "In this tutorial, we will talk about transforms for our datasets. In the last tutorial, we discussed the `Dataset` and `DataLoader` classes. \n",
    "\n",
    "Below, we will use in a built-in `pytorch` dataset with the argument `transform = ` and then apply some transforms. This will convert `numpy` arrays and images to tensors. `pytorch` already has a lot of transforms implemented for us. You can look at the all of the transforms in the documentation.\n",
    "\n",
    "`dataset = torchvision.datasets.MNIST(\n",
    "    root = './data', transform = torchvision.transforms.ToTensor()`"
   ]
  },
  {
   "cell_type": "markdown",
   "id": "213cf342",
   "metadata": {},
   "source": [
    "First, let's import some modules that we will be using."
   ]
  },
  {
   "cell_type": "code",
   "execution_count": 1,
   "id": "60a778d7",
   "metadata": {},
   "outputs": [],
   "source": [
    "import torch\n",
    "import torchvision\n",
    "from torch.utils.data import Dataset, DataLoader\n",
    "import numpy as np\n",
    "import math"
   ]
  },
  {
   "cell_type": "markdown",
   "id": "3a06019f",
   "metadata": {},
   "source": [
    "Now to make the wine dataset, as we did in the previous tutorial. Before we make our own transforms, we have to modify the wine dataset code below. "
   ]
  },
  {
   "cell_type": "code",
   "execution_count": 8,
   "id": "3da9015d",
   "metadata": {},
   "outputs": [],
   "source": [
    "class WineDataset(Dataset):\n",
    "    \n",
    "    def __init__(self, transform=None):\n",
    "        #data loading \n",
    "        #will also convert to torch\n",
    "        xy = np.loadtxt('C:\\\\Users\\\\onef0\\\\Desktop\\\\PyTorch Tutorial\\\\wine.csv', delimiter = \",\", dtype = np.float32, skiprows = 1)\n",
    "       \n",
    "        self.x = xy[:, 1:] #we want only the features, so all rows but all collumns excluding the first column\n",
    "        self.y = xy[:, [0]] #we want only the outcome, so all rows and only the first column - we had the extra \n",
    "        #brackets because it will be the n_samples, 1\n",
    "        self.n_samples = xy.shape[0] #first dimension is the number of samples\n",
    "        \n",
    "        self.transform = transform\n",
    "        \n",
    "    def __getitem__(self, index):\n",
    "        #dataset[0] - this will allow us to perform indexing \n",
    "        #we have to modify the get item function for transforms - we want it to apply a transform, if it is available\n",
    "        sample = self.x[index], self.y[index]\n",
    "        \n",
    "        if self.transform:\n",
    "            sample = self.transform(sample)\n",
    "        \n",
    "        return sample\n",
    "    \n",
    "    def __len__(self):\n",
    "        #len(dataset) - this will allow us to use the length function\n",
    "        return self.n_samples"
   ]
  },
  {
   "cell_type": "markdown",
   "id": "5f5d0ece",
   "metadata": {},
   "source": [
    "Now, let's create some custom transform classes. In the previous tutorial, we already converted the data to a tensor using: \n",
    "\n",
    "`self.x = torch.from_numpy(xy[:, 1:])`\n",
    "`self.y = torch.from_numpy(xy[:, [0]])`\n",
    "\n",
    "We do not need to do this now, since we will make our own to tensor transform. We will just leave them as `numpy` arrays.\n",
    "\n",
    "The `ToTensor()` class with be passed to our dataset and later convert it to tensor."
   ]
  },
  {
   "cell_type": "code",
   "execution_count": 9,
   "id": "9bd686bc",
   "metadata": {},
   "outputs": [],
   "source": [
    "class ToTensor():\n",
    "    def __call__(self, sample):\n",
    "        inputs, targets = sample\n",
    "        return torch.from_numpy(inputs), torch.from_numpy(targets) "
   ]
  },
  {
   "cell_type": "markdown",
   "id": "ff3af56b",
   "metadata": {},
   "source": [
    "Now, we can implement this transform."
   ]
  },
  {
   "cell_type": "code",
   "execution_count": 13,
   "id": "f2a2ba4a",
   "metadata": {},
   "outputs": [
    {
     "name": "stdout",
     "output_type": "stream",
     "text": [
      "(tensor([1.4230e+01, 1.7100e+00, 2.4300e+00, 1.5600e+01, 1.2700e+02, 2.8000e+00,\n",
      "        3.0600e+00, 2.8000e-01, 2.2900e+00, 5.6400e+00, 1.0400e+00, 3.9200e+00,\n",
      "        1.0650e+03]), tensor([1.]))\n",
      "<class 'torch.Tensor'> <class 'torch.Tensor'>\n"
     ]
    }
   ],
   "source": [
    "dataset = WineDataset(transform = ToTensor())\n",
    "\n",
    "#looking at the first item\n",
    "first_data = dataset[0]\n",
    "print(first_data)\n",
    "\n",
    "#unpack the data\n",
    "features, labels = first_data\n",
    "print(type(features), type(labels))"
   ]
  },
  {
   "cell_type": "markdown",
   "id": "c7d532cd",
   "metadata": {},
   "source": [
    "As we can see, the dataset is now of type `torch.Tensor`. If we do not pass the `transform =` argument, the dataset will not become a tensor."
   ]
  },
  {
   "cell_type": "code",
   "execution_count": 14,
   "id": "68d1d792",
   "metadata": {},
   "outputs": [
    {
     "name": "stdout",
     "output_type": "stream",
     "text": [
      "(array([1.423e+01, 1.710e+00, 2.430e+00, 1.560e+01, 1.270e+02, 2.800e+00,\n",
      "       3.060e+00, 2.800e-01, 2.290e+00, 5.640e+00, 1.040e+00, 3.920e+00,\n",
      "       1.065e+03], dtype=float32), array([1.], dtype=float32))\n",
      "<class 'numpy.ndarray'> <class 'numpy.ndarray'>\n"
     ]
    }
   ],
   "source": [
    "dataset = WineDataset(transform = None)\n",
    "\n",
    "#looking at the first item\n",
    "first_data = dataset[0]\n",
    "print(first_data)\n",
    "\n",
    "#unpack the data\n",
    "features, labels = first_data\n",
    "print(type(features), type(labels))"
   ]
  },
  {
   "cell_type": "markdown",
   "id": "daa0568c",
   "metadata": {},
   "source": [
    "As we can see, with the `transform` being `None`, the dataset is still of class `numpy.ndarray`."
   ]
  },
  {
   "cell_type": "markdown",
   "id": "bf238fc9",
   "metadata": {},
   "source": [
    "Let's write another custom transform."
   ]
  },
  {
   "cell_type": "code",
   "execution_count": 17,
   "id": "4cbb94a4",
   "metadata": {},
   "outputs": [],
   "source": [
    "class MulTransform:\n",
    "    def __init__(self, factor):\n",
    "        self.factor = factor\n",
    "    \n",
    "    def __call__(self, sample):\n",
    "        #unpack the sample\n",
    "        inputs, target = sample\n",
    "        inputs *= self.factor #apply the multiplication to only our features\n",
    "        return inputs, target #as a tupple"
   ]
  },
  {
   "cell_type": "markdown",
   "id": "1728edee",
   "metadata": {},
   "source": [
    "Let's apply a compose transform to see how we can use this. A compose transform composes several transforms together. As a note, this transform does not support torchscript."
   ]
  },
  {
   "cell_type": "code",
   "execution_count": 19,
   "id": "15317d4c",
   "metadata": {
    "scrolled": true
   },
   "outputs": [
    {
     "name": "stdout",
     "output_type": "stream",
     "text": [
      "(tensor([2.8460e+01, 3.4200e+00, 4.8600e+00, 3.1200e+01, 2.5400e+02, 5.6000e+00,\n",
      "        6.1200e+00, 5.6000e-01, 4.5800e+00, 1.1280e+01, 2.0800e+00, 7.8400e+00,\n",
      "        2.1300e+03]), tensor([1.]))\n",
      "<class 'torch.Tensor'> <class 'torch.Tensor'>\n"
     ]
    }
   ],
   "source": [
    "#making a composed transform - the input needs to be a list - for MulTransform, we are multiplying by a factor of 2\n",
    "composed = torchvision.transforms.Compose([ToTensor(), MulTransform(2)])\n",
    "\n",
    "#new dataset\n",
    "dataset = WineDataset(transform = composed)\n",
    "\n",
    "#looking at the first item\n",
    "first_data = dataset[0]\n",
    "print(first_data)\n",
    "\n",
    "#unpack the data\n",
    "features, labels = first_data\n",
    "print(type(features), type(labels))"
   ]
  },
  {
   "cell_type": "markdown",
   "id": "7aeb8947",
   "metadata": {},
   "source": [
    "As we can see, the class is `torch.Tensor` and each value in our dataset got doubled. If we used another factor, everything would be multiplied by 4."
   ]
  },
  {
   "cell_type": "code",
   "execution_count": 20,
   "id": "51334354",
   "metadata": {},
   "outputs": [
    {
     "name": "stdout",
     "output_type": "stream",
     "text": [
      "(tensor([5.6920e+01, 6.8400e+00, 9.7200e+00, 6.2400e+01, 5.0800e+02, 1.1200e+01,\n",
      "        1.2240e+01, 1.1200e+00, 9.1600e+00, 2.2560e+01, 4.1600e+00, 1.5680e+01,\n",
      "        4.2600e+03]), tensor([1.]))\n",
      "<class 'torch.Tensor'> <class 'torch.Tensor'>\n"
     ]
    }
   ],
   "source": [
    "#making a composed transform - the input needs to be a list - for MulTransform, we are multiplying by a factor of 2\n",
    "composed = torchvision.transforms.Compose([ToTensor(), MulTransform(4)])\n",
    "\n",
    "#new dataset\n",
    "dataset = WineDataset(transform = composed)\n",
    "\n",
    "#looking at the first item\n",
    "first_data = dataset[0]\n",
    "print(first_data)\n",
    "\n",
    "#unpack the data\n",
    "features, labels = first_data\n",
    "print(type(features), type(labels))"
   ]
  }
 ],
 "metadata": {
  "kernelspec": {
   "display_name": "Python 3 (ipykernel)",
   "language": "python",
   "name": "python3"
  },
  "language_info": {
   "codemirror_mode": {
    "name": "ipython",
    "version": 3
   },
   "file_extension": ".py",
   "mimetype": "text/x-python",
   "name": "python",
   "nbconvert_exporter": "python",
   "pygments_lexer": "ipython3",
   "version": "3.10.4"
  }
 },
 "nbformat": 4,
 "nbformat_minor": 5
}
