{
 "cells": [
  {
   "cell_type": "markdown",
   "id": "9e991c7e",
   "metadata": {},
   "source": [
    "# Backpropagation Example"
   ]
  },
  {
   "cell_type": "markdown",
   "id": "eab18217",
   "metadata": {},
   "source": [
    "First, importing `torch`"
   ]
  },
  {
   "cell_type": "code",
   "execution_count": 13,
   "id": "ba53caa8",
   "metadata": {},
   "outputs": [],
   "source": [
    "import torch"
   ]
  },
  {
   "cell_type": "markdown",
   "id": "f5012deb",
   "metadata": {},
   "source": [
    "Defining `x`, `y`, and `w`"
   ]
  },
  {
   "cell_type": "code",
   "execution_count": 14,
   "id": "4dfc82ee",
   "metadata": {},
   "outputs": [],
   "source": [
    "x = torch.tensor(1.0)\n",
    "y = torch.tensor(2.0)\n",
    "w = torch.tensor(1.0, requires_grad = True)"
   ]
  },
  {
   "cell_type": "markdown",
   "id": "d7a5ed87",
   "metadata": {},
   "source": [
    "First, we will do the forward pass and compute the loss."
   ]
  },
  {
   "cell_type": "code",
   "execution_count": 15,
   "id": "cf221669",
   "metadata": {},
   "outputs": [
    {
     "name": "stdout",
     "output_type": "stream",
     "text": [
      "tensor(1., grad_fn=<PowBackward0>)\n"
     ]
    }
   ],
   "source": [
    "y_hat = w * x\n",
    "loss = (y_hat - y)**2\n",
    "\n",
    "print(loss)"
   ]
  },
  {
   "cell_type": "markdown",
   "id": "cf984000",
   "metadata": {},
   "source": [
    "Backward pass - `pytorch` will compute the local gradients and backward pass automatically for us."
   ]
  },
  {
   "cell_type": "code",
   "execution_count": 16,
   "id": "17e1a0ce",
   "metadata": {},
   "outputs": [
    {
     "name": "stdout",
     "output_type": "stream",
     "text": [
      "tensor(-2.)\n"
     ]
    }
   ],
   "source": [
    "loss.backward()\n",
    "print(w.grad)"
   ]
  },
  {
   "cell_type": "markdown",
   "id": "2bd94ce8",
   "metadata": {},
   "source": [
    "The next step would be that we update our weights and then do the next forward pass/backward pass; this will be done for a number of iterations."
   ]
  }
 ],
 "metadata": {
  "kernelspec": {
   "display_name": "Python 3 (ipykernel)",
   "language": "python",
   "name": "python3"
  },
  "language_info": {
   "codemirror_mode": {
    "name": "ipython",
    "version": 3
   },
   "file_extension": ".py",
   "mimetype": "text/x-python",
   "name": "python",
   "nbconvert_exporter": "python",
   "pygments_lexer": "ipython3",
   "version": "3.9.7"
  }
 },
 "nbformat": 4,
 "nbformat_minor": 5
}
