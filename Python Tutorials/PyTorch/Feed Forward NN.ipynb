{
 "cells": [
  {
   "cell_type": "markdown",
   "id": "42699558",
   "metadata": {},
   "source": [
    "# Feed Forward Neural Network "
   ]
  },
  {
   "cell_type": "markdown",
   "id": "b0f5fbc6",
   "metadata": {},
   "source": [
    "A feed forward neural network is an artificial neural network in which the connections between nodes does not form a cycle. The opposite of a feed wofard neural network is a recurrent neural network, in which certain pathways are cycled. The feed forward model is the simplest form of neurl network as information is only processed in one direction. While data may pass through multiple hidden nodes, it always moves in one direction and never backwards. "
   ]
  },
  {
   "cell_type": "markdown",
   "id": "f2387021",
   "metadata": {},
   "source": [
    "In this tutorial, we will use everything we learned previously and put it together using the `MNIST` dataset. The `MNIST` dataset is used for recognizing hand-written digits. "
   ]
  },
  {
   "cell_type": "markdown",
   "id": "ff6fa841",
   "metadata": {},
   "source": [
    "Our steps for this tutorial look like: \n",
    "\n",
    "* Loading the MNIST data\n",
    "* DataLoader and Transformation\n",
    "* Multilayer Neural Net, Activation Function\n",
    "* Loss and Optimizer\n",
    "* Training Loop (Batch Training)\n",
    "* Model Evaluation - Calculating Accuracy\n",
    "* GPU Support \n",
    "\n",
    "Now, to import our modules."
   ]
  },
  {
   "cell_type": "code",
   "execution_count": 4,
   "id": "eb64f2bd",
   "metadata": {},
   "outputs": [],
   "source": [
    "import torch\n",
    "import torch.nn as nn\n",
    "import torchvision\n",
    "import torchvision.transforms as transforms\n",
    "import matplotlib.pyplot as plt"
   ]
  },
  {
   "cell_type": "markdown",
   "id": "776276ba",
   "metadata": {},
   "source": [
    "Now, to do our device configuration. So, this will determine whether we are using a GPU or a CPU. Later, we will push our tensors to the device. This will guarantee it will run on the GPU, if it is supported."
   ]
  },
  {
   "cell_type": "code",
   "execution_count": 5,
   "id": "afab5ccf",
   "metadata": {},
   "outputs": [],
   "source": [
    "#configuring the device\n",
    "device = torch.device('cuda' if torch.cuda.is_available() else 'cpu')"
   ]
  },
  {
   "cell_type": "markdown",
   "id": "35f06877",
   "metadata": {},
   "source": [
    "Now, to define hyperparameters. As a note, remember:\n",
    "\n",
    "* epoch = 1 complete forward and backward pass of ALL training samples\n",
    "* batch_size = number of training samples in one forward and backward pass\n",
    "* number of iterations = number of passes, each uses the *batch_size* number of samples"
   ]
  },
  {
   "cell_type": "code",
   "execution_count": 7,
   "id": "ec016b6b",
   "metadata": {},
   "outputs": [],
   "source": [
    "input_size = 784 #this is because our images have the size 28x28 = 784 - we will flatten the array to be a 1D tensor later\n",
    "hidden_size = 100 #can also try out different sizes here\n",
    "num_classes = 10 #have 10 different classes - digits from 0 to 9\n",
    "num_epochs = 2 #can be higher, but the training will take longer\n",
    "batch_size = 100\n",
    "learning_rate = 0.001"
   ]
  },
  {
   "cell_type": "markdown",
   "id": "91916ace",
   "metadata": {},
   "source": [
    "No we will import our famous MNIST data."
   ]
  },
  {
   "cell_type": "code",
   "execution_count": 9,
   "id": "77a10567",
   "metadata": {},
   "outputs": [],
   "source": [
    "#training data - we are converting it to tensor and downloading it\n",
    "train_dataset = torchvision.datasets.MNIST(root = './data', train = True, \n",
    "                                           transform = transforms.ToTensor(), download = True)\n",
    "\n",
    "#testing data - we are converting it to tensor and downloading it\n",
    "test_dataset = torchvision.datasets.MNIST(root = './data', train = False, \n",
    "                                           transform = transforms.ToTensor())\n",
    "\n",
    "#train loader - will create an iterable for automatic batching\n",
    "train_loader = torch.utils.data.DataLoader(dataset = train_dataset, batch_size = batch_size, shuffle = True)\n",
    "\n",
    "#test loader - will create an iterable for automatic batching \n",
    "test_loader = torch.utils.data.DataLoader(dataset = test_dataset, batch_size = batch_size, shuffle = False)"
   ]
  },
  {
   "cell_type": "markdown",
   "id": "ea4307b6",
   "metadata": {},
   "source": [
    "Now, let's look at one batch of our data."
   ]
  },
  {
   "cell_type": "code",
   "execution_count": 12,
   "id": "ddea2963",
   "metadata": {},
   "outputs": [
    {
     "name": "stdout",
     "output_type": "stream",
     "text": [
      "torch.Size([100, 1, 28, 28]) torch.Size([100])\n"
     ]
    }
   ],
   "source": [
    "#the iter() method returns an iterator of the given object\n",
    "#An iterator is an object that contains a countable number of values. \n",
    "#An iterator is an object that can be iterated upon, meaning that you can traverse through all the values.\n",
    "#It seems that, in this situation, we are just getting one batch out of the several that there are to examine it\n",
    "examples = iter(train_loader)\n",
    "\n",
    "#creating a new iterator each time and extracting the first object\n",
    "samples, labels = examples.next()\n",
    "print(samples.shape, labels.shape)"
   ]
  },
  {
   "cell_type": "markdown",
   "id": "47d2dc44",
   "metadata": {},
   "source": [
    "So, the size is (100, 1, 28, 28). This is because the batch size is 100 (100 samples in the batch), 1 is because we only have 1 channel, and 28,28 is the image array which is 28x28. Our label is a tensor of size 100, so for each class label, we have 1 value here. \n",
    "\n",
    "Now, let's plot this to see how it's looking - this will show us the hand-written digits in the data."
   ]
  },
  {
   "cell_type": "code",
   "execution_count": 15,
   "id": "8a63dc95",
   "metadata": {},
   "outputs": [
    {
     "data": {
      "image/png": "[encoded data removed]",
      "text/plain": [
       "<Figure size 432x288 with 6 Axes>"
      ]
     },
     "metadata": {
      "needs_background": "light"
     },
     "output_type": "display_data"
    }
   ],
   "source": [
    "for i in range(6):\n",
    "    plt.subplot(2, 3, i+1)\n",
    "    plt.imshow(samples[i][0], cmap = 'gray')\n",
    "plt.show()"
   ]
  },
  {
   "cell_type": "markdown",
   "id": "93d8948b",
   "metadata": {},
   "source": [
    "Now we want to classify these digits. We are going to have a fully connected neural network with one hidden layer."
   ]
  },
  {
   "cell_type": "code",
   "execution_count": 16,
   "id": "5cc11990",
   "metadata": {},
   "outputs": [],
   "source": [
    "#creating a class for neural net\n",
    "class NeuralNet(nn.Module):\n",
    "    def __init__(self, input_size, hidden_size, num_classes):\n",
    "        super(NeuralNet, self).__init__()\n",
    "        self.l1 = nn.Linear(input_size, hidden_size) #linear layer - input size is input and output is hidden size\n",
    "        self.relu = nn.ReLU() #activation function\n",
    "        self.l2 = nn.Linear(hidden_size, num_classes) #second linear layer - input is hidden size and output is num classes\n",
    "        \n",
    "    def forward(self, x):\n",
    "        out = self.l1(x) #first linear layer\n",
    "        out = self.relu(out) #hidden layer\n",
    "        out = self.l2(out) #second linear layer \n",
    "        #we do not need an activation function (softmax because it is multiclass classification) - \n",
    "        #we will see that we will use cross-entropy loss - this will apply the softmax for us\n",
    "        return out\n",
    "\n",
    "#defining our model\n",
    "model = NeuralNet(input_size, hidden_size, num_classes).to(device)"
   ]
  },
  {
   "cell_type": "markdown",
   "id": "7dabb2cb",
   "metadata": {},
   "source": [
    "Now, we will create our loss and optimizer."
   ]
  },
  {
   "cell_type": "code",
   "execution_count": 19,
   "id": "ad47f12b",
   "metadata": {},
   "outputs": [],
   "source": [
    "#loss \n",
    "criterion = nn.CrossEntropyLoss() #this will apply the softmax for us\n",
    "\n",
    "#optimizer\n",
    "optimizer = torch.optim.Adam(model.parameters(), lr=learning_rate)"
   ]
  },
  {
   "cell_type": "markdown",
   "id": "b1fc3306",
   "metadata": {},
   "source": [
    "Now to do the training loop. As a note:\n",
    "\n",
    "* Epoch - An epoch is a single pass through our full training data(60,000 images). An epoch consists of training steps, which is nothing but the number of batches passed to the model until all the training data is covered. \n",
    "\n",
    "It could be expressed as number of training steps = number of training records/batch size, which is 60000 (training samples) / 100 (batch size) = 600 (steps) in our case. We will have 600 steps per epoch. We'll train the model for 2 epochs- the model will see the full training data exactly 2 times."
   ]
  },
  {
   "cell_type": "code",
   "execution_count": 26,
   "id": "0250f764",
   "metadata": {},
   "outputs": [
    {
     "name": "stdout",
     "output_type": "stream",
     "text": [
      "600\n",
      "Epoch [1/2], Step [100/600], Loss: 0.1159\n",
      "Epoch [1/2], Step [200/600], Loss: 0.1017\n",
      "Epoch [1/2], Step [300/600], Loss: 0.1480\n",
      "Epoch [1/2], Step [400/600], Loss: 0.0304\n",
      "Epoch [1/2], Step [500/600], Loss: 0.0788\n",
      "Epoch [1/2], Step [600/600], Loss: 0.0992\n",
      "Epoch [2/2], Step [100/600], Loss: 0.0893\n",
      "Epoch [2/2], Step [200/600], Loss: 0.0708\n",
      "Epoch [2/2], Step [300/600], Loss: 0.0314\n",
      "Epoch [2/2], Step [400/600], Loss: 0.0374\n",
      "Epoch [2/2], Step [500/600], Loss: 0.0507\n",
      "Epoch [2/2], Step [600/600], Loss: 0.0969\n"
     ]
    }
   ],
   "source": [
    "#first define the number of total steps\n",
    "n_total_steps = len(train_loader)\n",
    "print(n_total_steps)\n",
    "\n",
    "#training loop\n",
    "\n",
    "#looping over epochs\n",
    "for epoch in range(num_epochs): \n",
    "    \n",
    "    #looping over batches\n",
    "    for i, (images, labels) in enumerate(train_loader): #enumerate function gives us the actual index\n",
    "        #first, have to reshape the images because it is 100, 1, 28, 28 and input size is 784\n",
    "        #thus our tensor needs the size 100 (batch size) and 784 (28x28)\n",
    "        images = images.reshape(-1, 28*28).to(device) #we put -1 as the first dimension so tensor can find it out \n",
    "        #automatically for us\n",
    "        labels = labels.to(device)\n",
    "        \n",
    "        #forward pass \n",
    "        outputs = model(images)\n",
    "        #loss - takes the predicted values (outputs) and labels (actual values)\n",
    "        loss = criterion(outputs, labels)\n",
    "        \n",
    "        #backward pass\n",
    "        optimizer.zero_grad() #to empty the values in the gradient attribute\n",
    "        #backpropagation\n",
    "        loss.backward()\n",
    "        #update step - update the parameters\n",
    "        optimizer.step()\n",
    "        \n",
    "        if (i+1) % 100 == 0: #every 100th step we want to print information\n",
    "            print (f'Epoch [{epoch+1}/{num_epochs}], Step [{i+1}/{n_total_steps}], Loss: {loss.item():.4f}')"
   ]
  },
  {
   "cell_type": "markdown",
   "id": "c3f7c669",
   "metadata": {},
   "source": [
    "Now, to create the test loop and evaluate the accuracy. "
   ]
  },
  {
   "cell_type": "code",
   "execution_count": 29,
   "id": "8120536a",
   "metadata": {},
   "outputs": [
    {
     "name": "stdout",
     "output_type": "stream",
     "text": [
      "Accuracy of the network on the 10000 test images: 97.05 %\n"
     ]
    }
   ],
   "source": [
    "#we do not want to compute the gradient for all the steps we do\n",
    "with torch.no_grad():\n",
    "    n_correct = 0\n",
    "    n_samples = 0\n",
    "    #loop over batches in the test samples\n",
    "    for images, labels in test_loader:\n",
    "        #now we must reshape this\n",
    "        images = images.reshape(-1, 28*28).to(device) #we put -1 as the first dimension so tensor can find it out \n",
    "        #automatically for us\n",
    "        labels = labels.to(device)\n",
    "        #calculate the predictions \n",
    "        outputs = model(images)\n",
    "        \n",
    "        #getting the actual predictions\n",
    "        _, predicted = torch.max(outputs.data, 1) #torch.max() will return the value and index, but we are interested in the index\n",
    "        #this is why we do not need the first actual value, hence the _,\n",
    "        n_samples += labels.size(0) #give us the number of samples in the current batch\n",
    "        n_correct += (predicted == labels).sum().item() #for each correct prediction, we will add +1\n",
    "    \n",
    "    #now, when the loop is done, we will calculate the total accuracy\n",
    "    acc = 100.0 * n_correct / n_samples\n",
    "    print(f'Accuracy of the network on the 10000 test images: {acc} %')"
   ]
  }
 ],
 "metadata": {
  "kernelspec": {
   "display_name": "Python 3 (ipykernel)",
   "language": "python",
   "name": "python3"
  },
  "language_info": {
   "codemirror_mode": {
    "name": "ipython",
    "version": 3
   },
   "file_extension": ".py",
   "mimetype": "text/x-python",
   "name": "python",
   "nbconvert_exporter": "python",
   "pygments_lexer": "ipython3",
   "version": "3.10.4"
  }
 },
 "nbformat": 4,
 "nbformat_minor": 5
}
