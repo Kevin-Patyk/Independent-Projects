{
 "cells": [
  {
   "cell_type": "markdown",
   "id": "99756629",
   "metadata": {},
   "source": [
    "# Tensor Basics"
   ]
  },
  {
   "cell_type": "markdown",
   "id": "ba8e9bf3",
   "metadata": {},
   "source": [
    "In this tutorial, we will learn to work with tensors. We will learn what tensors are, some basic operations, converting from `numpy` arrays to tensors and back, etc."
   ]
  },
  {
   "cell_type": "markdown",
   "id": "473b85a5",
   "metadata": {},
   "source": [
    "In `pytorch`, everything is based on tensor operations. A tensor can have different dimensions. It can be 1D, 2D, 3D, or more."
   ]
  },
  {
   "cell_type": "markdown",
   "id": "d831b7e4",
   "metadata": {},
   "source": [
    "First, we will import `torch`."
   ]
  },
  {
   "cell_type": "code",
   "execution_count": 1,
   "id": "0fbe20ab",
   "metadata": {},
   "outputs": [],
   "source": [
    "import torch"
   ]
  },
  {
   "cell_type": "markdown",
   "id": "5b3c7f09",
   "metadata": {},
   "source": [
    "Then we will make a tensor of size 1, like a scalar value, and print it. "
   ]
  },
  {
   "cell_type": "code",
   "execution_count": 3,
   "id": "c07e57ae",
   "metadata": {},
   "outputs": [
    {
     "name": "stdout",
     "output_type": "stream",
     "text": [
      "tensor([0.])\n"
     ]
    }
   ],
   "source": [
    "x = torch.empty(1)\n",
    "print(x)"
   ]
  },
  {
   "cell_type": "markdown",
   "id": "fe0b3985",
   "metadata": {},
   "source": [
    "If we change the size to 3, it will be like a 1D vector with 3 elements."
   ]
  },
  {
   "cell_type": "code",
   "execution_count": 4,
   "id": "f1a7114a",
   "metadata": {},
   "outputs": [
    {
     "name": "stdout",
     "output_type": "stream",
     "text": [
      "tensor([0., 0., 0.])\n"
     ]
    }
   ],
   "source": [
    "x = torch.empty(3)\n",
    "print(x)"
   ]
  },
  {
   "cell_type": "markdown",
   "id": "1bf7d388",
   "metadata": {},
   "source": [
    "We can also make the tensor 2D. So, if we wanted to make a 2x3 (2 rows, 3 columns) matrix, it would look like:"
   ]
  },
  {
   "cell_type": "code",
   "execution_count": 5,
   "id": "a797e545",
   "metadata": {},
   "outputs": [
    {
     "name": "stdout",
     "output_type": "stream",
     "text": [
      "tensor([[0.0000e+00, 0.0000e+00, 0.0000e+00],\n",
      "        [0.0000e+00, 0.0000e+00, 1.6114e-19]])\n"
     ]
    }
   ],
   "source": [
    "x = torch.empty(2, 3)\n",
    "print(x)"
   ]
  },
  {
   "cell_type": "markdown",
   "id": "61987195",
   "metadata": {},
   "source": [
    "You can keep adding dimensions onto the tensor to make it 3D, 4D, etc. "
   ]
  },
  {
   "cell_type": "markdown",
   "id": "4fc6b501",
   "metadata": {},
   "source": [
    "You can create a tensor with random values using the code below. It will make a 2x2 matrix."
   ]
  },
  {
   "cell_type": "code",
   "execution_count": 6,
   "id": "6df2a71a",
   "metadata": {},
   "outputs": [
    {
     "name": "stdout",
     "output_type": "stream",
     "text": [
      "tensor([[0.0601, 0.8997],\n",
      "        [0.6243, 0.9113]])\n"
     ]
    }
   ],
   "source": [
    "x = torch.rand(2, 2)\n",
    "print(x)"
   ]
  },
  {
   "cell_type": "markdown",
   "id": "cb10180b",
   "metadata": {},
   "source": [
    "You can make a tensor containing only zeros, just like with `numpy`. This is done using the code below:"
   ]
  },
  {
   "cell_type": "code",
   "execution_count": 8,
   "id": "c6536546",
   "metadata": {},
   "outputs": [
    {
     "name": "stdout",
     "output_type": "stream",
     "text": [
      "tensor([[0., 0.],\n",
      "        [0., 0.]])\n"
     ]
    }
   ],
   "source": [
    "x = torch.zeros(2,2)\n",
    "print(x)"
   ]
  },
  {
   "cell_type": "markdown",
   "id": "ce0ba3ba",
   "metadata": {},
   "source": [
    "You can make a tensor containing only ones. This is done using the code below:"
   ]
  },
  {
   "cell_type": "code",
   "execution_count": 9,
   "id": "674ba866",
   "metadata": {},
   "outputs": [
    {
     "name": "stdout",
     "output_type": "stream",
     "text": [
      "tensor([[1., 1.],\n",
      "        [1., 1.]])\n"
     ]
    }
   ],
   "source": [
    "x = torch.ones(2,2)\n",
    "print(x)"
   ]
  },
  {
   "cell_type": "markdown",
   "id": "ce31f734",
   "metadata": {},
   "source": [
    "You can also give a tensor a specific data type. You can check the specific data type of an object using:"
   ]
  },
  {
   "cell_type": "code",
   "execution_count": 10,
   "id": "a8b2c57a",
   "metadata": {},
   "outputs": [
    {
     "name": "stdout",
     "output_type": "stream",
     "text": [
      "torch.float32\n"
     ]
    }
   ],
   "source": [
    "x = torch.ones(2,2)\n",
    "print(x.dtype)"
   ]
  },
  {
   "cell_type": "markdown",
   "id": "50820809",
   "metadata": {},
   "source": [
    "By default, it is a `float32`. However, we can pass the `dtype =` argument when making a tensor to assign it a specific data type:"
   ]
  },
  {
   "cell_type": "code",
   "execution_count": 11,
   "id": "953fa369",
   "metadata": {},
   "outputs": [
    {
     "name": "stdout",
     "output_type": "stream",
     "text": [
      "torch.int32\n"
     ]
    }
   ],
   "source": [
    "x = torch.ones(2,2, dtype = torch.int)\n",
    "print(x.dtype)"
   ]
  },
  {
   "cell_type": "markdown",
   "id": "f72c1967",
   "metadata": {},
   "source": [
    "You can also use `dtype = torch.double`, `torch.float16`, and others. "
   ]
  },
  {
   "cell_type": "markdown",
   "id": "0edc288b",
   "metadata": {},
   "source": [
    "You can check the size of a tensor by using the function `size()`:"
   ]
  },
  {
   "cell_type": "code",
   "execution_count": 12,
   "id": "4c738885",
   "metadata": {},
   "outputs": [
    {
     "name": "stdout",
     "output_type": "stream",
     "text": [
      "torch.Size([2, 2])\n"
     ]
    }
   ],
   "source": [
    "x = torch.ones(2,2, dtype = torch.int)\n",
    "print(x.size())"
   ]
  },
  {
   "cell_type": "markdown",
   "id": "8f65772a",
   "metadata": {},
   "source": [
    "You can construct a tensor from data, such as a `Python` list. This is done by putting the list inside of `torch.tensor()`."
   ]
  },
  {
   "cell_type": "code",
   "execution_count": 13,
   "id": "8da99fa0",
   "metadata": {},
   "outputs": [
    {
     "name": "stdout",
     "output_type": "stream",
     "text": [
      "tensor([2.5000, 0.1000])\n"
     ]
    }
   ],
   "source": [
    "x = torch.tensor([2.5, 0.1])\n",
    "print(x)"
   ]
  },
  {
   "cell_type": "markdown",
   "id": "0ebf8af7",
   "metadata": {},
   "source": [
    "Now we will discuss some basic operations we can do between tensors. First, we will make 2 2D tensors with random values."
   ]
  },
  {
   "cell_type": "code",
   "execution_count": 14,
   "id": "9c7b379c",
   "metadata": {},
   "outputs": [
    {
     "name": "stdout",
     "output_type": "stream",
     "text": [
      "tensor([[0.2747, 0.8900],\n",
      "        [0.8235, 0.6036]])\n",
      "tensor([[0.7550, 0.9691],\n",
      "        [0.2407, 0.9201]])\n"
     ]
    }
   ],
   "source": [
    "x = torch.rand(2,2)\n",
    "y = torch.rand(2,2)\n",
    "print(x)\n",
    "print(y)"
   ]
  },
  {
   "cell_type": "markdown",
   "id": "bda3d55c",
   "metadata": {},
   "source": [
    "You can do many operations between tensors. The first is addition, which will do element-wise addition. It adds up each of the entries. This can be done manually or with `torch.add()`."
   ]
  },
  {
   "cell_type": "code",
   "execution_count": 17,
   "id": "53f8f2bd",
   "metadata": {},
   "outputs": [
    {
     "name": "stdout",
     "output_type": "stream",
     "text": [
      "tensor([[1.2900, 0.6404],\n",
      "        [1.1299, 1.1490]])\n",
      "tensor([[1.2900, 0.6404],\n",
      "        [1.1299, 1.1490]])\n"
     ]
    }
   ],
   "source": [
    "x = torch.rand(2,2)\n",
    "y = torch.rand(2,2)\n",
    "\n",
    "z = x + y\n",
    "print(z)\n",
    "\n",
    "w = torch.add(x,y)\n",
    "print(w)"
   ]
  },
  {
   "cell_type": "markdown",
   "id": "9ace8a97",
   "metadata": {},
   "source": [
    "You can also do an in-place addition. You can add all of the elements of `x` into `y`, modifying the `y` in the process."
   ]
  },
  {
   "cell_type": "code",
   "execution_count": 18,
   "id": "8cd2ec69",
   "metadata": {},
   "outputs": [
    {
     "name": "stdout",
     "output_type": "stream",
     "text": [
      "tensor([[0.9138, 1.3466],\n",
      "        [1.1997, 0.7422]])\n"
     ]
    }
   ],
   "source": [
    "x = torch.rand(2,2)\n",
    "y = torch.rand(2,2)\n",
    "\n",
    "y.add_(x)\n",
    "print(y)"
   ]
  },
  {
   "cell_type": "markdown",
   "id": "60061877",
   "metadata": {},
   "source": [
    "As a note, in `pytorch`, every function that has a trailing underscore, such as `.add_`, will do an in place operation. It will modify the variable that it is applied on. "
   ]
  },
  {
   "cell_type": "markdown",
   "id": "7d72cec6",
   "metadata": {},
   "source": [
    "You can also do subtraction, which will do element-wise subtraction. It subtracts each of the entries. This can be done manually or with `torch.sub()`."
   ]
  },
  {
   "cell_type": "code",
   "execution_count": 19,
   "id": "59f8750f",
   "metadata": {
    "scrolled": true
   },
   "outputs": [
    {
     "name": "stdout",
     "output_type": "stream",
     "text": [
      "tensor([[-0.5924, -0.3539],\n",
      "        [-0.1132,  0.0298]])\n",
      "tensor([[-0.5924, -0.3539],\n",
      "        [-0.1132,  0.0298]])\n"
     ]
    }
   ],
   "source": [
    "x = torch.rand(2,2)\n",
    "y = torch.rand(2,2)\n",
    "\n",
    "z = x - y\n",
    "print(z)\n",
    "\n",
    "w = torch.sub(x,y)\n",
    "print(w)"
   ]
  },
  {
   "cell_type": "markdown",
   "id": "7d576cb9",
   "metadata": {},
   "source": [
    "You can also do multiplication, which will do element-wise multiplication. It will multiply each of the entries. This can be done manually or with `torch.mul()`."
   ]
  },
  {
   "cell_type": "code",
   "execution_count": 20,
   "id": "e0da5dd0",
   "metadata": {},
   "outputs": [
    {
     "name": "stdout",
     "output_type": "stream",
     "text": [
      "tensor([[0.0463, 0.3065],\n",
      "        [0.4455, 0.0703]])\n",
      "tensor([[0.0463, 0.3065],\n",
      "        [0.4455, 0.0703]])\n"
     ]
    }
   ],
   "source": [
    "x = torch.rand(2,2)\n",
    "y = torch.rand(2,2)\n",
    "\n",
    "z = x * y\n",
    "print(z)\n",
    "\n",
    "w = torch.mul(x,y)\n",
    "print(w)"
   ]
  },
  {
   "cell_type": "markdown",
   "id": "ecc9fcf5",
   "metadata": {},
   "source": [
    "And, if we wanted to do an in-place multiplication, it would look like:"
   ]
  },
  {
   "cell_type": "code",
   "execution_count": 22,
   "id": "6ecfb022",
   "metadata": {},
   "outputs": [
    {
     "name": "stdout",
     "output_type": "stream",
     "text": [
      "tensor([[0.1285, 0.1492],\n",
      "        [0.1943, 0.2578]])\n"
     ]
    }
   ],
   "source": [
    "x = torch.rand(2,2)\n",
    "y = torch.rand(2,2)\n",
    "\n",
    "y.mul_(x)\n",
    "print(y)"
   ]
  },
  {
   "cell_type": "markdown",
   "id": "a382a322",
   "metadata": {},
   "source": [
    "You can also do devision, which will do element-wise division. It will divide each of the entries. This can be done manually or with `torch.div()`."
   ]
  },
  {
   "cell_type": "code",
   "execution_count": null,
   "id": "d50959d4",
   "metadata": {},
   "outputs": [],
   "source": [
    "x = torch.rand(2,2)\n",
    "y = torch.rand(2,2)\n",
    "\n",
    "z = x / y\n",
    "print(z)\n",
    "\n",
    "w = torch.div(x,y)\n",
    "print(w)"
   ]
  },
  {
   "cell_type": "markdown",
   "id": "c1bcf208",
   "metadata": {},
   "source": [
    "And you can, of course, do in-place division:"
   ]
  },
  {
   "cell_type": "code",
   "execution_count": 24,
   "id": "cea72aca",
   "metadata": {},
   "outputs": [
    {
     "name": "stdout",
     "output_type": "stream",
     "text": [
      "tensor([[1.1077, 0.3678],\n",
      "        [1.0812, 1.4758]])\n"
     ]
    }
   ],
   "source": [
    "x = torch.rand(2,2)\n",
    "y = torch.rand(2,2)\n",
    "\n",
    "y.div_(x)\n",
    "print(y)"
   ]
  },
  {
   "cell_type": "markdown",
   "id": "8cc98e6b",
   "metadata": {},
   "source": [
    "In addition to doing basic operations with tensors, we can also do tensor slicing operations. So, let's say we have a tensor of size 5x3:"
   ]
  },
  {
   "cell_type": "code",
   "execution_count": 25,
   "id": "4ebaaf30",
   "metadata": {},
   "outputs": [
    {
     "name": "stdout",
     "output_type": "stream",
     "text": [
      "tensor([[0.3222, 0.0047, 0.8137],\n",
      "        [0.1282, 0.7502, 0.2362],\n",
      "        [0.2459, 0.2942, 0.9547],\n",
      "        [0.6297, 0.1408, 0.8585],\n",
      "        [0.3333, 0.1490, 0.1283]])\n"
     ]
    }
   ],
   "source": [
    "x = torch.rand(5,3)\n",
    "print(x)"
   ]
  },
  {
   "cell_type": "markdown",
   "id": "2b38c8d6",
   "metadata": {},
   "source": [
    "So, if we want to get all the rows but only one column with the code below. The colon in the brackets `[:, ]` means we are selecting all the rows. If we also wanted all the columns, the colon would move to the other side: `[, :]`. "
   ]
  },
  {
   "cell_type": "code",
   "execution_count": 27,
   "id": "c088df9a",
   "metadata": {},
   "outputs": [
    {
     "name": "stdout",
     "output_type": "stream",
     "text": [
      "tensor([[0.0208, 0.2400, 0.3460],\n",
      "        [0.3208, 0.8719, 0.7479],\n",
      "        [0.1332, 0.3393, 0.1753],\n",
      "        [0.7737, 0.7082, 0.0862],\n",
      "        [0.6120, 0.2471, 0.2916]])\n",
      "tensor([0.0208, 0.3208, 0.1332, 0.7737, 0.6120])\n"
     ]
    }
   ],
   "source": [
    "x = torch.rand(5,3)\n",
    "print(x)\n",
    "print(x[:, 0])"
   ]
  },
  {
   "cell_type": "markdown",
   "id": "14e8915f",
   "metadata": {},
   "source": [
    "To select row number one and all columns, you would do: (as a note, this will print the second row, since indexing in Python starts 0)"
   ]
  },
  {
   "cell_type": "code",
   "execution_count": 29,
   "id": "b95aef71",
   "metadata": {},
   "outputs": [
    {
     "name": "stdout",
     "output_type": "stream",
     "text": [
      "tensor([[0.7469, 0.7364, 0.2348],\n",
      "        [0.9669, 0.0319, 0.6656],\n",
      "        [0.1240, 0.2883, 0.2759],\n",
      "        [0.3018, 0.0395, 0.8819],\n",
      "        [0.6598, 0.5116, 0.1011]])\n",
      "tensor([0.9669, 0.0319, 0.6656])\n"
     ]
    }
   ],
   "source": [
    "x = torch.rand(5,3)\n",
    "print(x)\n",
    "print(x[1, :])"
   ]
  },
  {
   "cell_type": "markdown",
   "id": "5a3eacf7",
   "metadata": {},
   "source": [
    "To print a single element at position 1, 1:"
   ]
  },
  {
   "cell_type": "code",
   "execution_count": 30,
   "id": "c5054433",
   "metadata": {},
   "outputs": [
    {
     "name": "stdout",
     "output_type": "stream",
     "text": [
      "tensor([[0.7434, 0.7496, 0.2833],\n",
      "        [0.2401, 0.8853, 0.8996],\n",
      "        [0.1145, 0.2007, 0.6705],\n",
      "        [0.7648, 0.5765, 0.2334],\n",
      "        [0.7602, 0.3160, 0.2194]])\n",
      "tensor(0.8853)\n"
     ]
    }
   ],
   "source": [
    "x = torch.rand(5,3)\n",
    "print(x)\n",
    "print(x[1, 1])"
   ]
  },
  {
   "cell_type": "markdown",
   "id": "ed629186",
   "metadata": {},
   "source": [
    "As we see above, the slicing prints a tensor rather than the single value. To print the actual value and not a tensor, you can do:"
   ]
  },
  {
   "cell_type": "code",
   "execution_count": 31,
   "id": "36a81c76",
   "metadata": {},
   "outputs": [
    {
     "name": "stdout",
     "output_type": "stream",
     "text": [
      "tensor([[0.1424, 0.1685, 0.6989],\n",
      "        [0.0344, 0.5201, 0.3753],\n",
      "        [0.7418, 0.6525, 0.3286],\n",
      "        [0.7700, 0.3047, 0.7777],\n",
      "        [0.1306, 0.3025, 0.3821]])\n",
      "0.5200650095939636\n"
     ]
    }
   ],
   "source": [
    "x = torch.rand(5,3)\n",
    "print(x)\n",
    "print(x[1, 1].item())"
   ]
  },
  {
   "cell_type": "markdown",
   "id": "86f826fd",
   "metadata": {},
   "source": [
    "As a note, you can only use this method if you have one element in the tensor. "
   ]
  },
  {
   "cell_type": "markdown",
   "id": "10fb77c7",
   "metadata": {},
   "source": [
    "Now, we will talk about reshaping a tensor. So, let's say we have a tensor with size 4x4:"
   ]
  },
  {
   "cell_type": "code",
   "execution_count": 32,
   "id": "82c2305e",
   "metadata": {},
   "outputs": [
    {
     "name": "stdout",
     "output_type": "stream",
     "text": [
      "tensor([[0.6477, 0.3123, 0.8341, 0.1238],\n",
      "        [0.6051, 0.5037, 0.1787, 0.5225],\n",
      "        [0.9020, 0.5154, 0.3734, 0.4030],\n",
      "        [0.0902, 0.9430, 0.8340, 0.6917]])\n"
     ]
    }
   ],
   "source": [
    "x = torch.rand(4,4)\n",
    "print(x)"
   ]
  },
  {
   "cell_type": "markdown",
   "id": "a242e469",
   "metadata": {},
   "source": [
    "If you want to reshape it, you can call the `.view()` method. In this example, it will turn the 4x4 tensor into a 1D vector."
   ]
  },
  {
   "cell_type": "code",
   "execution_count": 33,
   "id": "191d048f",
   "metadata": {},
   "outputs": [
    {
     "name": "stdout",
     "output_type": "stream",
     "text": [
      "tensor([[0.1952, 0.2690, 0.2322, 0.4032],\n",
      "        [0.9568, 0.2345, 0.3647, 0.2700],\n",
      "        [0.0770, 0.9685, 0.6735, 0.6144],\n",
      "        [0.7067, 0.7158, 0.7546, 0.4169]])\n",
      "tensor([0.1952, 0.2690, 0.2322, 0.4032, 0.9568, 0.2345, 0.3647, 0.2700, 0.0770,\n",
      "        0.9685, 0.6735, 0.6144, 0.7067, 0.7158, 0.7546, 0.4169])\n"
     ]
    }
   ],
   "source": [
    "x = torch.rand(4,4)\n",
    "print(x)\n",
    "\n",
    "y = x.view(16)\n",
    "print(y)"
   ]
  },
  {
   "cell_type": "markdown",
   "id": "c5a4ac14",
   "metadata": {},
   "source": [
    "The number of elements must still be the same when reshaping a tensor. So, in the example above, we have a 4x4 tensor, which is 16 elements, thus when we reshape, we should have 16."
   ]
  },
  {
   "cell_type": "markdown",
   "id": "896e4dba",
   "metadata": {},
   "source": [
    "However, if we want to remove a value in 1 dimension, we can simply say -1 and specify the other dimension. `pytorch` will automatically determine the right size for it."
   ]
  },
  {
   "cell_type": "code",
   "execution_count": 36,
   "id": "6aced365",
   "metadata": {},
   "outputs": [
    {
     "name": "stdout",
     "output_type": "stream",
     "text": [
      "tensor([[0.1375, 0.8445, 0.9895, 0.5082],\n",
      "        [0.5784, 0.7246, 0.2125, 0.2004],\n",
      "        [0.0809, 0.4977, 0.6042, 0.2517],\n",
      "        [0.7268, 0.1380, 0.0173, 0.4146]])\n",
      "tensor([[0.1375, 0.8445, 0.9895, 0.5082, 0.5784, 0.7246, 0.2125, 0.2004],\n",
      "        [0.0809, 0.4977, 0.6042, 0.2517, 0.7268, 0.1380, 0.0173, 0.4146]])\n",
      "torch.Size([2, 8])\n"
     ]
    }
   ],
   "source": [
    "x = torch.rand(4,4)\n",
    "print(x)\n",
    "\n",
    "y = x.view(-1, 8)\n",
    "print(y)\n",
    "\n",
    "print(y.size())"
   ]
  },
  {
   "cell_type": "markdown",
   "id": "a76458a7",
   "metadata": {},
   "source": [
    "And, as another example:"
   ]
  },
  {
   "cell_type": "code",
   "execution_count": 39,
   "id": "d546d539",
   "metadata": {},
   "outputs": [
    {
     "name": "stdout",
     "output_type": "stream",
     "text": [
      "tensor([[0.1670, 0.6221, 0.4145, 0.1484],\n",
      "        [0.4753, 0.4731, 0.5683, 0.7236],\n",
      "        [0.6730, 0.6247, 0.4929, 0.0475],\n",
      "        [0.7871, 0.4624, 0.5697, 0.3129]])\n",
      "tensor([[0.1670, 0.6221],\n",
      "        [0.4145, 0.1484],\n",
      "        [0.4753, 0.4731],\n",
      "        [0.5683, 0.7236],\n",
      "        [0.6730, 0.6247],\n",
      "        [0.4929, 0.0475],\n",
      "        [0.7871, 0.4624],\n",
      "        [0.5697, 0.3129]])\n",
      "torch.Size([8, 2])\n"
     ]
    }
   ],
   "source": [
    "x = torch.rand(4,4)\n",
    "print(x)\n",
    "\n",
    "y = x.view(-1, 2)\n",
    "print(y)\n",
    "\n",
    "print(y.size())"
   ]
  },
  {
   "cell_type": "markdown",
   "id": "9cd80fa6",
   "metadata": {},
   "source": [
    "Now, we will talk about converting between a `numpy` array and tensors."
   ]
  },
  {
   "cell_type": "markdown",
   "id": "0a098cd4",
   "metadata": {},
   "source": [
    "First, lets import `numpy`."
   ]
  },
  {
   "cell_type": "code",
   "execution_count": 40,
   "id": "f2920b7f",
   "metadata": {},
   "outputs": [],
   "source": [
    "import numpy as np"
   ]
  },
  {
   "cell_type": "markdown",
   "id": "c19f5547",
   "metadata": {},
   "source": [
    "Now, let's convert between a `numpy` array and tensor. First, from tensor to `numpy` array."
   ]
  },
  {
   "cell_type": "code",
   "execution_count": 43,
   "id": "4da28c22",
   "metadata": {},
   "outputs": [
    {
     "name": "stdout",
     "output_type": "stream",
     "text": [
      "tensor([1., 1., 1., 1., 1.])\n",
      "[1. 1. 1. 1. 1.]\n",
      "<class 'numpy.ndarray'>\n"
     ]
    }
   ],
   "source": [
    "a = torch.ones(5)\n",
    "print(a)\n",
    "\n",
    "b = a.numpy()\n",
    "print(b)\n",
    "\n",
    "print(type(b))"
   ]
  },
  {
   "cell_type": "markdown",
   "id": "018051f6",
   "metadata": {},
   "source": [
    "Now, we have to be careful because, if the tensor is on the CPU rather than the GPU, then both objects will sahre the same memory location. This means that, if we change one, then we will also change the other.  "
   ]
  },
  {
   "cell_type": "markdown",
   "id": "5d75f694",
   "metadata": {},
   "source": [
    "So, for example, if we modify `a` or `b` in-place, they will both change:"
   ]
  },
  {
   "cell_type": "code",
   "execution_count": 45,
   "id": "69a48adf",
   "metadata": {},
   "outputs": [
    {
     "name": "stdout",
     "output_type": "stream",
     "text": [
      "tensor([1., 1., 1., 1., 1.])\n",
      "[1. 1. 1. 1. 1.]\n",
      "tensor([2., 2., 2., 2., 2.])\n",
      "[2. 2. 2. 2. 2.]\n"
     ]
    }
   ],
   "source": [
    "a = torch.ones(5)\n",
    "print(a)\n",
    "\n",
    "b = a.numpy()\n",
    "print(b)\n",
    "\n",
    "a.add_(1)\n",
    "print(a)\n",
    "print(b)"
   ]
  },
  {
   "cell_type": "markdown",
   "id": "c0230285",
   "metadata": {},
   "source": [
    "If you have a `numpy` array and want to convert it into a tensor, you do: (this will, by default, specify the data type float64) "
   ]
  },
  {
   "cell_type": "code",
   "execution_count": 50,
   "id": "975c2a31",
   "metadata": {},
   "outputs": [
    {
     "name": "stdout",
     "output_type": "stream",
     "text": [
      "[1. 1. 1. 1. 1.]\n",
      "tensor([1., 1., 1., 1., 1.], dtype=torch.float64)\n"
     ]
    }
   ],
   "source": [
    "a = np.ones(5)\n",
    "print(a)\n",
    "\n",
    "b = torch.from_numpy(a)\n",
    "print(b)"
   ]
  },
  {
   "cell_type": "markdown",
   "id": "a2ea2eff",
   "metadata": {},
   "source": [
    "Now again we have to be careful if we modify one. If we modify the `numpy` array by incrementing each element by 1, it will also change the tensor. Remember this only happens when your tensor is on the CPU rather than the GPU."
   ]
  },
  {
   "cell_type": "code",
   "execution_count": 51,
   "id": "14f52620",
   "metadata": {},
   "outputs": [
    {
     "name": "stdout",
     "output_type": "stream",
     "text": [
      "[1. 1. 1. 1. 1.]\n",
      "tensor([1., 1., 1., 1., 1.], dtype=torch.float64)\n",
      "[2. 2. 2. 2. 2.]\n",
      "tensor([2., 2., 2., 2., 2.], dtype=torch.float64)\n"
     ]
    }
   ],
   "source": [
    "a = np.ones(5)\n",
    "print(a)\n",
    "\n",
    "b = torch.from_numpy(a)\n",
    "print(b)\n",
    "\n",
    "a += 1\n",
    "print(a)\n",
    "print(b)"
   ]
  },
  {
   "cell_type": "markdown",
   "id": "8633520f",
   "metadata": {},
   "source": [
    "You can check if CUDA is available by typing:"
   ]
  },
  {
   "cell_type": "code",
   "execution_count": 55,
   "id": "577856fc",
   "metadata": {},
   "outputs": [
    {
     "data": {
      "text/plain": [
       "False"
      ]
     },
     "execution_count": 55,
     "metadata": {},
     "output_type": "execute_result"
    }
   ],
   "source": [
    "torch.cuda.is_available()"
   ]
  },
  {
   "cell_type": "markdown",
   "id": "95dab98f",
   "metadata": {},
   "source": [
    "If you have CUDA available, you can specify the CUDA device by:\n",
    "\n",
    "`torch.cuda.is_available()\n",
    "    device = torch.device(\"cuda\")`"
   ]
  },
  {
   "cell_type": "markdown",
   "id": "a2ff5725",
   "metadata": {},
   "source": [
    "Then, we if want to create a tensor on the GPU, we can:\n",
    "\n",
    "`x = torch.ones(5, device = device)` \n",
    "\n",
    "You can also first create the tensor and then put it on the GPU:\n",
    "\n",
    "`y = torch.ones(5)\n",
    "    y = y.to(device)`"
   ]
  },
  {
   "cell_type": "markdown",
   "id": "259d3b7f",
   "metadata": {},
   "source": [
    "Now, if you do an operation, it will be done on the GPU. However, you have to be careful because you cannot convert a GPU tensor back to `numpy`. `numpy` can only work with CPU tensors. "
   ]
  },
  {
   "cell_type": "markdown",
   "id": "b02c6f62",
   "metadata": {},
   "source": [
    "So, we would have to move the tensor back to the CPU. This can be done by:\n",
    "\n",
    "`y = y.to(\"cpu\")`"
   ]
  },
  {
   "cell_type": "markdown",
   "id": "b1ef522a",
   "metadata": {},
   "source": [
    "As one last thing, a lot of times when a tensor is created, you will see the argument `requires_grad = True`. By default, it is `False`. By specifiying the argument to `True`, it will tell `pytorch` that it will need to calculate the gradients for this tensor later in your optimization steps."
   ]
  },
  {
   "cell_type": "code",
   "execution_count": 56,
   "id": "de367a28",
   "metadata": {},
   "outputs": [
    {
     "name": "stdout",
     "output_type": "stream",
     "text": [
      "tensor([1., 1., 1., 1., 1.], requires_grad=True)\n"
     ]
    }
   ],
   "source": [
    "x = torch.ones(5, requires_grad = True)\n",
    "print(x)"
   ]
  },
  {
   "cell_type": "markdown",
   "id": "167ee296",
   "metadata": {},
   "source": [
    "Whenever you have a variable in your model that you want to optimize, then you need the gradients, so you need to specify this argument. We will talk about this more in the next tutorial. "
   ]
  }
 ],
 "metadata": {
  "kernelspec": {
   "display_name": "Python 3 (ipykernel)",
   "language": "python",
   "name": "python3"
  },
  "language_info": {
   "codemirror_mode": {
    "name": "ipython",
    "version": 3
   },
   "file_extension": ".py",
   "mimetype": "text/x-python",
   "name": "python",
   "nbconvert_exporter": "python",
   "pygments_lexer": "ipython3",
   "version": "3.10.4"
  }
 },
 "nbformat": 4,
 "nbformat_minor": 5
}
