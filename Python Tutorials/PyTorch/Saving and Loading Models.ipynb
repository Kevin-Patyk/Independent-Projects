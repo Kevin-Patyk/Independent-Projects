{
 "cells": [
  {
   "cell_type": "markdown",
   "id": "097d8a82",
   "metadata": {},
   "source": [
    "# Saving and Loading Models"
   ]
  },
  {
   "cell_type": "markdown",
   "id": "a6bd4809",
   "metadata": {},
   "source": [
    "Today we are going to learn about saving and loading models in `pytorch`. First, let's import our modules."
   ]
  },
  {
   "cell_type": "code",
   "execution_count": 1,
   "id": "010e5109",
   "metadata": {},
   "outputs": [],
   "source": [
    "import torch\n",
    "import torch.nn as nn"
   ]
  },
  {
   "cell_type": "markdown",
   "id": "922b846c",
   "metadata": {},
   "source": [
    "We have 3 different methods to remember:\n",
    "\n",
    "This makes use of the `pickle` model to serialize the objects and save. The results are serialized and are not human readable.\n",
    "* `torch.save(arg, PATH) # can be model, tensor, or dictionary`\n",
    "\n",
    "This will load our model.\n",
    "* `torch.load(PATH)`\n",
    "* `torch.load_state_dict(arg)`\n",
    "\n",
    "\n",
    "We have 2 different ways of saving the model:\n",
    "\n",
    "* Lazy way: save whole model\n",
    "* `torch.save(model, PATH)`\n",
    "\n",
    "The model class must be defined somewhere:\n",
    "* `model = torch.load(PATH)`\n",
    "* `model.eval()`\n",
    "\n",
    "The above method is imperfect because the serialized data are bound to specific classes in the exact directory structure when the model is saved.\n",
    "\n",
    "-----\n",
    "\n",
    "* Recommended way: save only the state_dict\n",
    "This will save only the parameteres, so we can use the model for inference later.\n",
    "*`torch.save(model.state_dict(), PATH)`\n",
    "\n",
    "The model must be created again with parameters\n",
    "* `model = Model(*args, **kwargs)`\n",
    "* `model.load_state_dict(torch.load(PATH))`\n",
    "* `model.eval()`\n",
    "\n",
    "We will go into all 3 of these in more detail."
   ]
  },
  {
   "cell_type": "markdown",
   "id": "7d141f8b",
   "metadata": {},
   "source": [
    "Defining and creating the model."
   ]
  },
  {
   "cell_type": "code",
   "execution_count": 2,
   "id": "13819cef",
   "metadata": {},
   "outputs": [],
   "source": [
    "class Model(nn.Module):\n",
    "    def __init__(self, n_input_features):\n",
    "        super(Model, self).__init__()\n",
    "        self.linear = nn.Linear(n_input_features, 1)\n",
    "\n",
    "    def forward(self, x):\n",
    "        y_pred = torch.sigmoid(self.linear(x))\n",
    "        return y_pred\n",
    "\n",
    "model = Model(n_input_features=6)\n",
    "# train your model..."
   ]
  },
  {
   "cell_type": "markdown",
   "id": "4653070b",
   "metadata": {},
   "source": [
    "Now, to save the entire model. This is the lazy option."
   ]
  },
  {
   "cell_type": "code",
   "execution_count": 3,
   "id": "b1ef0c9a",
   "metadata": {},
   "outputs": [
    {
     "name": "stdout",
     "output_type": "stream",
     "text": [
      "Parameter containing:\n",
      "tensor([[-0.1565, -0.1062, -0.2369, -0.2470,  0.3051,  0.0865]],\n",
      "       requires_grad=True)\n",
      "Parameter containing:\n",
      "tensor([-0.2555], requires_grad=True)\n",
      "Parameter containing:\n",
      "tensor([[-0.1565, -0.1062, -0.2369, -0.2470,  0.3051,  0.0865]],\n",
      "       requires_grad=True)\n",
      "Parameter containing:\n",
      "tensor([-0.2555], requires_grad=True)\n"
     ]
    }
   ],
   "source": [
    "#################### save all ######################################\n",
    "for param in model.parameters():\n",
    "    print(param)\n",
    "\n",
    "# save and load entire model\n",
    "\n",
    "FILE = \"model.pth\"\n",
    "torch.save(model, FILE)\n",
    "\n",
    "loaded_model = torch.load(FILE)\n",
    "loaded_model.eval()\n",
    "\n",
    "#inspecting the parameters \n",
    "for param in loaded_model.parameters():\n",
    "    print(param)"
   ]
  },
  {
   "cell_type": "markdown",
   "id": "4f860095",
   "metadata": {},
   "source": [
    "Now to save only the state dictionary. This is the preferred option."
   ]
  },
  {
   "cell_type": "code",
   "execution_count": 4,
   "id": "1b2baf4c",
   "metadata": {},
   "outputs": [
    {
     "name": "stdout",
     "output_type": "stream",
     "text": [
      "OrderedDict([('linear.weight', tensor([[-0.1565, -0.1062, -0.2369, -0.2470,  0.3051,  0.0865]])), ('linear.bias', tensor([-0.2555]))])\n",
      "OrderedDict([('linear.weight', tensor([[-0.1565, -0.1062, -0.2369, -0.2470,  0.3051,  0.0865]])), ('linear.bias', tensor([-0.2555]))])\n"
     ]
    }
   ],
   "source": [
    "############save only state dict #########################\n",
    "\n",
    "# save only state dict\n",
    "FILE = \"model.pth\"\n",
    "torch.save(model.state_dict(), FILE)\n",
    "\n",
    "print(model.state_dict())\n",
    "loaded_model = Model(n_input_features=6)\n",
    "loaded_model.load_state_dict(torch.load(FILE)) # it takes the loaded dictionary, not the path file itself\n",
    "loaded_model.eval()\n",
    "\n",
    "#printing the parameters of the loaded model\n",
    "print(loaded_model.state_dict())"
   ]
  },
  {
   "cell_type": "markdown",
   "id": "a9a7e973",
   "metadata": {},
   "source": [
    "Now, to save and load a checkpoint."
   ]
  },
  {
   "cell_type": "code",
   "execution_count": 5,
   "id": "a41e8cea",
   "metadata": {},
   "outputs": [
    {
     "name": "stdout",
     "output_type": "stream",
     "text": [
      "{'state': {}, 'param_groups': [{'lr': 0.01, 'momentum': 0, 'dampening': 0, 'weight_decay': 0, 'nesterov': False, 'maximize': False, 'foreach': None, 'params': [0, 1]}]}\n",
      "{'state': {}, 'param_groups': [{'lr': 0.01, 'momentum': 0, 'dampening': 0, 'weight_decay': 0, 'nesterov': False, 'maximize': False, 'foreach': None, 'params': [0, 1]}]}\n"
     ]
    }
   ],
   "source": [
    "###########load checkpoint#####################\n",
    "learning_rate = 0.01\n",
    "optimizer = torch.optim.SGD(model.parameters(), lr=learning_rate)\n",
    "\n",
    "checkpoint = {\n",
    "\"epoch\": 90,\n",
    "\"model_state\": model.state_dict(),\n",
    "\"optim_state\": optimizer.state_dict()\n",
    "}\n",
    "print(optimizer.state_dict())\n",
    "FILE = \"checkpoint.pth\"\n",
    "torch.save(checkpoint, FILE)\n",
    "\n",
    "model = Model(n_input_features=6)\n",
    "optimizer = optimizer = torch.optim.SGD(model.parameters(), lr=0)\n",
    "\n",
    "checkpoint = torch.load(FILE)\n",
    "model.load_state_dict(checkpoint['model_state'])\n",
    "optimizer.load_state_dict(checkpoint['optim_state'])\n",
    "epoch = checkpoint['epoch']\n",
    "\n",
    "model.eval()\n",
    "# - or -\n",
    "# model.train()\n",
    "\n",
    "print(optimizer.state_dict())\n",
    "\n",
    "# Remember that you must call model.eval() to set dropout and batch normalization layers \n",
    "# to evaluation mode before running inference. Failing to do this will yield \n",
    "# inconsistent inference results. If you wish to resuming training, \n",
    "# call model.train() to ensure these layers are in training mode."
   ]
  },
  {
   "cell_type": "markdown",
   "id": "3f0c3f50",
   "metadata": {},
   "source": [
    "To save on GPU/CPU, you can: \n",
    "\n",
    "* Save on GPU, Load on CPU\n",
    "\n",
    "`device = torch.device(\"cuda\")\n",
    "model.to(device)\n",
    "torch.save(model.state_dict(), PATH)\n",
    "device = torch.device('cpu')\n",
    "model = Model(*args, **kwargs)\n",
    "model.load_state_dict(torch.load(PATH, map_location=device))`\n",
    "\n",
    "* Save on GPU, Load on GPU\n",
    "\n",
    "`device = torch.device(\"cuda\")\n",
    "model.to(device)\n",
    "torch.save(model.state_dict(), PATH)\n",
    "model = Model(*args, **kwargs)\n",
    "model.load_state_dict(torch.load(PATH))\n",
    "model.to(device)`\n",
    "\n",
    "Note: Be sure to use the .to(torch.device('cuda')) function \n",
    "on all model inputs, too!\n",
    "\n",
    "* Save on CPU, Load on GPU\n",
    "\n",
    "`torch.save(model.state_dict(), PATH)\n",
    "device = torch.device(\"cuda\")\n",
    "model = Model(*args, **kwargs)\n",
    "model.load_state_dict(torch.load(PATH, map_location=\"cuda:0\"))  # Choose whatever GPU device number you want\n",
    "model.to(device)`\n",
    "\n",
    "This loads the model to a given GPU device. \n",
    "Next, be sure to call model.to(torch.device('cuda')) to convert the model’s parameter tensors to CUDA tensors"
   ]
  }
 ],
 "metadata": {
  "kernelspec": {
   "display_name": "Python 3 (ipykernel)",
   "language": "python",
   "name": "python3"
  },
  "language_info": {
   "codemirror_mode": {
    "name": "ipython",
    "version": 3
   },
   "file_extension": ".py",
   "mimetype": "text/x-python",
   "name": "python",
   "nbconvert_exporter": "python",
   "pygments_lexer": "ipython3",
   "version": "3.10.4"
  }
 },
 "nbformat": 4,
 "nbformat_minor": 5
}
