{
 "cells": [
  {
   "cell_type": "markdown",
   "id": "459c2e17",
   "metadata": {},
   "source": [
    "# Logistic Regression"
   ]
  },
  {
   "cell_type": "markdown",
   "id": "15f44ad7",
   "metadata": {},
   "source": [
    "In this video, we will be performing a logistic regression with `pytorch`. We will follow the same steps as the linear regression tutorial:\n",
    "\n",
    "* Forward pass: Design model (input size, output size)\n",
    "* Construct the loss and optimizer\n",
    "* Training loop\n",
    "    * Forward pass: compute prediction and loss\n",
    "    * Backward pass: gradients\n",
    "    * Update weights"
   ]
  },
  {
   "cell_type": "markdown",
   "id": "39a36018",
   "metadata": {},
   "source": [
    "The code here will be very similar to the code we made in the linear regression tutorial. However, we will add one more layer to the model and use a different loss function."
   ]
  },
  {
   "cell_type": "markdown",
   "id": "164dd769",
   "metadata": {},
   "source": [
    "First, let's import some packages."
   ]
  },
  {
   "cell_type": "code",
   "execution_count": 43,
   "id": "95ed989c",
   "metadata": {},
   "outputs": [],
   "source": [
    "import torch\n",
    "import torch.nn as nn\n",
    "import numpy as np #data transformations\n",
    "from sklearn import datasets #to make a binary classification data set\n",
    "from sklearn.preprocessing import StandardScaler #to scale our features\n",
    "from sklearn.model_selection import train_test_split #to split data into the training and testing sets"
   ]
  },
  {
   "cell_type": "markdown",
   "id": "5a35989a",
   "metadata": {},
   "source": [
    "First, we have to prepare our data."
   ]
  },
  {
   "cell_type": "code",
   "execution_count": 44,
   "id": "cef7aa7c",
   "metadata": {},
   "outputs": [
    {
     "name": "stdout",
     "output_type": "stream",
     "text": [
      "(569, 30)\n"
     ]
    }
   ],
   "source": [
    "#lets load the breast cancer data from sklearn - this is a binary classification problem\n",
    "#where we can predict the presence of breast cancer from the input features\n",
    "bc = datasets.load_breast_cancer() \n",
    "\n",
    "#defining our predictors and outcome\n",
    "X, y = bc.data, bc.target\n",
    "\n",
    "#getting the number of samples and number of features\n",
    "n_samples, n_features = X.shape\n",
    "print(X.shape) #we have 569 samples and 30 features\n",
    "\n",
    "#splitting the data into test and training sets\n",
    "X_train, X_test, y_train, y_test = train_test_split(X, y, test_size=0.2, random_state=1234)\n",
    "\n",
    "#now, we have to scale our features - we will use a standard scalar - this will make the features 0 means and unit variance\n",
    "#this is always recommended to do with logistic regression\n",
    "sc = StandardScaler()\n",
    "X_train = sc.fit_transform(X_train)\n",
    "X_test = sc.transform(X_test)"
   ]
  },
  {
   "cell_type": "markdown",
   "id": "c803dfc3",
   "metadata": {},
   "source": [
    "Now, we want to convert our data into `pytorch` tensors. "
   ]
  },
  {
   "cell_type": "code",
   "execution_count": 45,
   "id": "b98036a0",
   "metadata": {},
   "outputs": [
    {
     "name": "stdout",
     "output_type": "stream",
     "text": [
      "569 30\n"
     ]
    }
   ],
   "source": [
    "#right now, it is a double type, so we need to convert it to a float32\n",
    "X_train = torch.from_numpy(X_train.astype(np.float32))\n",
    "X_test = torch.from_numpy(X_test.astype(np.float32))\n",
    "y_train = torch.from_numpy(y_train.astype(np.float32))\n",
    "y_test = torch.from_numpy(y_test.astype(np.float32))\n",
    "\n",
    "#we have to reshape our y tensors using .view() function from pytorch to reshape the tensor\n",
    "y_train = y_train.view(y_train.shape[0], 1) #right now y only has 1 row and many columns, but we want it to have\n",
    "#only 1 columns and many rows\n",
    "y_test = y_test.view(y_test.shape[0], 1)\n",
    "\n",
    "#defining the number of samples and features\n",
    "n_samples = list(X.shape)[0]\n",
    "n_features = list(X.shape)[1]\n",
    "\n",
    "print(n_samples, n_features)"
   ]
  },
  {
   "cell_type": "markdown",
   "id": "38622b50",
   "metadata": {},
   "source": [
    "Now, we can set up the model. Our model is a linear combination of weights and a bias. In the logistic regression case, we apply a sigmoid function at the end. For this, we want to write our own class."
   ]
  },
  {
   "cell_type": "code",
   "execution_count": 46,
   "id": "4a2104d4",
   "metadata": {},
   "outputs": [],
   "source": [
    "class LogisticRegression(nn.Module):\n",
    "    \n",
    "    #first the linear layer\n",
    "    def __init__(self, n_input_features):\n",
    "        super(LogisticRegression, self).__init__()\n",
    "        self.linear = nn.Linear(n_input_features, 1) #out is 1 because we only want 1 output at the end\n",
    "    \n",
    "    #now we want to apply the sigmoid function\n",
    "    def forward(self, x):\n",
    "        y_predicted = torch.sigmoid(self.linear(x))\n",
    "        return y_predicted\n",
    "\n",
    "model = LogisticRegression(n_features)        "
   ]
  },
  {
   "cell_type": "markdown",
   "id": "96b710e3",
   "metadata": {},
   "source": [
    "Now, we will define the loss and construct the optimizer."
   ]
  },
  {
   "cell_type": "code",
   "execution_count": 47,
   "id": "400ab1fa",
   "metadata": {},
   "outputs": [],
   "source": [
    "#defining the learning rate\n",
    "learning_rate = 0.01\n",
    "\n",
    "#defining the loss function\n",
    "criterion = nn.BCELoss() #binary cross entropy loss\n",
    "optimizer = torch.optim.SGD(model.parameters(), lr = learning_rate)"
   ]
  },
  {
   "cell_type": "markdown",
   "id": "befe3a6a",
   "metadata": {},
   "source": [
    "Now, do to do the training loop:"
   ]
  },
  {
   "cell_type": "code",
   "execution_count": 48,
   "id": "8536acc3",
   "metadata": {},
   "outputs": [
    {
     "name": "stdout",
     "output_type": "stream",
     "text": [
      "epoch: 10, loss = 0.4750\n",
      "epoch: 20, loss = 0.4174\n",
      "epoch: 30, loss = 0.3752\n",
      "epoch: 40, loss = 0.3428\n",
      "epoch: 50, loss = 0.3169\n",
      "epoch: 60, loss = 0.2958\n",
      "epoch: 70, loss = 0.2781\n",
      "epoch: 80, loss = 0.2631\n",
      "epoch: 90, loss = 0.2501\n",
      "epoch: 100, loss = 0.2388\n"
     ]
    }
   ],
   "source": [
    "#number of iterations\n",
    "num_epochs = 100\n",
    "\n",
    "#training loop\n",
    "for epoch in range(num_epochs):\n",
    "\n",
    "    #forward pass and loss\n",
    "    y_predicted = model(X_train)\n",
    "    loss = criterion(y_predicted, y_train)\n",
    "    \n",
    "    #backward pass - calculate the gradients\n",
    "    loss.backward()\n",
    "    \n",
    "    #update the weights\n",
    "    optimizer.step()\n",
    "    \n",
    "    #empty the gradient so the .grad() attribute does not have the added gradients because .backward() will do this\n",
    "    optimizer.zero_grad()\n",
    "    \n",
    "    #print information\n",
    "    if (epoch + 1) % 10 == 0:\n",
    "        print(f'epoch: {epoch+1}, loss = {loss.item():.4f}')"
   ]
  },
  {
   "cell_type": "markdown",
   "id": "5f8a17e8",
   "metadata": {},
   "source": [
    "Now, we want to evaluate our model on the testing data. The evaluation should not be part of the computational graph where we track the history."
   ]
  },
  {
   "cell_type": "code",
   "execution_count": 49,
   "id": "bdd89a5e",
   "metadata": {},
   "outputs": [
    {
     "name": "stdout",
     "output_type": "stream",
     "text": [
      "accuracy = 0.8947\n"
     ]
    }
   ],
   "source": [
    "with torch.no_grad():\n",
    "    y_predicted = model(X_test)\n",
    "    #now to convert to class labels (0, 1) - sigmoid will return values between 0 and 1 in decimals\n",
    "    y_predicted_cls = y_predicted.round() #if we did not specify the with, this would be part of our computational graph\n",
    "    \n",
    "    #accuracy calculation\n",
    "    acc = y_predicted_cls.eq(y_test).sum() / float(y_test.shape[0]) #for every correct prediction, we add + 1 \n",
    "    #and divide by the number of test samples\n",
    "    \n",
    "    print(f'accuracy = {acc:.4f}')"
   ]
  },
  {
   "cell_type": "markdown",
   "id": "d0eb3d06",
   "metadata": {},
   "source": [
    "The accuracy is 89.5%. So, our logistic regression is doing fairly well. To improve the results, you can play around with the number of iterations, the learning rate, or trying out a different optimizer."
   ]
  }
 ],
 "metadata": {
  "kernelspec": {
   "display_name": "Python 3 (ipykernel)",
   "language": "python",
   "name": "python3"
  },
  "language_info": {
   "codemirror_mode": {
    "name": "ipython",
    "version": 3
   },
   "file_extension": ".py",
   "mimetype": "text/x-python",
   "name": "python",
   "nbconvert_exporter": "python",
   "pygments_lexer": "ipython3",
   "version": "3.9.7"
  }
 },
 "nbformat": 4,
 "nbformat_minor": 5
}
