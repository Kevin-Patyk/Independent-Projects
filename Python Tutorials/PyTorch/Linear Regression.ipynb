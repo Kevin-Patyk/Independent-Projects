{
 "cells": [
  {
   "cell_type": "markdown",
   "id": "8858f63d",
   "metadata": {},
   "source": [
    "# Linear Regression"
   ]
  },
  {
   "cell_type": "markdown",
   "id": "e1fc8d4f",
   "metadata": {},
   "source": [
    "This time we are implementing linear regression. This will be a repition to apply all of the learned concepts. The typical `pytorch` pipeline costs of the following steps:\n",
    "\n",
    "* Forward pass: Design model (input size, output size)\n",
    "* Construct the loss and optimizer\n",
    "* Training loop\n",
    "    * Forward pass: compute prediction and loss\n",
    "    * Backward pass: gradients\n",
    "    * Update weights"
   ]
  },
  {
   "cell_type": "markdown",
   "id": "e615e3f0",
   "metadata": {},
   "source": [
    "First, let's import a couple of things we need."
   ]
  },
  {
   "cell_type": "code",
   "execution_count": 2,
   "id": "7d86b8b5",
   "metadata": {},
   "outputs": [],
   "source": [
    "import torch\n",
    "import torch.nn as nn\n",
    "\n",
    "#numpy for data transformations \n",
    "import numpy as np\n",
    "\n",
    "#we want to dataset a regression dataset\n",
    "from sklearn import datasets\n",
    "\n",
    "#for plotting\n",
    "import matplotlib.pyplot as plt"
   ]
  },
  {
   "cell_type": "markdown",
   "id": "59635458",
   "metadata": {},
   "source": [
    "In the first step, we are going to do prepare out data."
   ]
  },
  {
   "cell_type": "code",
   "execution_count": 8,
   "id": "6e36452c",
   "metadata": {},
   "outputs": [
    {
     "name": "stdout",
     "output_type": "stream",
     "text": [
      "100 1\n"
     ]
    }
   ],
   "source": [
    "#making a dataset for linear regression with 100 samples and one feature - right now this is a double data type\n",
    "X_numpy, y_numpy = datasets.make_regression(n_samples = 100, n_features = 1, noise = 20, random_state = 1)\n",
    "\n",
    "#converting the regression dataset into a torch tensor - we want to convert X_numpy into a float data type\n",
    "X = torch.from_numpy(X_numpy.astype(np.float32))\n",
    "\n",
    "#creating the y\n",
    "y = torch.from_numpy(y_numpy.astype(np.float32))\n",
    "#now, we have to reshape our y because it currently only has 1 row and we want to make it a column vector \n",
    "#each value in 1 row with only 1 column\n",
    "y = y.view(y.shape[0], 1)\n",
    "#view is a build in pytorch method which will reshape the tensor\n",
    "\n",
    "#defining the number of samples and features\n",
    "n_samples = list(X.shape)[0]\n",
    "n_features = list(X.shape)[1]\n",
    "\n",
    "print(n_samples, n_features)"
   ]
  },
  {
   "cell_type": "markdown",
   "id": "d7ff28f4",
   "metadata": {},
   "source": [
    "Now, we will move onto the first step, which is designing the model. In the linear regression case, this is just one layer, so we can use the built in linear model."
   ]
  },
  {
   "cell_type": "code",
   "execution_count": 9,
   "id": "adc75720",
   "metadata": {},
   "outputs": [],
   "source": [
    "#defining the input and output size\n",
    "input_size = n_features\n",
    "output_size = 1 #we only want to have 1 value for each sample we want to put in\n",
    "\n",
    "model = nn.Linear(in_features = input_size, out_features = output_size)"
   ]
  },
  {
   "cell_type": "markdown",
   "id": "ad454800",
   "metadata": {},
   "source": [
    "Now, we will do the second step, which is constructing the loss and optimizer."
   ]
  },
  {
   "cell_type": "code",
   "execution_count": 11,
   "id": "746dede2",
   "metadata": {},
   "outputs": [],
   "source": [
    "#using the MSE as the loss\n",
    "criterion = nn.MSELoss()\n",
    "\n",
    "#defining the learning rate\n",
    "learning_rate = 0.1\n",
    "\n",
    "#setting up the optimizer - using stochastic gradient descent\n",
    "optimizer = torch.optim.SGD(model.parameters(), lr = learning_rate)"
   ]
  },
  {
   "cell_type": "markdown",
   "id": "8d93c85e",
   "metadata": {},
   "source": [
    "Now, we will do the training loop."
   ]
  },
  {
   "cell_type": "code",
   "execution_count": 12,
   "id": "36b7bf28",
   "metadata": {},
   "outputs": [
    {
     "name": "stdout",
     "output_type": "stream",
     "text": [
      "epoch: 10, loss = 574.7786\n",
      "epoch: 20, loss = 340.7931\n",
      "epoch: 30, loss = 332.8533\n",
      "epoch: 40, loss = 332.5776\n",
      "epoch: 50, loss = 332.5679\n",
      "epoch: 60, loss = 332.5676\n",
      "epoch: 70, loss = 332.5675\n",
      "epoch: 80, loss = 332.5676\n",
      "epoch: 90, loss = 332.5676\n",
      "epoch: 100, loss = 332.5676\n"
     ]
    }
   ],
   "source": [
    "#defining the number of iterations\n",
    "num_epochs = 100\n",
    "\n",
    "#training loop\n",
    "for epoch in range(num_epochs):\n",
    "    \n",
    "    #forward pass and loss\n",
    "    y_predicted = model(X)\n",
    "    loss = criterion(y_predicted, y)\n",
    "    \n",
    "    #backward pass\n",
    "    loss.backward() #backpropagation and calculating the gradients\n",
    "    \n",
    "    #update\n",
    "    optimizer.step() \n",
    "    \n",
    "    #we have to empty the gradient - this is because, whenever we call the backward operation, this will sum of the gradients \n",
    "    #into the .grad() attribute\n",
    "    optimizer.zero_grad()\n",
    "    \n",
    "    #print some information\n",
    "    if (epoch + 1) % 10 == 0:\n",
    "        print(f'epoch: {epoch+1}, loss = {loss.item():.4f}')"
   ]
  },
  {
   "cell_type": "markdown",
   "id": "aa18fe2c",
   "metadata": {},
   "source": [
    "Now, we will plot the results."
   ]
  },
  {
   "cell_type": "code",
   "execution_count": 14,
   "id": "46906e28",
   "metadata": {},
   "outputs": [
    {
     "data": {
      "image/png": "[encoded data removed]",
      "text/plain": [
       "<Figure size 432x288 with 1 Axes>"
      ]
     },
     "metadata": {
      "needs_background": "light"
     },
     "output_type": "display_data"
    }
   ],
   "source": [
    "#defining the predicted - we want to make this into a numpy array\n",
    "#to do this, we have to detach the tensor - this will not track the operation in the computational graph of pytorch\n",
    "#right now, this tensor has the required_grads = True, but now we want this to be false\n",
    "#this will generate a new tensor where the argument is False\n",
    "predicted = model(X).detach().numpy()\n",
    "\n",
    "#plotting our actual values as red dots\n",
    "plt.plot(X_numpy, y_numpy, 'ro')\n",
    "\n",
    "#plotting the approximated functions - the predicted values - this is the line of best fit \n",
    "plt.plot(X_numpy, predicted, 'b')\n",
    "\n",
    "#displaying the plot\n",
    "plt.show()"
   ]
  },
  {
   "cell_type": "markdown",
   "id": "9e1b9b83",
   "metadata": {},
   "source": [
    "As we can see, this is a pretty good approximation of our data. "
   ]
  }
 ],
 "metadata": {
  "kernelspec": {
   "display_name": "Python 3 (ipykernel)",
   "language": "python",
   "name": "python3"
  },
  "language_info": {
   "codemirror_mode": {
    "name": "ipython",
    "version": 3
   },
   "file_extension": ".py",
   "mimetype": "text/x-python",
   "name": "python",
   "nbconvert_exporter": "python",
   "pygments_lexer": "ipython3",
   "version": "3.9.7"
  }
 },
 "nbformat": 4,
 "nbformat_minor": 5
}
