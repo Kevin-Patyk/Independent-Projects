{
 "cells": [
  {
   "cell_type": "markdown",
   "id": "2f2c3d84",
   "metadata": {},
   "source": [
    "# Classes in Python\n",
    "\n",
    "## Tutorial 1: Classes & Instances\n",
    "\n",
    "### Why should we use classes in the first place?\n",
    "\n",
    "Classes allow us to logically group our data and function in a way that is easy to resuse and also easy to build upon if need be. When we say data and functions that are associated with a specific class, we call those attributes and methods. Methods are functions associated with our class.\n",
    "\n",
    "Let's get started. Say we have an application for our company and we want to represent our employees in our Python code. This is a great use case for a class since each individual employee will have specific attributes and methods, such as name, email address, salary, and actions they can perform. It would be nice if we could have a class to serve as a blueprint to create each employee so we don't have to do this manually from scratch. \n",
    "\n",
    "Now, let's create a simple employee class."
   ]
  },
  {
   "cell_type": "code",
   "execution_count": 1,
   "id": "1e245d8d",
   "metadata": {},
   "outputs": [],
   "source": [
    "# Making an empty class for the time being\n",
    "class Employee:\n",
    "    pass # This will tell Python to skip this for now "
   ]
  },
  {
   "cell_type": "markdown",
   "id": "cbf0e63e",
   "metadata": {},
   "source": [
    "This is a simple employee class with no attributes or methods. So, what is the difference between a class and an instance for a class? A class is a basically a blueprint for creating instances. Each unique employee we create using our class will be an instance of that class. \n",
    "\n",
    "For example, the 2 variables below will be unique instances of the Employee class."
   ]
  },
  {
   "cell_type": "code",
   "execution_count": 2,
   "id": "3f5fcfe3",
   "metadata": {},
   "outputs": [],
   "source": [
    "# Making an empty class for the time being\n",
    "class Employee:\n",
    "    pass # This will tell Python to skip this for now \n",
    "\n",
    "# Employee instance 1\n",
    "emp_1 = Employee()\n",
    "# Employee instance 2\n",
    "emp_2 = Employee() "
   ]
  },
  {
   "cell_type": "markdown",
   "id": "497ff375",
   "metadata": {},
   "source": [
    "So, if we print both of these out, we will see that both of them are employee object and are both unique."
   ]
  },
  {
   "cell_type": "code",
   "execution_count": 3,
   "id": "f86aeb60",
   "metadata": {},
   "outputs": [
    {
     "name": "stdout",
     "output_type": "stream",
     "text": [
      "<__main__.Employee object at 0x00000216D56B7790>\n",
      "<__main__.Employee object at 0x00000216D56B7610>\n"
     ]
    }
   ],
   "source": [
    "print(emp_1)\n",
    "print(emp_2)"
   ]
  },
  {
   "cell_type": "markdown",
   "id": "ae470888",
   "metadata": {},
   "source": [
    "Instance variables containt data that is unique to each instance. We could manually create instance variables for each employee by doing something like this:"
   ]
  },
  {
   "cell_type": "code",
   "execution_count": 4,
   "id": "7da51103",
   "metadata": {},
   "outputs": [],
   "source": [
    "# Employee 1\n",
    "emp_1.first = 'Corey'\n",
    "emp_1.last = 'Schaefer'\n",
    "emp_1.email = 'Corey.Schaefer@company.com'\n",
    "emp_1.pay = 50000\n",
    "\n",
    "# Employee 2\n",
    "emp_2.first = 'Test'\n",
    "emp_2.last = 'User'\n",
    "emp_2.email = 'Test.User@company.com'\n",
    "emp_2.pay = 60000"
   ]
  },
  {
   "cell_type": "markdown",
   "id": "0bfa37f1",
   "metadata": {},
   "source": [
    "Now each of these instances will have attributes that are unique to them. So, if we print out the emails of both employees, it will show us the unique emails that were created for each employee."
   ]
  },
  {
   "cell_type": "code",
   "execution_count": 5,
   "id": "31066edc",
   "metadata": {},
   "outputs": [
    {
     "name": "stdout",
     "output_type": "stream",
     "text": [
      "Corey.Schaefer@company.com\n",
      "Test.User@company.com\n"
     ]
    }
   ],
   "source": [
    "print(emp_1.email)\n",
    "print(emp_2.email)"
   ]
  },
  {
   "cell_type": "markdown",
   "id": "33b2e5d7",
   "metadata": {},
   "source": [
    "Let's say we want to set all of this information for each employee when they are created instead of setting each variable manually. This is a lot of code and prone to mistakes. We don't get much benefit using classes if we do it manually. \n",
    "\n",
    "Now, instead of doing it manually, we are going to use a special `__init__` method. You can think of this method as initialize and as the constructor. When we create methods within a class, they receive the instance as the first argument automatically. By convention, we should call the instance `self`. After `self`, we can specify what other arguments that we want to accept. Here, we will accept the arguments `first`, `last`, and `pay`. As a note, we did also have `email`, but this can be created using `first` and `last`.\n",
    "\n",
    "Then, within the innit method, we are going to set all of the instance variables. When we say that `self` is the instance, what we mean by that is that when we set `self.first = first`, it is going to be the same thing as `emp_1.first = first`. However, now, instead of doing it manually, when we create our employee objects, it will be done automatically when we create our employee objects. \n",
    "\n",
    "The instance variables do not need to be the same as our arguments. For example, `self.first` can be set to `self.fname`, but it is best to keep them the same."
   ]
  },
  {
   "cell_type": "code",
   "execution_count": 6,
   "id": "751b7a9d",
   "metadata": {},
   "outputs": [],
   "source": [
    "class Employee:\n",
    "    # Specifying the arguments to go within __init__\n",
    "    def __init__(self, first, last, pay):\n",
    "        # Defining the attributes of our class \n",
    "        self.first = first\n",
    "        self.last = last\n",
    "        self.pay = pay\n",
    "        self.email = first + '.' + last + '@company.com'"
   ]
  },
  {
   "cell_type": "markdown",
   "id": "465fdc94",
   "metadata": {},
   "source": [
    "So, now when we create our instances of our employee class, we can pass in the values we specified in our `__init__` method. Our `__init__` method takes the instance `self` and `first`, `last`, and `pay` as arguments. But when we create our employee using `emp_1 = Employee()` we can leave off `self` since the instance is passed automatically. We only need to provide the other arguments we specified. For example:"
   ]
  },
  {
   "cell_type": "code",
   "execution_count": 7,
   "id": "f162682d",
   "metadata": {},
   "outputs": [],
   "source": [
    "emp_1 = Employee('Kevin', 'Patyk', 60000)\n",
    "emp_2 = Employee('Test', 'User', 50000)"
   ]
  },
  {
   "cell_type": "markdown",
   "id": "92579ee9",
   "metadata": {},
   "source": [
    "So, what happens when the code above is finished running? The `__init__` method will be run automatically, so employee 1 with be passed in as self and it will set all of the attributes we outlined: `first`, `last`, `pay`, and `email`. Now that we have the `__init__` method in place, we can go ahead and delete the manual assignments we made before: \n",
    "\n",
    "`# Employee 1\n",
    "emp_1.first = 'Corey'\n",
    "emp_1.last = 'Schaefer'\n",
    "emp_1.email = 'Corey.Schaefer@company.com'\n",
    "emp_1.pay = 50000`\n",
    "\n",
    "`# Employee 2\n",
    "emp_2.first = 'Test'\n",
    "emp_2.last = 'User'\n",
    "emp_2.email = 'Test.User@company.com'\n",
    "emp_2.pay = 60000`\n",
    "\n",
    "Now, let's print out the employee emails to see that it still works the same as when we did it manually."
   ]
  },
  {
   "cell_type": "code",
   "execution_count": 8,
   "id": "86c0aa0e",
   "metadata": {},
   "outputs": [
    {
     "name": "stdout",
     "output_type": "stream",
     "text": [
      "Kevin.Patyk@company.com\n",
      "Test.User@company.com\n"
     ]
    }
   ],
   "source": [
    "print(emp_1.email)\n",
    "print(emp_2.email)"
   ]
  },
  {
   "cell_type": "markdown",
   "id": "86d99cfe",
   "metadata": {},
   "source": [
    "So every that we have so far, the names, emails, and pay, are all attributes of our class now. Now let's say we wanted the ability to perform some kind of action. Now, to do that, we can add some methods to our class.\n",
    "\n",
    "Let's say that we wanted the ability to display the full name of an employee. Now this is an action we would need to do a lot in a class like this. We can do this manually outside the class. For example:"
   ]
  },
  {
   "cell_type": "code",
   "execution_count": 9,
   "id": "42758a6c",
   "metadata": {},
   "outputs": [
    {
     "name": "stdout",
     "output_type": "stream",
     "text": [
      "Kevin Patyk\n"
     ]
    }
   ],
   "source": [
    "print('{} {}'.format(emp_1.first, emp_1.last))"
   ]
  },
  {
   "cell_type": "markdown",
   "id": "ac148694",
   "metadata": {},
   "source": [
    "However, this is a lot to type in every time you want to see the employees full name. Instead, let's create a method in our class that allows us to put this functionality in one place. \n",
    "\n",
    "We are going to create a method called full name and we can do that by just doing a `def`. Like we said before, each method within a class automatically takes the instance as the first argument; we are always going to call that `self`. The instance is the only argument we need in order to get the full name. So, within this method, we are going to take the same code from when we printed the full name manually and place it there. However, we need to change `emp_1.first` and `emp_1.last` to `self.first` and `self.last` so it will work with all instances."
   ]
  },
  {
   "cell_type": "code",
   "execution_count": 10,
   "id": "9abcbe8c",
   "metadata": {},
   "outputs": [],
   "source": [
    "class Employee:\n",
    "    # Specifying the arguments to go within __init__\n",
    "    def __init__(self, first, last, pay):\n",
    "        # Defining the attributes of our class \n",
    "        self.first = first\n",
    "        self.last = last\n",
    "        self.pay = pay\n",
    "        self.email = first + '.' + last + '@company.com'\n",
    "    \n",
    "    # Defining the fullname() method for our class\n",
    "    def fullname(self):\n",
    "        return '{} {}'.format(self.first, self.last)"
   ]
  },
  {
   "cell_type": "markdown",
   "id": "9c0deb19",
   "metadata": {},
   "source": [
    "Now that we have created this method, instead of printing like we did before, we can do this:"
   ]
  },
  {
   "cell_type": "code",
   "execution_count": 11,
   "id": "aa763655",
   "metadata": {},
   "outputs": [
    {
     "data": {
      "text/plain": [
       "'Kevin Patyk'"
      ]
     },
     "execution_count": 11,
     "metadata": {},
     "output_type": "execute_result"
    }
   ],
   "source": [
    "# Define employee 1\n",
    "emp_1 = Employee('Kevin', 'Patyk', 60000)\n",
    "\n",
    "# Call the fullname() method\n",
    "emp_1.fullname()"
   ]
  },
  {
   "cell_type": "markdown",
   "id": "ff16fb76",
   "metadata": {},
   "source": [
    "Notice that we need parentheses at the end of `fullname()` since this is a method instead of an attribute. If we left the parentheses off, it will print the method instead of the return value of the method:"
   ]
  },
  {
   "cell_type": "code",
   "execution_count": 12,
   "id": "91ce2a43",
   "metadata": {},
   "outputs": [
    {
     "name": "stdout",
     "output_type": "stream",
     "text": [
      "<bound method Employee.fullname of <__main__.Employee object at 0x00000216D57824F0>>\n"
     ]
    }
   ],
   "source": [
    "print(emp_1.fullname)"
   ]
  },
  {
   "cell_type": "markdown",
   "id": "95535232",
   "metadata": {},
   "source": [
    "Now we have full advantage of code re-use here since we do not have to manually type out large lines of code to get the full name of employees. \n",
    "\n",
    "One more quick thing that we wanted to point out here. One common mistake that occurs when creating methods is forgetting the `self` argument for the instance. Let's take a quick look what it would look like if we left the `self` argument out in the method portion."
   ]
  },
  {
   "cell_type": "code",
   "execution_count": 13,
   "id": "fe379b86",
   "metadata": {},
   "outputs": [],
   "source": [
    "class Employee:\n",
    "    # Specifying the arguments to go within __init__\n",
    "    def __init__(self, first, last, pay):\n",
    "        # Defining the attributes of our class \n",
    "        self.first = first\n",
    "        self.last = last\n",
    "        self.pay = pay\n",
    "        self.email = first + '.' + last + '@company.com'\n",
    "    \n",
    "    # Defining the fullname() method for our class; without self for this example\n",
    "    def fullname():\n",
    "        return '{} {}'.format(self.first, self.last)"
   ]
  },
  {
   "cell_type": "code",
   "execution_count": 14,
   "id": "2d0ecbb1",
   "metadata": {},
   "outputs": [
    {
     "ename": "TypeError",
     "evalue": "fullname() takes 0 positional arguments but 1 was given",
     "output_type": "error",
     "traceback": [
      "\u001b[1;31m---------------------------------------------------------------------------\u001b[0m",
      "\u001b[1;31mTypeError\u001b[0m                                 Traceback (most recent call last)",
      "Input \u001b[1;32mIn [14]\u001b[0m, in \u001b[0;36m<cell line: 5>\u001b[1;34m()\u001b[0m\n\u001b[0;32m      2\u001b[0m emp_1 \u001b[38;5;241m=\u001b[39m Employee(\u001b[38;5;124m'\u001b[39m\u001b[38;5;124mKevin\u001b[39m\u001b[38;5;124m'\u001b[39m, \u001b[38;5;124m'\u001b[39m\u001b[38;5;124mPatyk\u001b[39m\u001b[38;5;124m'\u001b[39m, \u001b[38;5;241m60000\u001b[39m)\n\u001b[0;32m      4\u001b[0m \u001b[38;5;66;03m# Call the fullname() method\u001b[39;00m\n\u001b[1;32m----> 5\u001b[0m \u001b[43memp_1\u001b[49m\u001b[38;5;241;43m.\u001b[39;49m\u001b[43mfullname\u001b[49m\u001b[43m(\u001b[49m\u001b[43m)\u001b[49m\n",
      "\u001b[1;31mTypeError\u001b[0m: fullname() takes 0 positional arguments but 1 was given"
     ]
    }
   ],
   "source": [
    "# Define employee 1\n",
    "emp_1 = Employee('Kevin', 'Patyk', 60000)\n",
    "\n",
    "# Call the fullname() method\n",
    "emp_1.fullname()"
   ]
  },
  {
   "cell_type": "markdown",
   "id": "3dfac2ce",
   "metadata": {},
   "source": [
    "As we can see, we get an error since the `self` argument is not defined for the method. This can be confusing because it does not look like we are passing any arguments into the method. However, the instance, which in this case is employee 1, is getting passed automatically. So we have to expect that instance argument in our method, that is why we added `self`. \n",
    "\n",
    "We can also run these methods usign the class name itself. First, let's put the `self` argument back in our method."
   ]
  },
  {
   "cell_type": "code",
   "execution_count": 15,
   "id": "b9c1dada",
   "metadata": {},
   "outputs": [],
   "source": [
    "class Employee:\n",
    "    # Specifying the arguments to go within __init__\n",
    "    def __init__(self, first, last, pay):\n",
    "        # Defining the attributes of our class \n",
    "        self.first = first\n",
    "        self.last = last\n",
    "        self.pay = pay\n",
    "        self.email = first + '.' + last + '@company.com'\n",
    "    \n",
    "    # Defining the fullname() method for our class\n",
    "    def fullname(self):\n",
    "        return '{} {}'.format(self.first, self.last)"
   ]
  },
  {
   "cell_type": "markdown",
   "id": "6caafdcd",
   "metadata": {},
   "source": [
    "Now, let's see an example. This will make what is happening in the background a bit more obvious. As a note, when we run it from the class, we have to manually pass in the instance as an argument. "
   ]
  },
  {
   "cell_type": "code",
   "execution_count": 16,
   "id": "915c6145",
   "metadata": {},
   "outputs": [
    {
     "data": {
      "text/plain": [
       "'Kevin Patyk'"
      ]
     },
     "execution_count": 16,
     "metadata": {},
     "output_type": "execute_result"
    }
   ],
   "source": [
    "# Define employee 1\n",
    "emp_1 = Employee('Kevin', 'Patyk', 60000)\n",
    "\n",
    "# Running the method through the class\n",
    "Employee.fullname(emp_1)"
   ]
  },
  {
   "cell_type": "markdown",
   "id": "9b7581c4",
   "metadata": {},
   "source": [
    "When we call the method on `emp_1.fullname()`, the `self` argument will pass in automatically. But, when we call the `fullname()` method on the class, we have to manually pass the instance. This is actually what is happening in the background when we run `emp_1.fullname()`. This gets transformed into `Employee.fullname(emp_1)` and passes in `emp_1` as `self`. "
   ]
  },
  {
   "cell_type": "markdown",
   "id": "d7eb0ca2",
   "metadata": {},
   "source": [
    "## Tutorial 2: Class Variables"
   ]
  },
  {
   "cell_type": "markdown",
   "id": "09518cd7",
   "metadata": {},
   "source": [
    "In the last tutorial, we learned how to create a class, instances of that class, and how to make a basic method. We learned a lot about instance variables, which is data that is unique to each instance. Instance variables are variable you set using the `self` argument: \n",
    "\n",
    "` def __init__(self, first, last, pay):\n",
    "        # Defining the attributes of our class \n",
    "        self.first = first\n",
    "        self.last = last\n",
    "        self.pay = pay\n",
    "        self.email = first + '.' + last + '@company.com'`\n",
    "        \n",
    "For example, in the class we created, we set the names, email, and pay in our `__init__` method. These are set for each instance for each employee that we create. \n",
    "\n",
    "Class variables are variables that are shared among all instances of a class. While instance variables can be unique for each instance, like name, email, and pay, the class variable should be the same for each instance.\n",
    "\n",
    "So, if we look at our employee class, what kind of data would we want to be shared among all employees? For example, let's say we give a raise every year and all employees get the exact same raise. This is a good candidate for a class variable.\n",
    "\n",
    "Before we put this in our class, let's code it manually to see why class variables would be a better use case."
   ]
  },
  {
   "cell_type": "code",
   "execution_count": 1,
   "id": "3299a5e9",
   "metadata": {},
   "outputs": [],
   "source": [
    "class Employee:\n",
    "    # Specifying the arguments to go within __init__\n",
    "    def __init__(self, first, last, pay):\n",
    "        # Defining the attributes of our class \n",
    "        self.first = first\n",
    "        self.last = last\n",
    "        self.pay = pay\n",
    "        self.email = first + '.' + last + '@company.com'\n",
    "    \n",
    "    # Defining the fullname() method for our class\n",
    "    def fullname(self):\n",
    "        return '{} {}'.format(self.first, self.last)\n",
    "    \n",
    "    # Defining the apply_raise() method for our class\n",
    "    def apply_raise(self):\n",
    "        self.pay = int(self.pay * 1.04)"
   ]
  },
  {
   "cell_type": "markdown",
   "id": "42ee47ce",
   "metadata": {},
   "source": [
    "Now, let's test to see how it works."
   ]
  },
  {
   "cell_type": "code",
   "execution_count": 5,
   "id": "59c38ce1",
   "metadata": {},
   "outputs": [
    {
     "name": "stdout",
     "output_type": "stream",
     "text": [
      "62400\n"
     ]
    }
   ],
   "source": [
    "# Define employee 1\n",
    "emp_1 = Employee('Kevin', 'Patyk', 60000)\n",
    "\n",
    "# Testing \n",
    "emp_1.apply_raise()\n",
    "print(emp_1.pay)"
   ]
  },
  {
   "cell_type": "markdown",
   "id": "6bc75c21",
   "metadata": {},
   "source": [
    "So this works, but it would be nice if we could access the raise amount by doing something like: \n",
    "\n",
    "* `emp_1.raise_amount` \n",
    "\n",
    "But, since it should apply to the entire class, we want to be able to do something like:\n",
    "\n",
    "* `Employee.raise_amount`\n",
    "\n",
    "The `raise_amount` attribute does not currently exist, so we can't see what that is (4%). Also, what if we wanted to easily update that 4% amount? Right now it is kind of hidden within method. For all we know, it can be in multiple places throughout the code. We do not want to manually go in to update this 4% in multiple locations. So, instead, we will pull this 4% out into a class variable. "
   ]
  },
  {
   "cell_type": "code",
   "execution_count": 6,
   "id": "5993e564",
   "metadata": {},
   "outputs": [],
   "source": [
    "class Employee:\n",
    "    \n",
    "    # Defining a class variable\n",
    "    raise_amount = 1.04\n",
    "    \n",
    "    # Specifying the arguments to go within __init__\n",
    "    def __init__(self, first, last, pay):\n",
    "        # Defining the attributes of our class \n",
    "        self.first = first\n",
    "        self.last = last\n",
    "        self.pay = pay\n",
    "        self.email = first + '.' + last + '@company.com'\n",
    "    \n",
    "    # Defining the fullname() method for our class\n",
    "    def fullname(self):\n",
    "        return '{} {}'.format(self.first, self.last)\n",
    "    \n",
    "    # Defining the apply_raise() method for our class\n",
    "    # As a note, we cannot just put `raise_amount` here instead of 1.04\n",
    "    # We need to access the class variable through the class itself or \n",
    "    # An instance of the class\n",
    "    def apply_raise(self):\n",
    "        self.pay = int(self.pay * self.raise_amount)"
   ]
  },
  {
   "cell_type": "markdown",
   "id": "2fbf0f5e",
   "metadata": {},
   "source": [
    "Now, to test what it does."
   ]
  },
  {
   "cell_type": "code",
   "execution_count": 7,
   "id": "093eb0d8",
   "metadata": {},
   "outputs": [
    {
     "name": "stdout",
     "output_type": "stream",
     "text": [
      "62400\n"
     ]
    }
   ],
   "source": [
    "# Define employee 1\n",
    "emp_1 = Employee('Kevin', 'Patyk', 60000)\n",
    "\n",
    "# Testing \n",
    "emp_1.apply_raise()\n",
    "print(emp_1.pay)"
   ]
  },
  {
   "cell_type": "markdown",
   "id": "32e5a1a5",
   "metadata": {},
   "source": [
    "It gives us the same output, but now, if we want to change the raise amount, we can do it much more easily. So, what exactly is going on here and why do we need to access the class variable or an instance of the class?\n",
    "\n",
    "You can access the class variable from the class itself and from an instance of the class. What is going on here is that, when we try to access an attribute on an instance, it will first check if that instance contains an attribute and, if it doesn't, then it will check if the class or any class that it inherits from contains that attribute. So, when we access `raise_amount` from our instances, they don't actually have that attribute themselves, they are accessing the class' `raise_amount` attribute instead. \n",
    "\n",
    "There is a little trick that we can do to get a better idea of what is going on."
   ]
  },
  {
   "cell_type": "code",
   "execution_count": 8,
   "id": "b2b4b037",
   "metadata": {},
   "outputs": [
    {
     "name": "stdout",
     "output_type": "stream",
     "text": [
      "{'first': 'Kevin', 'last': 'Patyk', 'pay': 60000, 'email': 'Kevin.Patyk@company.com'}\n"
     ]
    }
   ],
   "source": [
    "# Define employee 1\n",
    "emp_1 = Employee('Kevin', 'Patyk', 60000)\n",
    "\n",
    "# Print out the name space of employee 1\n",
    "print(emp_1.__dict__)"
   ]
  },
  {
   "cell_type": "markdown",
   "id": "26696689",
   "metadata": {},
   "source": [
    "If we were to access the names or email or pay, then these are the values they would return. As you can see, there is no `raise_amount` in this list. If we printed out the employee dict:"
   ]
  },
  {
   "cell_type": "code",
   "execution_count": 9,
   "id": "786f5b10",
   "metadata": {},
   "outputs": [
    {
     "name": "stdout",
     "output_type": "stream",
     "text": [
      "{'__module__': '__main__', 'raise_amount': 1.04, '__init__': <function Employee.__init__ at 0x000002A135DD4280>, 'fullname': <function Employee.fullname at 0x000002A135DD4040>, 'apply_raise': <function Employee.apply_raise at 0x000002A135DD4160>, '__dict__': <attribute '__dict__' of 'Employee' objects>, '__weakref__': <attribute '__weakref__' of 'Employee' objects>, '__doc__': None}\n"
     ]
    }
   ],
   "source": [
    "print(Employee.__dict__)"
   ]
  },
  {
   "cell_type": "markdown",
   "id": "e6e7285e",
   "metadata": {},
   "source": [
    "We can see that the class does contain the `raise_amount` attribute. This is the value that our instances see when we access that `raise_amount` attribute from our instances. \n",
    "\n",
    "Now, let's show an important concept. We are going to take the `raise_amount` and set it to 1.05."
   ]
  },
  {
   "cell_type": "code",
   "execution_count": 12,
   "id": "cf2897f9",
   "metadata": {},
   "outputs": [
    {
     "name": "stdout",
     "output_type": "stream",
     "text": [
      "1.05\n",
      "1.05\n"
     ]
    }
   ],
   "source": [
    "# Define employees\n",
    "emp_1 = Employee('Kevin', 'Patyk', 60000)\n",
    "emp_2 = Employee('Test', 'User', 50000)\n",
    "\n",
    "# Setting the new raise amount\n",
    "Employee.raise_amount = 1.05\n",
    "\n",
    "# Displaying the results\n",
    "print(emp_1.raise_amount)\n",
    "print(emp_2.raise_amount)"
   ]
  },
  {
   "cell_type": "markdown",
   "id": "c9720223",
   "metadata": {},
   "source": [
    "This will change the raise amount for the class and all of the instances. But, what if we were to set the raise amount using an instance instead of the class? "
   ]
  },
  {
   "cell_type": "code",
   "execution_count": 14,
   "id": "ff9972d3",
   "metadata": {},
   "outputs": [
    {
     "name": "stdout",
     "output_type": "stream",
     "text": [
      "1.05\n",
      "1.04\n"
     ]
    }
   ],
   "source": [
    "# Puting raise amount for class back to 1.04\n",
    "Employee.raise_amount = 1.04\n",
    "\n",
    "# Define employees\n",
    "emp_1 = Employee('Kevin', 'Patyk', 60000)\n",
    "emp_2 = Employee('Test', 'User', 50000)\n",
    "\n",
    "# Setting the raise amount using an instance\n",
    "emp_1.raise_amount = 1.05\n",
    "\n",
    "# Displaying the results\n",
    "print(emp_1.raise_amount)\n",
    "print(emp_2.raise_amount)"
   ]
  },
  {
   "cell_type": "markdown",
   "id": "3fc14911",
   "metadata": {},
   "source": [
    "As you can see, the raise amount only changed for employee 1 when setting the raise amount using an instance instead of the class. Why did this happen? Well, when we made this assignment: \n",
    "\n",
    "* `emp_1.raise_amount = 1.05`\n",
    "\n",
    "It actually made this attribute within `emp_1`. So, if we print `emp_1` dictionary:"
   ]
  },
  {
   "cell_type": "code",
   "execution_count": 15,
   "id": "ba3424e2",
   "metadata": {},
   "outputs": [
    {
     "data": {
      "text/plain": [
       "{'first': 'Kevin',\n",
       " 'last': 'Patyk',\n",
       " 'pay': 60000,\n",
       " 'email': 'Kevin.Patyk@company.com',\n",
       " 'raise_amount': 1.05}"
      ]
     },
     "execution_count": 15,
     "metadata": {},
     "output_type": "execute_result"
    }
   ],
   "source": [
    "emp_1.__dict__"
   ]
  },
  {
   "cell_type": "markdown",
   "id": "16896ba4",
   "metadata": {},
   "source": [
    "Now you can see that `emp_1` has the `raise_amount` within its name space equal to 1.05. It finds this within its own namespace before and searching the class. We did not set this raise amount for `emp_2`, so that still falls back to the class' value. \n",
    "\n",
    "This is an important concept to understand because, within our `apply_raise` method:\n",
    "\n",
    "* `def apply_raise(self):\n",
    "     self.pay = int(self.pay * self.raise_amount)`\n",
    "     \n",
    "We can see that we can get different results depending on if we did `self.raise_amount`, which is the instance, or `Employee.raise_amount`, which is the  employee class raise amount.\n",
    "\n",
    "For now, we will leave this with `self.raise_amount` because it gives us the ability to change `raise_amount` for a specific instance if we really wanted to. So, if we set a different `raise_amount` for `emp_1` and then using the `.apply_raise` method, we will apply that raise amount of the class raise amount. \n",
    "\n",
    "In another example, we will make a class variable in which it would not make sense to use `self.`, the instance, over `Employee.`, which is the class variable. \n",
    "\n",
    "So, let's say we want to keep track how many employees that we have. The number of employees should be the same for all instances of our class. If we created a class variable `num_of_emps`, each time we create a new employee, we will increment it by 1. \n",
    "\n",
    "This will be done in the `__init__` method, since the `__init__` method runs every time we create a new employee."
   ]
  },
  {
   "cell_type": "code",
   "execution_count": 16,
   "id": "04a36eaf",
   "metadata": {},
   "outputs": [],
   "source": [
    "class Employee:\n",
    "    \n",
    "    # Defining number of employees\n",
    "    num_of_emps = 0\n",
    "    # Defining a class variable\n",
    "    raise_amount = 1.04\n",
    "    \n",
    "    # Specifying the arguments to go within __init__\n",
    "    def __init__(self, first, last, pay):\n",
    "        # Defining the attributes of our class \n",
    "        self.first = first\n",
    "        self.last = last\n",
    "        self.pay = pay\n",
    "        self.email = first + '.' + last + '@company.com'\n",
    "        \n",
    "        # Incrementing the number of employees every time we make one\n",
    "        Employee.num_of_emps += 1\n",
    "    \n",
    "    # Defining the fullname() method for our class\n",
    "    def fullname(self):\n",
    "        return '{} {}'.format(self.first, self.last)\n",
    "    \n",
    "    # Defining the apply_raise() method for our class\n",
    "    # As a note, we cannot just put `raise_amount` here instead of 1.04\n",
    "    # We need to access the class variable through the class itself or \n",
    "    # An instance of the class\n",
    "    def apply_raise(self):\n",
    "        self.pay = int(self.pay * self.raise_amount)"
   ]
  },
  {
   "cell_type": "markdown",
   "id": "df6e316b",
   "metadata": {},
   "source": [
    "So, here we will use the class variable to set the number of employees. With raise amounts, it is nice to have a class value that can ultimately be overridden per instance if we needed. But, in this case, there is no use case for wanting the total number of employees to be different per instance. \n",
    "\n",
    "Let's show an example of the class in action."
   ]
  },
  {
   "cell_type": "code",
   "execution_count": 17,
   "id": "7521386b",
   "metadata": {},
   "outputs": [
    {
     "name": "stdout",
     "output_type": "stream",
     "text": [
      "2\n"
     ]
    }
   ],
   "source": [
    "# Define employees\n",
    "emp_1 = Employee('Kevin', 'Patyk', 60000)\n",
    "emp_2 = Employee('Test', 'User', 50000)\n",
    "\n",
    "# Displaying the number of employees; should be 2\n",
    "print(Employee.num_of_emps)"
   ]
  },
  {
   "cell_type": "markdown",
   "id": "f2a6b4da",
   "metadata": {},
   "source": [
    "We get 2 employees, since it was incremented twice. The code works."
   ]
  },
  {
   "cell_type": "markdown",
   "id": "d6c98537",
   "metadata": {},
   "source": [
    "## Tutorial 3: Class Methods and Static Methods"
   ]
  },
  {
   "cell_type": "markdown",
   "id": "152f64f7",
   "metadata": {},
   "source": [
    "In this tutorial, we will talk about the difference between class methods and static methods. "
   ]
  },
  {
   "cell_type": "code",
   "execution_count": null,
   "id": "e03b0105",
   "metadata": {},
   "outputs": [],
   "source": []
  }
 ],
 "metadata": {
  "kernelspec": {
   "display_name": "Python 3 (ipykernel)",
   "language": "python",
   "name": "python3"
  },
  "language_info": {
   "codemirror_mode": {
    "name": "ipython",
    "version": 3
   },
   "file_extension": ".py",
   "mimetype": "text/x-python",
   "name": "python",
   "nbconvert_exporter": "python",
   "pygments_lexer": "ipython3",
   "version": "3.9.7"
  }
 },
 "nbformat": 4,
 "nbformat_minor": 5
}
