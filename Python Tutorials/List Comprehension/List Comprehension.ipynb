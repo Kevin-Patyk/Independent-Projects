{
 "cells": [
  {
   "cell_type": "markdown",
   "id": "bf4f893a",
   "metadata": {},
   "source": [
    "# List Comprehension in Python\n",
    "\n",
    "List comprehension provides a concise and elegant way to construct lists. Every advanced Python programmer should know how to use it.\n",
    "\n",
    "### Example 1:\n",
    "\n",
    "Let's say we want to create a list of the numbers 0 through 4 squared. One way we can do that is like this:"
   ]
  },
  {
   "cell_type": "code",
   "execution_count": 1,
   "id": "477acb05",
   "metadata": {},
   "outputs": [
    {
     "name": "stdout",
     "output_type": "stream",
     "text": [
      "[0, 1, 4, 9, 16]\n"
     ]
    }
   ],
   "source": [
    "# Create an empty list\n",
    "list1 = []\n",
    "\n",
    "# Run a for loop to get squared version of numbers \n",
    "for i in range(0,5):\n",
    "    list1.append(i*i)\n",
    "    \n",
    "# Display the results\n",
    "print(list1)"
   ]
  },
  {
   "cell_type": "markdown",
   "id": "a886896c",
   "metadata": {},
   "source": [
    "We can also achieve the same thing in one line of code using list comprehension:"
   ]
  },
  {
   "cell_type": "code",
   "execution_count": 2,
   "id": "39182546",
   "metadata": {},
   "outputs": [
    {
     "name": "stdout",
     "output_type": "stream",
     "text": [
      "[0, 1, 4, 9, 16]\n"
     ]
    }
   ],
   "source": [
    "# Creating the list using list comprehension\n",
    "list2 = [i*i for i in range(0,5)]\n",
    "\n",
    "# Display the result\n",
    "print(list2)"
   ]
  },
  {
   "cell_type": "markdown",
   "id": "feb5545b",
   "metadata": {},
   "source": [
    "### List Comprehension Syntax\n",
    "\n",
    "The general structure when using list comprehension is:\n",
    "\n",
    "* `new_list = [expression for member in iterable]`\n",
    "\n",
    "The iterable can be any iterable. So, it can be a `range()` object, a list, a set, or a generator object. It is very flexible. \n",
    "\n",
    "We can also have a very flexible expression. If the expression is simple, we can just keep it in the brackets. However, it is complex, we can do this:"
   ]
  },
  {
   "cell_type": "code",
   "execution_count": 3,
   "id": "284de435",
   "metadata": {},
   "outputs": [
    {
     "name": "stdout",
     "output_type": "stream",
     "text": [
      "[0, 1, 8, 27, 64]\n"
     ]
    }
   ],
   "source": [
    "# Defining the complex function\n",
    "def cube(i):\n",
    "    return i*i*i\n",
    "\n",
    "# Making the new list using the function we defined\n",
    "cubes = [cube(i) for i in range(0,5)]\n",
    "\n",
    "# Displaying the result \n",
    "print(cubes)"
   ]
  },
  {
   "cell_type": "markdown",
   "id": "cb12a161",
   "metadata": {},
   "source": [
    "As you can see, we can write a function for our expression. Furthermore, the list comprehension can have an optional `if` conditional at the end:\n",
    "\n",
    "* `new_list = [expression for member in iterable (if conditional)]`\n",
    "\n",
    "This will filter the elements. So, let's say we want to all the even numbers between 0 and 20:"
   ]
  },
  {
   "cell_type": "code",
   "execution_count": 4,
   "id": "8e344b8c",
   "metadata": {},
   "outputs": [
    {
     "name": "stdout",
     "output_type": "stream",
     "text": [
      "[0, 2, 4, 6, 8, 10, 12, 14, 16, 18]\n"
     ]
    }
   ],
   "source": [
    "# Making the list\n",
    "evens = [i for i in range(0,20) if i%2 == 0]\n",
    "\n",
    "# Display the result\n",
    "print(evens)"
   ]
  },
  {
   "cell_type": "markdown",
   "id": "1d3f3651",
   "metadata": {},
   "source": [
    "### Modifying Numbers\n",
    "\n",
    "We can also write the `if-else` conditional in the middle. It looks like:\n",
    "\n",
    "* `new_list = [expression (if else conditional) for member in iterable]`\n",
    "\n",
    "This will modify the elements, it will not filter them. For example:"
   ]
  },
  {
   "cell_type": "code",
   "execution_count": 5,
   "id": "d3dbebfa",
   "metadata": {},
   "outputs": [
    {
     "name": "stdout",
     "output_type": "stream",
     "text": [
      "[0, 0, 0, 4, 5, 6, 7, 8]\n"
     ]
    }
   ],
   "source": [
    "# Making the list\n",
    "a = [1,2,3,4,5,6,7,8]\n",
    "\n",
    "# Modifying the numbers in a, smaller than 4 == 0\n",
    "b = [0 if i < 4 else i for i in a]\n",
    "\n",
    "# Display the result\n",
    "print(b)"
   ]
  },
  {
   "cell_type": "markdown",
   "id": "ec49cf4b",
   "metadata": {},
   "source": [
    "### Unique Vowels\n",
    "\n",
    "List comprehensions works for a variety of data types and data structures, such as strings, sets, and dictionaries.\n",
    "\n",
    "Let's look at an example where we have a quote and we want to extract the unique vowels in the quote:\n",
    "\n",
    "As a note, the syntax is the same:\n",
    "\n",
    "* `{expression for member in iterable}`\n",
    "\n",
    "We don't have any elements more than one time because sets have only unique elements. "
   ]
  },
  {
   "cell_type": "code",
   "execution_count": 6,
   "id": "56659496",
   "metadata": {},
   "outputs": [
    {
     "name": "stdout",
     "output_type": "stream",
     "text": [
      "{'o', 'e'}\n"
     ]
    }
   ],
   "source": [
    "# Making the quote\n",
    "quote = \"hello everybody\"\n",
    "\n",
    "# Extracting unique vowels using a set\n",
    "unique_vowels = {i for i in quote if i in 'aeiou'}\n",
    "\n",
    "# Display the result\n",
    "print(unique_vowels)"
   ]
  },
  {
   "cell_type": "markdown",
   "id": "2ca0ed6c",
   "metadata": {},
   "source": [
    "List comprehension also works for dictionaries. So, let's say we want to have a dictionary of squared numbers with the values as the key and the squared values as value."
   ]
  },
  {
   "cell_type": "code",
   "execution_count": 7,
   "id": "da8e62a9",
   "metadata": {},
   "outputs": [
    {
     "name": "stdout",
     "output_type": "stream",
     "text": [
      "{0: 0, 1: 1, 2: 4, 3: 9, 4: 16}\n"
     ]
    }
   ],
   "source": [
    "# Making the dictionary\n",
    "squared = {i: i*i for i in range(0,5)}\n",
    "\n",
    "# Displaying the result\n",
    "print(squared)"
   ]
  },
  {
   "cell_type": "markdown",
   "id": "da125b8f",
   "metadata": {},
   "source": [
    "### Nested List Comprehension\n",
    "\n",
    "Let's quickly talk about nested list comprehension. We can do a nested list comprehension. This is typically used when you want to have a 2-D matrix.\n",
    "\n",
    "First, you will have the outer list comprehension and then an inner list comprehension. In the first, you will iterate over the first number and in the second you will iterate over the second member. "
   ]
  },
  {
   "cell_type": "code",
   "execution_count": 8,
   "id": "523e5d8a",
   "metadata": {},
   "outputs": [
    {
     "name": "stdout",
     "output_type": "stream",
     "text": [
      "[[0, 0, 0, 0, 0], [0, 1, 2, 3, 4], [0, 2, 4, 6, 8]]\n"
     ]
    }
   ],
   "source": [
    "# Making a 2-D matrix using nexted list comprehension\n",
    "matrix2d = [[i*j for i in range(0,5)] for j in range(0,3)]\n",
    "\n",
    "# Display the result\n",
    "print(matrix2d)"
   ]
  },
  {
   "cell_type": "markdown",
   "id": "611bda07",
   "metadata": {},
   "source": [
    "This is usually very confused and it is not recommended to use it. But we should know that this type of functionality exists. "
   ]
  },
  {
   "cell_type": "markdown",
   "id": "14c4477b",
   "metadata": {},
   "source": [
    "### When Not to Use List Comprehension"
   ]
  },
  {
   "cell_type": "markdown",
   "id": "6f62259e",
   "metadata": {},
   "source": [
    "List comprehension is very nice, but it works by loading the entire output list into our memory. This can get a very large object. Sometimes it is better to use a generator for this. \n",
    "\n",
    "Let's say we have a list with squared numbers for a large range:\n",
    "\n",
    "* `[i*i for i in range(0,1000)`\n",
    "\n",
    "And we want to calculate the sum of this list. We can then do:\n",
    "\n",
    "* `s = sum([i*i for i in range(0,1000)])`"
   ]
  },
  {
   "cell_type": "code",
   "execution_count": 9,
   "id": "0eeea63e",
   "metadata": {},
   "outputs": [
    {
     "name": "stdout",
     "output_type": "stream",
     "text": [
      "332833500\n"
     ]
    }
   ],
   "source": [
    "# Making the list\n",
    "s = sum([i*i for i in range(0,1000)])\n",
    "        \n",
    "# Displaying the result\n",
    "print(s)"
   ]
  },
  {
   "cell_type": "markdown",
   "id": "0123db9c",
   "metadata": {},
   "source": [
    "Although this works, it takes up a lot of memory. The better way to do this is to use a generator. We can use generator expressions which uses parantheses instead of brackets. \n",
    "\n",
    "* `s = sum((i*i for i in range(0,1000)))`\n",
    "\n",
    "This will do the same thing but create a generator object instead of a list object:"
   ]
  },
  {
   "cell_type": "code",
   "execution_count": 10,
   "id": "1a07d05a",
   "metadata": {},
   "outputs": [
    {
     "name": "stdout",
     "output_type": "stream",
     "text": [
      "332833500\n"
     ]
    }
   ],
   "source": [
    "# Making the list\n",
    "s = sum((i*i for i in range(0,1000)))\n",
    "        \n",
    "# Displaying the result\n",
    "print(s)"
   ]
  },
  {
   "cell_type": "markdown",
   "id": "53097ba0",
   "metadata": {},
   "source": [
    "As you can see, this does the same thing. Let's look at the size of both of these objects:"
   ]
  },
  {
   "cell_type": "code",
   "execution_count": 11,
   "id": "f4bd5c20",
   "metadata": {},
   "outputs": [
    {
     "name": "stdout",
     "output_type": "stream",
     "text": [
      "8856\n",
      "112\n"
     ]
    }
   ],
   "source": [
    "# List object\n",
    "l = [i*i for i in range(0,1000)]\n",
    "\n",
    "# Generator object\n",
    "g = (i*i for i in range(0,1000))\n",
    "\n",
    "# Loading library\n",
    "import sys\n",
    "\n",
    "# Getting sizes\n",
    "print(sys.getsizeof(l))\n",
    "print(sys.getsizeof(g))"
   ]
  },
  {
   "cell_type": "markdown",
   "id": "79ea8f09",
   "metadata": {},
   "source": [
    "As we can see, our list is almost 80 times bigger in terms of byes than our generator object. This is a small example, but if our iterator `range()` was much larger, then you can see what type of problems it can cause in terms of memory. \n",
    "\n",
    "So, just keep in mind that sometimes generators can be better.\n",
    "\n",
    "### Testing Your Code\n",
    "\n",
    "List comprehension can sometimes be faster, but this is not always the case. You shoud always test your code if you want to improve the speed. Let's time our functions.\n",
    "\n",
    "First, we will time our list comprehension."
   ]
  },
  {
   "cell_type": "code",
   "execution_count": 12,
   "id": "84a7230a",
   "metadata": {},
   "outputs": [
    {
     "name": "stdout",
     "output_type": "stream",
     "text": [
      "0.06872350000000038\n"
     ]
    }
   ],
   "source": [
    "# Importing library\n",
    "from timeit import default_timer as timer\n",
    "\n",
    "# Creating a list using list comprehension and timing it\n",
    "start = timer()\n",
    "a = [i*i for i in range(0,1_000_000)] # You can use underscores in place of commas\n",
    "end = timer()\n",
    "\n",
    "# Display the results\n",
    "print(end - start)"
   ]
  },
  {
   "cell_type": "markdown",
   "id": "6257ae02",
   "metadata": {},
   "source": [
    "Now, we will time our typical `for` loop."
   ]
  },
  {
   "cell_type": "code",
   "execution_count": 13,
   "id": "518e8068",
   "metadata": {},
   "outputs": [
    {
     "name": "stdout",
     "output_type": "stream",
     "text": [
      "0.1394597000000002\n"
     ]
    }
   ],
   "source": [
    "# Importing library\n",
    "from timeit import default_timer as timer\n",
    "\n",
    "# Creating an empty list\n",
    "a = []\n",
    "\n",
    "# Running the for loop and timing it\n",
    "start = timer()\n",
    "for i in range(0, 1_000_000):\n",
    "    a.append(i*i)\n",
    "end = timer()\n",
    "\n",
    "# Display the results\n",
    "print(end - start)"
   ]
  },
  {
   "cell_type": "markdown",
   "id": "2bdccfbf",
   "metadata": {},
   "source": [
    "As we can see, list comprehension is about 2 times faster than using a traditional `for` loop. This is not always a case. This is why testing your code is a good practice. "
   ]
  },
  {
   "cell_type": "markdown",
   "id": "76474854",
   "metadata": {},
   "source": [
    "### More List Comprehension Examples \n",
    "\n",
    "Based on a list of fruits, you want a new list, containing only the fruits with the letter \"a\" in the name:"
   ]
  },
  {
   "cell_type": "code",
   "execution_count": 14,
   "id": "811f4669",
   "metadata": {},
   "outputs": [
    {
     "name": "stdout",
     "output_type": "stream",
     "text": [
      "['apple', 'banana', 'mango']\n",
      "['apple', 'banana', 'mango']\n"
     ]
    }
   ],
   "source": [
    "# Traditional for loop\n",
    "fruits = [\"apple\", \"banana\", \"cherry\", \"kiwi\", \"mango\"]\n",
    "newlist = []\n",
    "\n",
    "for x in fruits:\n",
    "    if \"a\" in x:\n",
    "        newlist.append(x)\n",
    "\n",
    "print(newlist)\n",
    "\n",
    "# List comprehension \n",
    "fruits = [\"apple\", \"banana\", \"cherry\", \"kiwi\", \"mango\"]\n",
    "\n",
    "newlist = [x for x in fruits if \"a\" in x]\n",
    "\n",
    "print(newlist)"
   ]
  },
  {
   "cell_type": "markdown",
   "id": "d307f659",
   "metadata": {},
   "source": [
    "Only accepting the items that are not \"apple\":"
   ]
  },
  {
   "cell_type": "code",
   "execution_count": 15,
   "id": "32d61840",
   "metadata": {},
   "outputs": [
    {
     "name": "stdout",
     "output_type": "stream",
     "text": [
      "['banana', 'cherry', 'kiwi', 'mango']\n",
      "['banana', 'cherry', 'kiwi', 'mango']\n"
     ]
    }
   ],
   "source": [
    "# Traditional for loop\n",
    "fruits = [\"apple\", \"banana\", \"cherry\", \"kiwi\", \"mango\"]\n",
    "newlist = []\n",
    "\n",
    "for x in fruits:\n",
    "    if x != \"apple\":\n",
    "        newlist.append(x)\n",
    "\n",
    "print(newlist)\n",
    "\n",
    "# List comprehension \n",
    "fruits = [\"apple\", \"banana\", \"cherry\", \"kiwi\", \"mango\"]\n",
    "\n",
    "newlist = [x for x in fruits if x != \"apple\"]\n",
    "\n",
    "print(newlist)"
   ]
  },
  {
   "cell_type": "markdown",
   "id": "e284c00f",
   "metadata": {},
   "source": [
    "The expression with more conditions:"
   ]
  },
  {
   "cell_type": "code",
   "execution_count": 16,
   "id": "613d63d3",
   "metadata": {},
   "outputs": [
    {
     "name": "stdout",
     "output_type": "stream",
     "text": [
      "['apple', 'orange', 'cherry', 'kiwi', 'mango']\n",
      "['apple', 'orange', 'cherry', 'kiwi', 'mango']\n"
     ]
    }
   ],
   "source": [
    "# Traditional for loop\n",
    "fruits = [\"apple\", \"banana\", \"cherry\", \"kiwi\", \"mango\"]\n",
    "newlist = []\n",
    "\n",
    "for x in fruits:\n",
    "    if x != \"banana\":\n",
    "        newlist.append(x)\n",
    "    else:\n",
    "        newlist.append(\"orange\")\n",
    "        \n",
    "\n",
    "print(newlist)\n",
    "\n",
    "# List comprehension \n",
    "fruits = [\"apple\", \"banana\", \"cherry\", \"kiwi\", \"mango\"]\n",
    "\n",
    "newlist = [x if x != \"banana\" else \"orange\" for x in fruits]\n",
    "\n",
    "print(newlist)"
   ]
  },
  {
   "cell_type": "markdown",
   "id": "90a08d0d",
   "metadata": {},
   "source": [
    "Let's convert integers to strings:"
   ]
  },
  {
   "cell_type": "code",
   "execution_count": 17,
   "id": "c95da818",
   "metadata": {},
   "outputs": [
    {
     "name": "stdout",
     "output_type": "stream",
     "text": [
      "['1', '2', '3', '4', '5', '6', '7', '8']\n",
      "['1', '2', '3', '4', '5', '6', '7', '8']\n"
     ]
    }
   ],
   "source": [
    "# Traditional for loop\n",
    "numbers = [1,2,3,4,5,6,7,8]\n",
    "newlist = []\n",
    "\n",
    "for i in numbers:\n",
    "    newlist.append(str(i))\n",
    "\n",
    "print(newlist)\n",
    "\n",
    "# Using list comprehension\n",
    "numbers = [1,2,3,4,5,6,7,8]\n",
    "\n",
    "newlist = [str(i) for i in numbers]\n",
    "\n",
    "print(newlist)"
   ]
  },
  {
   "cell_type": "markdown",
   "id": "bc60ef44",
   "metadata": {},
   "source": [
    "### Towards Data Science: 11 Examples to Master List Comprehension\n",
    "\n",
    "Example 1: Only printing numbers greater than 5."
   ]
  },
  {
   "cell_type": "code",
   "execution_count": 18,
   "id": "9f3d17f9",
   "metadata": {},
   "outputs": [
    {
     "name": "stdout",
     "output_type": "stream",
     "text": [
      "[6, 7]\n"
     ]
    }
   ],
   "source": [
    "a = [4,6,7,3,2]\n",
    "b = [x for x in a if x > 5]\n",
    "print(b)"
   ]
  },
  {
   "cell_type": "markdown",
   "id": "121eff1d",
   "metadata": {},
   "source": [
    "Example 2: Multiplying (by 2) and printing numbers greater than 5."
   ]
  },
  {
   "cell_type": "code",
   "execution_count": 19,
   "id": "f71a31de",
   "metadata": {},
   "outputs": [
    {
     "name": "stdout",
     "output_type": "stream",
     "text": [
      "[12, 14]\n"
     ]
    }
   ],
   "source": [
    "a = [4,6,7,3,2]\n",
    "b = [x*2 for x in a if x > 5]\n",
    "print(b)"
   ]
  },
  {
   "cell_type": "markdown",
   "id": "02b2cc8a",
   "metadata": {},
   "source": [
    "Example 3: Extracting words that start with \"c\"."
   ]
  },
  {
   "cell_type": "code",
   "execution_count": 20,
   "id": "ee92cb5e",
   "metadata": {},
   "outputs": [
    {
     "name": "stdout",
     "output_type": "stream",
     "text": [
      "['Ch', 'cb']\n"
     ]
    }
   ],
   "source": [
    "names = ['Ch','Dh','Eh','cb','Tb','Td']\n",
    "new_names = [name for name in names if name.lower().startswith('c')]\n",
    "print(new_names)"
   ]
  },
  {
   "cell_type": "markdown",
   "id": "e4f08e7a",
   "metadata": {},
   "source": [
    "Example 4: The iterable does not have to be a list. It can be any python iterable. For instance, we can iterate over a 2-dimensional NumPy array which is actually a matrix. We iterate over the rows in matrix A and take the maximum number."
   ]
  },
  {
   "cell_type": "code",
   "execution_count": 21,
   "id": "8ce6e675",
   "metadata": {},
   "outputs": [
    {
     "name": "stdout",
     "output_type": "stream",
     "text": [
      "[[8 1 3 5]\n",
      " [3 6 0 0]\n",
      " [3 6 8 3]\n",
      " [6 1 5 9]]\n",
      "[8, 6, 8, 9]\n"
     ]
    }
   ],
   "source": [
    "import numpy as np\n",
    "A = np.random.randint(10, size=(4,4))\n",
    "print(A)\n",
    "max_element = [max(i) for i in A]\n",
    "print(max_element)"
   ]
  },
  {
   "cell_type": "markdown",
   "id": "751faaed",
   "metadata": {},
   "source": [
    "Example 5: Lists can store any data type. Let’s do an example with a list of lists. We create a list of the maximum values in each list."
   ]
  },
  {
   "cell_type": "code",
   "execution_count": 22,
   "id": "7c359b54",
   "metadata": {},
   "outputs": [
    {
     "name": "stdout",
     "output_type": "stream",
     "text": [
      "[[1, 2, 3], [4, 5, 2], [3, 2, 6]]\n",
      "[3, 5, 6]\n"
     ]
    }
   ],
   "source": [
    "vals = [[1,2,3],[4,5,2],[3,2,6]]\n",
    "print(vals)\n",
    "vals_max = [max(x) for x in vals]\n",
    "print(vals_max)"
   ]
  },
  {
   "cell_type": "markdown",
   "id": "00311cde",
   "metadata": {},
   "source": [
    "Example 6: We can have multiple conditions in a list comprehension. We get the strings that end with the letter “b” and have a length greater than 2."
   ]
  },
  {
   "cell_type": "code",
   "execution_count": 23,
   "id": "1142d3ea",
   "metadata": {},
   "outputs": [
    {
     "name": "stdout",
     "output_type": "stream",
     "text": [
      "['Chb', 'Tdb']\n"
     ]
    }
   ],
   "source": [
    "names = ['Ch','Dh','Eh','cb','Tb','Td','Chb','Tdb']\n",
    "new_names = [name for name in names if name.lower().endswith('b') and len(name) > 2]\n",
    "print(new_names)"
   ]
  },
  {
   "cell_type": "markdown",
   "id": "6aabfaf2",
   "metadata": {},
   "source": [
    "Example 7: We can combine multiple conditions with other logical operators. Getting names that start with \"c\" or end with \"b\". "
   ]
  },
  {
   "cell_type": "code",
   "execution_count": 24,
   "id": "a2e3acc1",
   "metadata": {},
   "outputs": [
    {
     "name": "stdout",
     "output_type": "stream",
     "text": [
      "['chb', 'ydb']\n"
     ]
    }
   ],
   "source": [
    "names = ['chb', 'ydb', 'thd', 'hgh']\n",
    "new_names = [name for name in names if name.endswith('b') | name.startswith('c')]\n",
    "print(new_names)"
   ]
  },
  {
   "cell_type": "markdown",
   "id": "5030deac",
   "metadata": {},
   "source": [
    "Example 8: We can also have nested list comprehensions which are a little bit more complex. They represent nested for loops. Have a list of lists and we want to take out each element from the nested lists."
   ]
  },
  {
   "cell_type": "code",
   "execution_count": 25,
   "id": "9c80e50f",
   "metadata": {},
   "outputs": [
    {
     "name": "stdout",
     "output_type": "stream",
     "text": [
      "[[1, 2, 3], [4, 5, 2], [3, 2, 6]]\n",
      "[1, 2, 3, 4, 5, 2, 3, 2, 6]\n"
     ]
    }
   ],
   "source": [
    "vals = [[1,2,3],[4,5,2],[3,2,6]]\n",
    "print(vals)\n",
    "vals_exp = [y for x in vals for y in x]\n",
    "print(vals_exp)"
   ]
  },
  {
   "attachments": {
    "image.png": {
     "image/png": "[encoded data removed]"
    }
   },
   "cell_type": "markdown",
   "id": "6733676e",
   "metadata": {},
   "source": [
    "This nested list comprehension looks like:\n",
    "\n",
    "![image.png](attachment:image.png)\n",
    "\n",
    "Image by [Soner Yildirim](https://towardsdatascience.com/11-examples-to-master-python-list-comprehensions-33c681b56212)"
   ]
  },
  {
   "cell_type": "markdown",
   "id": "f221ab3e",
   "metadata": {},
   "source": [
    "This above example can be done using the explode function in `pandas`. It can be done with the explode function as follows: \n",
    "\n",
    "* `pd.Series(vals).explode()`\n",
    "\n",
    "It returns a pandas series but you can easily convert it to a list."
   ]
  },
  {
   "cell_type": "markdown",
   "id": "d013045d",
   "metadata": {},
   "source": [
    "Example 9: We can also add conditions in nested list comprehensions. We only want the strings in nested lists whose length is greater than 3."
   ]
  },
  {
   "cell_type": "code",
   "execution_count": 26,
   "id": "df5bd348",
   "metadata": {},
   "outputs": [
    {
     "name": "stdout",
     "output_type": "stream",
     "text": [
      "['aa', 'bb', 'cc', 'dd']\n"
     ]
    }
   ],
   "source": [
    "text = [['bar','foo','fooba'],['Rome','Madrid','Houston'], ['aa','bb','cc','dd']]\n",
    "text_1 = [y for x in text if len(x)>3 for y in x]\n",
    "print(text_1)"
   ]
  },
  {
   "attachments": {
    "image.png": {
     "image/png": "[encoded data removed]"
    }
   },
   "cell_type": "markdown",
   "id": "6634a7f9",
   "metadata": {},
   "source": [
    "The `for` loop for the above example would look like:\n",
    "\n",
    "![image.png](attachment:image.png)"
   ]
  },
  {
   "cell_type": "markdown",
   "id": "ea9bf37e",
   "metadata": {},
   "source": [
    "Example 10: We can also put a condition on individual elements."
   ]
  },
  {
   "cell_type": "code",
   "execution_count": 27,
   "id": "8e1a251e",
   "metadata": {},
   "outputs": [
    {
     "name": "stdout",
     "output_type": "stream",
     "text": [
      "['fooba', 'Madrid', 'Houston']\n"
     ]
    }
   ],
   "source": [
    "text = [['bar','foo','fooba'],['Rome','Madrid','Houston'], ['aa','bb','cc','dd']]\n",
    "text_2 = [y for x in text for y in x if len(y)>4]\n",
    "print(text_2)"
   ]
  },
  {
   "attachments": {
    "image.png": {
     "image/png": "[encoded data removed]"
    }
   },
   "cell_type": "markdown",
   "id": "e8c3e8f6",
   "metadata": {},
   "source": [
    "We now have strings that are longer than 4 characters. Since the condition is on individual elements, the equivalent nested for/if loops:\n",
    "\n",
    "![image.png](attachment:image.png)"
   ]
  },
  {
   "cell_type": "markdown",
   "id": "4737887d",
   "metadata": {},
   "source": [
    "Example 11: We may also need to put conditions on both nested lists and individual items."
   ]
  },
  {
   "cell_type": "code",
   "execution_count": 28,
   "id": "26329b08",
   "metadata": {},
   "outputs": [
    {
     "name": "stdout",
     "output_type": "stream",
     "text": [
      "['FOO', 'FOOBA']\n"
     ]
    }
   ],
   "source": [
    "text = [['bar','foo','fooba'],['Rome','Madrid','Houston'], ['aa','bb','cc','dd']]\n",
    "text_3 = [y.upper() for x in text if len(x) == 3 for y in x if y.startswith('f')]\n",
    "print(text_3)"
   ]
  },
  {
   "attachments": {
    "image.png": {
     "image/png": "[encoded data removed]"
    }
   },
   "cell_type": "markdown",
   "id": "68328210",
   "metadata": {},
   "source": [
    "The equivalent for/if loops:\n",
    "\n",
    "![image.png](attachment:image.png)"
   ]
  }
 ],
 "metadata": {
  "kernelspec": {
   "display_name": "Python 3 (ipykernel)",
   "language": "python",
   "name": "python3"
  },
  "language_info": {
   "codemirror_mode": {
    "name": "ipython",
    "version": 3
   },
   "file_extension": ".py",
   "mimetype": "text/x-python",
   "name": "python",
   "nbconvert_exporter": "python",
   "pygments_lexer": "ipython3",
   "version": "3.9.7"
  }
 },
 "nbformat": 4,
 "nbformat_minor": 5
}
