{
 "cells": [
  {
   "cell_type": "markdown",
   "id": "8e99dc0a",
   "metadata": {},
   "source": [
    "# Pandas Tutorial"
   ]
  },
  {
   "cell_type": "markdown",
   "id": "7201f8ec",
   "metadata": {},
   "source": [
    "Today we will do a crash course in `numpy`. `numpy` is the main package for scientific computing in Python. If you do data science or machine learning, this is a must know. \n",
    "\n",
    "`numpy` is:\n",
    "\n",
    "* Core library for scientific computing\n",
    "    * Data science, machine learning, deep learning, etc.\n",
    "    * Core of scikit-learn, matplotlib, pandas, etc.\n",
    "* High performance multidimensional array which is fast\n",
    "* Mathematical operations with arrays\n",
    "* A lot of code written in C; this is why it is so fast\n",
    "\n",
    "`numpy` usecases:\n",
    "\n",
    "* Array/matrix operations; linear algebra\n",
    "* Dot product\n",
    "* Matrix multiplications\n",
    "* Linear systems\n",
    "* Inverse, determinant\n",
    "* Eigenvectors\n",
    "* Random numbers\n",
    "* Working with images represented as an array "
   ]
  },
  {
   "cell_type": "markdown",
   "id": "a9d7146c",
   "metadata": {},
   "source": [
    "## Installation & Basics\n",
    "\n",
    "If you are working with `conda` or `pip`, just do:\n",
    "\n",
    "* `conda install numpy`\n",
    "* `pip install numpy`\n",
    "\n",
    "To load the library and check the version:"
   ]
  },
  {
   "cell_type": "code",
   "execution_count": 1,
   "id": "4ddb0d82",
   "metadata": {},
   "outputs": [
    {
     "name": "stdout",
     "output_type": "stream",
     "text": [
      "1.21.5\n"
     ]
    }
   ],
   "source": [
    "# Importing\n",
    "import numpy as np\n",
    "\n",
    "# Checking version\n",
    "print(np.__version__)"
   ]
  },
  {
   "cell_type": "code",
   "execution_count": 2,
   "id": "491393f9",
   "metadata": {},
   "outputs": [
    {
     "name": "stdout",
     "output_type": "stream",
     "text": [
      "[1 2 3]\n"
     ]
    }
   ],
   "source": [
    "# Creating an array\n",
    "a = np.array([1,2,3]) # A list goes inside of an array \n",
    "\n",
    "# Display the result\n",
    "print(a) # This has one dimension so far"
   ]
  },
  {
   "cell_type": "code",
   "execution_count": 3,
   "id": "123c2a11",
   "metadata": {},
   "outputs": [
    {
     "name": "stdout",
     "output_type": "stream",
     "text": [
      "(3,)\n"
     ]
    }
   ],
   "source": [
    "# Get the dimensions of the array\n",
    "print(a.shape) # One dimension with 3 elements"
   ]
  },
  {
   "cell_type": "code",
   "execution_count": 4,
   "id": "2ced3d16",
   "metadata": {},
   "outputs": [
    {
     "name": "stdout",
     "output_type": "stream",
     "text": [
      "int32\n"
     ]
    }
   ],
   "source": [
    "# Get the data type of the array\n",
    "print(a.dtype) #Int32"
   ]
  },
  {
   "cell_type": "code",
   "execution_count": 5,
   "id": "365b0e62",
   "metadata": {},
   "outputs": [
    {
     "name": "stdout",
     "output_type": "stream",
     "text": [
      "1\n"
     ]
    }
   ],
   "source": [
    "# Print the number of dimensions\n",
    "print(a.ndim)"
   ]
  },
  {
   "cell_type": "code",
   "execution_count": 6,
   "id": "674617b5",
   "metadata": {},
   "outputs": [
    {
     "name": "stdout",
     "output_type": "stream",
     "text": [
      "3\n"
     ]
    }
   ],
   "source": [
    "# Looking at the array size\n",
    "print(a.size) # This will return the total number of elements in the array; in this case we have 3"
   ]
  },
  {
   "cell_type": "code",
   "execution_count": 7,
   "id": "e23e4e23",
   "metadata": {},
   "outputs": [
    {
     "name": "stdout",
     "output_type": "stream",
     "text": [
      "4\n"
     ]
    }
   ],
   "source": [
    "# Looking at the item size\n",
    "print(a.itemsize) # This will return the length of one array element in bytes"
   ]
  },
  {
   "cell_type": "code",
   "execution_count": 8,
   "id": "ae0675cb",
   "metadata": {},
   "outputs": [
    {
     "name": "stdout",
     "output_type": "stream",
     "text": [
      "1\n"
     ]
    }
   ],
   "source": [
    "# Using indices \n",
    "print(a[0])"
   ]
  },
  {
   "cell_type": "code",
   "execution_count": 9,
   "id": "b00ec4cf",
   "metadata": {},
   "outputs": [
    {
     "name": "stdout",
     "output_type": "stream",
     "text": [
      "10\n"
     ]
    }
   ],
   "source": [
    "# Changing the index of an array to another value\n",
    "a[0] = 10\n",
    "print(a[0])"
   ]
  },
  {
   "cell_type": "code",
   "execution_count": 10,
   "id": "e7fa50fd",
   "metadata": {},
   "outputs": [
    {
     "name": "stdout",
     "output_type": "stream",
     "text": [
      "[40 10 18]\n"
     ]
    }
   ],
   "source": [
    "# Mathematical operations with arrays; they work element-wise\n",
    "b = a * np.array([4,5,6]) # All of the elements will be multiplied with each other\n",
    "print(b)"
   ]
  },
  {
   "cell_type": "markdown",
   "id": "91fff02c",
   "metadata": {},
   "source": [
    "## Python Lists Versus Arrays"
   ]
  },
  {
   "cell_type": "code",
   "execution_count": 11,
   "id": "f963da3e",
   "metadata": {},
   "outputs": [
    {
     "name": "stdout",
     "output_type": "stream",
     "text": [
      "[1, 2, 3]\n",
      "[1 2 3]\n"
     ]
    }
   ],
   "source": [
    "# Creating a python list\n",
    "l = [1,2,3]\n",
    "\n",
    "# Creating a numpy array\n",
    "a = np.array([1,2,3])\n",
    "\n",
    "# Display list and array\n",
    "print(l)\n",
    "print(a)"
   ]
  },
  {
   "cell_type": "markdown",
   "id": "71beb747",
   "metadata": {},
   "source": [
    "Although, at first, a list and an array look similar, there are differences."
   ]
  },
  {
   "cell_type": "code",
   "execution_count": 12,
   "id": "c1564157",
   "metadata": {},
   "outputs": [
    {
     "name": "stdout",
     "output_type": "stream",
     "text": [
      "[1, 2, 3, 4]\n"
     ]
    }
   ],
   "source": [
    "# Adding an element to a list\n",
    "l.append(4)\n",
    "print(l)"
   ]
  },
  {
   "cell_type": "code",
   "execution_count": 13,
   "id": "9a971cf9",
   "metadata": {},
   "outputs": [
    {
     "ename": "AttributeError",
     "evalue": "'numpy.ndarray' object has no attribute 'append'",
     "output_type": "error",
     "traceback": [
      "\u001b[1;31m---------------------------------------------------------------------------\u001b[0m",
      "\u001b[1;31mAttributeError\u001b[0m                            Traceback (most recent call last)",
      "Input \u001b[1;32mIn [13]\u001b[0m, in \u001b[0;36m<cell line: 2>\u001b[1;34m()\u001b[0m\n\u001b[0;32m      1\u001b[0m \u001b[38;5;66;03m# Adding an element to an array incorrectly\u001b[39;00m\n\u001b[1;32m----> 2\u001b[0m \u001b[43ma\u001b[49m\u001b[38;5;241;43m.\u001b[39;49m\u001b[43mappend\u001b[49m(\u001b[38;5;241m4\u001b[39m)\n",
      "\u001b[1;31mAttributeError\u001b[0m: 'numpy.ndarray' object has no attribute 'append'"
     ]
    }
   ],
   "source": [
    "# Adding an element to an array incorrectly\n",
    "a.append(4)"
   ]
  },
  {
   "cell_type": "code",
   "execution_count": 14,
   "id": "33877698",
   "metadata": {},
   "outputs": [
    {
     "name": "stdout",
     "output_type": "stream",
     "text": [
      "[1, 2, 3, 4, 4]\n"
     ]
    }
   ],
   "source": [
    "# Another way of adding an element to a list\n",
    "l = l + [4]\n",
    "print(l)"
   ]
  },
  {
   "cell_type": "code",
   "execution_count": 15,
   "id": "5f476101",
   "metadata": {},
   "outputs": [
    {
     "name": "stdout",
     "output_type": "stream",
     "text": [
      "[5 6 7]\n"
     ]
    }
   ],
   "source": [
    "# Adding an element to an array incorrectly \n",
    "a = a + np.array(4)\n",
    "print(a)"
   ]
  },
  {
   "cell_type": "markdown",
   "id": "8452f9bd",
   "metadata": {},
   "source": [
    "We see that our array still has 3 elements and that 4 has been added to each of the elements. This operation works signficantly different on arrays compared to lists."
   ]
  },
  {
   "cell_type": "code",
   "execution_count": 16,
   "id": "d6d5c4a8",
   "metadata": {},
   "outputs": [
    {
     "name": "stdout",
     "output_type": "stream",
     "text": [
      "[1, 2, 3, 4, 4, 1, 2, 3, 4, 4]\n"
     ]
    }
   ],
   "source": [
    "# Python list multiplication\n",
    "l *= 2\n",
    "print(l)"
   ]
  },
  {
   "cell_type": "code",
   "execution_count": 17,
   "id": "7a8aa8f8",
   "metadata": {},
   "outputs": [
    {
     "name": "stdout",
     "output_type": "stream",
     "text": [
      "[10 12 14]\n"
     ]
    }
   ],
   "source": [
    "# Using the same operation with numpy\n",
    "a = a * 2\n",
    "print(a)"
   ]
  },
  {
   "cell_type": "markdown",
   "id": "17bddba1",
   "metadata": {},
   "source": [
    "When we multiplied the list by 2, it repeated itself 2 times. When we multiplied our array by 2, all of the elements in the array were multiplied by 2. This is generally how mathematical operations work in `numpy`; they work element-wise."
   ]
  },
  {
   "cell_type": "code",
   "execution_count": 18,
   "id": "65f1f1e3",
   "metadata": {},
   "outputs": [
    {
     "name": "stdout",
     "output_type": "stream",
     "text": [
      "[3.16227766 3.46410162 3.74165739]\n"
     ]
    }
   ],
   "source": [
    "# Square root method\n",
    "a = np.sqrt(a)\n",
    "print(a)"
   ]
  },
  {
   "cell_type": "code",
   "execution_count": 19,
   "id": "b960ca90",
   "metadata": {},
   "outputs": [
    {
     "name": "stdout",
     "output_type": "stream",
     "text": [
      "[1.15129255 1.24245332 1.31952866]\n"
     ]
    }
   ],
   "source": [
    "# Log method\n",
    "a = np.log(a)\n",
    "print(a)"
   ]
  },
  {
   "attachments": {
    "image.png": {
     "image/png": "[encoded data removed]"
    }
   },
   "cell_type": "markdown",
   "id": "c57d2588",
   "metadata": {},
   "source": [
    "## Dot Product\n",
    "\n",
    "It is very useful in data science and machine learning to calculate the dot product of vectors. Dot product is an algebraic operation that takes two equal-length sequences of numbers (usually coordinate vectors), and returns a single number. Algebraically, the dot product is the sum of the products of the corresponding entries of the two sequences of numbers. Geometrically, it is the product of the Euclidean magnitudes of the two vectors and the cosine of the angle between them.\n",
    "\n",
    "For the algebriac definition, the dot product of two vectors $a = [a_{1}, a_{2}, ..., a_{n}]$ and $b = [b_{1}, b_{2}, ..., b_{n}]$ is defined as:\n",
    "\n",
    "![image.png](attachment:image.png)\n",
    "\n",
    "In Euclidean space, a Euclidean vector is a geometric object that possesses both a magnitude and a direction. A vector can be pictured as an arrow. Its magnitude is its length, and its direction is the direction to which the arrow points. The magnitude of a vector a is denoted by $||a||$. The dot product of two Euclidean vectors $a$ and $b$ is defined by:\n",
    "\n",
    "$$ a \\cdot b = ||a|| \\, ||b|| cos \\theta $$"
   ]
  },
  {
   "cell_type": "code",
   "execution_count": 20,
   "id": "f56a72d5",
   "metadata": {},
   "outputs": [
    {
     "name": "stdout",
     "output_type": "stream",
     "text": [
      "32\n"
     ]
    }
   ],
   "source": [
    "# To calculate the dor product between 2 arrays with a lost\n",
    "l1 = [1,2,3]\n",
    "l2 = [4,5,6]\n",
    "\n",
    "# Create a variable to hold the dot product\n",
    "dot = 0\n",
    "\n",
    "# Loops over lists\n",
    "for i in range(len(l1)):\n",
    "    dot += l1[i] * l2[i]\n",
    "print(dot)"
   ]
  },
  {
   "cell_type": "code",
   "execution_count": 21,
   "id": "e1b5f9c6",
   "metadata": {},
   "outputs": [
    {
     "name": "stdout",
     "output_type": "stream",
     "text": [
      "32\n"
     ]
    }
   ],
   "source": [
    "# Calculating dot product with numpy\n",
    "a1 = np.array(l1)\n",
    "a2 = np.array(l2)\n",
    "dot = np.dot(a1, a2)\n",
    "print(dot)"
   ]
  },
  {
   "cell_type": "markdown",
   "id": "c836ea26",
   "metadata": {},
   "source": [
    "As we can see, using `numpy` is much faster. Now, as an example let's do it manually step-by-step."
   ]
  },
  {
   "cell_type": "code",
   "execution_count": 22,
   "id": "c6cacadd",
   "metadata": {},
   "outputs": [
    {
     "name": "stdout",
     "output_type": "stream",
     "text": [
      "32\n"
     ]
    }
   ],
   "source": [
    "# This works element-wise\n",
    "sum1 = a1 * a2 # Element-wise multiplication\n",
    "dot = np.sum(sum1) # Summing results\n",
    "print(dot)"
   ]
  },
  {
   "cell_type": "markdown",
   "id": "23c7a904",
   "metadata": {},
   "source": [
    "All of those methods is an instanced methods, so we can call them on the array object."
   ]
  },
  {
   "cell_type": "code",
   "execution_count": 23,
   "id": "a84d5cb7",
   "metadata": {},
   "outputs": [
    {
     "name": "stdout",
     "output_type": "stream",
     "text": [
      "32\n"
     ]
    }
   ],
   "source": [
    "# Using the methods on an array\n",
    "dot = (a1 * a2).sum()\n",
    "print(dot)"
   ]
  },
  {
   "cell_type": "markdown",
   "id": "654be451",
   "metadata": {},
   "source": [
    "In newer version, we can use the `@` sign."
   ]
  },
  {
   "cell_type": "code",
   "execution_count": 24,
   "id": "051f9add",
   "metadata": {},
   "outputs": [
    {
     "name": "stdout",
     "output_type": "stream",
     "text": [
      "32\n"
     ]
    }
   ],
   "source": [
    "# Using the 'at' symbol for the dot product\n",
    "dot = a1 @ a2\n",
    "print(dot)"
   ]
  },
  {
   "cell_type": "markdown",
   "id": "54eff779",
   "metadata": {},
   "source": [
    "## Speed Test: Arrays Versus Lists"
   ]
  },
  {
   "cell_type": "code",
   "execution_count": 25,
   "id": "28df6c4b",
   "metadata": {},
   "outputs": [
    {
     "name": "stdout",
     "output_type": "stream",
     "text": [
      "Time with lists: 0.20240579999999753\n",
      "Time with array: 0.0013098000000013599\n",
      "Ratio 154.5318369215051\n"
     ]
    }
   ],
   "source": [
    "# Speed test lists vs array\n",
    "from timeit import default_timer as timer\n",
    "\n",
    "# Generating random numbers as numpy array\n",
    "a = np.random.randn(1000)\n",
    "b = np.random.randn(1000)\n",
    "\n",
    "# Converting the numpy arrays to lists\n",
    "A = list(a)\n",
    "B = list(b)\n",
    "\n",
    "# We calculate the dot product 1000 times \n",
    "T = 1000\n",
    "\n",
    "# Doing dot product manually with a for loop with lists\n",
    "def dot1():\n",
    "    dot = 0\n",
    "    for i in range(len(A)):\n",
    "        dot += A[i]*B[i]\n",
    "    return dot\n",
    "\n",
    "# Doing it in one line with numpy arrays\n",
    "def dot2():\n",
    "    return np.dot(a,b)\n",
    "\n",
    "# Calculating how long it takes for lists\n",
    "start = timer()\n",
    "for t in range(T):\n",
    "    dot1()\n",
    "end = timer()\n",
    "t1 = end-start\n",
    "\n",
    "# Calculating how long it takes for arrays\n",
    "start = timer()\n",
    "for t in range(T):\n",
    "    dot2()\n",
    "end = timer()\n",
    "t2 = end-start\n",
    "\n",
    "# Displaying the results\n",
    "print('Time with lists:', t1)\n",
    "print('Time with array:', t2)\n",
    "print('Ratio', t1/t2)"
   ]
  },
  {
   "cell_type": "markdown",
   "id": "6c8b1cd2",
   "metadata": {},
   "source": [
    "As we can see, the list calculations take much longer than arrays. `numpy` arrays are about 157 times faster when using mathematical operations. "
   ]
  },
  {
   "cell_type": "markdown",
   "id": "3b53001f",
   "metadata": {},
   "source": [
    "## Multidimensional (nd) Arrays"
   ]
  },
  {
   "cell_type": "code",
   "execution_count": 26,
   "id": "5c1e46d7",
   "metadata": {},
   "outputs": [
    {
     "name": "stdout",
     "output_type": "stream",
     "text": [
      "[1 2]\n",
      "(2,)\n"
     ]
    }
   ],
   "source": [
    "# Making a one dimensional array\n",
    "a = np.array([1,2])\n",
    "print(a)\n",
    "print(a.shape) # One row"
   ]
  },
  {
   "cell_type": "code",
   "execution_count": 27,
   "id": "d46bb32a",
   "metadata": {},
   "outputs": [
    {
     "name": "stdout",
     "output_type": "stream",
     "text": [
      "[[1 2]\n",
      " [3 4]]\n",
      "(2, 2)\n"
     ]
    }
   ],
   "source": [
    "# To make a multi dimensional array, we can pass in a list of lists\n",
    "a = np.array([[1,2], [3,4]]) # A list of lists is denoted with double brackets [[]]\n",
    "print(a)\n",
    "print(a.shape) # 2x2 (rows by columns) array"
   ]
  },
  {
   "cell_type": "code",
   "execution_count": 28,
   "id": "ba514aa5",
   "metadata": {},
   "outputs": [
    {
     "name": "stdout",
     "output_type": "stream",
     "text": [
      "[[1 2]\n",
      " [3 4]\n",
      " [5 6]]\n",
      "(3, 2)\n"
     ]
    }
   ],
   "source": [
    "# Passing in more items to make a 3x2 array\n",
    "a = np.array([[1,2], [3,4], [5,6]])\n",
    "print(a)\n",
    "print(a.shape)"
   ]
  },
  {
   "cell_type": "code",
   "execution_count": 29,
   "id": "0fdac50e",
   "metadata": {},
   "outputs": [
    {
     "name": "stdout",
     "output_type": "stream",
     "text": [
      "[[1 2 6]\n",
      " [3 4 8]]\n",
      "(2, 3)\n"
     ]
    }
   ],
   "source": [
    "# Passing in items to make a 2x3 array\n",
    "a = np.array([[1,2,6], [3,4,8]])\n",
    "print(a)\n",
    "print(a.shape)"
   ]
  },
  {
   "cell_type": "markdown",
   "id": "b633062a",
   "metadata": {},
   "source": [
    "Now, we will show how to access the elements of an array."
   ]
  },
  {
   "cell_type": "code",
   "execution_count": 30,
   "id": "95b8742d",
   "metadata": {},
   "outputs": [
    {
     "name": "stdout",
     "output_type": "stream",
     "text": [
      "[1 2 6]\n"
     ]
    }
   ],
   "source": [
    "# Entire first row\n",
    "print(a[0])"
   ]
  },
  {
   "cell_type": "code",
   "execution_count": 31,
   "id": "5105971d",
   "metadata": {},
   "outputs": [
    {
     "name": "stdout",
     "output_type": "stream",
     "text": [
      "1\n",
      "1\n"
     ]
    }
   ],
   "source": [
    "# Single element in the first row and column\n",
    "print(a[0][0]) # Longer syntax \n",
    "\n",
    "# Or\n",
    "print(a[0, 0]) # Shorter syntax "
   ]
  },
  {
   "cell_type": "markdown",
   "id": "74b407e2",
   "metadata": {},
   "source": [
    "Now, let's quickly talk about slicing."
   ]
  },
  {
   "cell_type": "code",
   "execution_count": 32,
   "id": "ea7e4aba",
   "metadata": {},
   "outputs": [
    {
     "name": "stdout",
     "output_type": "stream",
     "text": [
      "[1 3]\n"
     ]
    }
   ],
   "source": [
    "# Display all the rows and only column 0\n",
    "print(a[:, 0])"
   ]
  },
  {
   "cell_type": "code",
   "execution_count": 33,
   "id": "b47ff4af",
   "metadata": {},
   "outputs": [
    {
     "name": "stdout",
     "output_type": "stream",
     "text": [
      "[1 2 6]\n"
     ]
    }
   ],
   "source": [
    "# Display all the columns and only row 0\n",
    "print(a[0, :])"
   ]
  },
  {
   "cell_type": "code",
   "execution_count": 34,
   "id": "8a1c9151",
   "metadata": {},
   "outputs": [
    {
     "name": "stdout",
     "output_type": "stream",
     "text": [
      "[[1 3]\n",
      " [2 4]\n",
      " [6 8]]\n"
     ]
    }
   ],
   "source": [
    "# Transposing an array \n",
    "print(a.T)"
   ]
  },
  {
   "cell_type": "code",
   "execution_count": 36,
   "id": "6ba1992c",
   "metadata": {},
   "outputs": [
    {
     "name": "stdout",
     "output_type": "stream",
     "text": [
      "[[-2.   1. ]\n",
      " [ 1.5 -0.5]]\n"
     ]
    }
   ],
   "source": [
    "# Calculate the inverse of an array; the array must be square\n",
    "a = np.array([[1,2], [3,4]])\n",
    "print(np.linalg.inv(a)) # The array must be square to use this"
   ]
  },
  {
   "cell_type": "code",
   "execution_count": 37,
   "id": "79ee0f21",
   "metadata": {},
   "outputs": [
    {
     "name": "stdout",
     "output_type": "stream",
     "text": [
      "-2.0000000000000004\n"
     ]
    }
   ],
   "source": [
    "# Calculating the determinant of an array \n",
    "print(np.linalg.det(a))"
   ]
  },
  {
   "cell_type": "code",
   "execution_count": 38,
   "id": "8e5d279c",
   "metadata": {},
   "outputs": [
    {
     "name": "stdout",
     "output_type": "stream",
     "text": [
      "[1 4]\n"
     ]
    }
   ],
   "source": [
    "# Calculate the diagonal of the matrix\n",
    "print(np.diag(a)) # This will return the diagonal elements of an array; it will be a one dimensional vector"
   ]
  },
  {
   "cell_type": "markdown",
   "id": "f691ae2e",
   "metadata": {},
   "source": [
    "However, if we pass in a one-dimensional vector to the `np.diag()` function, it will make a matrix with the one-dimensional vector along the diagonal."
   ]
  },
  {
   "cell_type": "code",
   "execution_count": 39,
   "id": "b88c83c9",
   "metadata": {},
   "outputs": [
    {
     "name": "stdout",
     "output_type": "stream",
     "text": [
      "[[1 0]\n",
      " [0 4]]\n"
     ]
    }
   ],
   "source": [
    "# Making a matrix out of a diagonal vector\n",
    "c = np.diag(a)\n",
    "print(np.diag(c))"
   ]
  },
  {
   "cell_type": "markdown",
   "id": "4dd33007",
   "metadata": {},
   "source": [
    "## Indexing/Slicing/Boolean Indexing\n",
    "\n",
    "We have briefly showed slicing. It is similar to lists, where we can slice the indices. Since arrays can be multidimensional, we must specify a slice for every dimension in our array."
   ]
  },
  {
   "cell_type": "code",
   "execution_count": 41,
   "id": "57f60b86",
   "metadata": {},
   "outputs": [
    {
     "name": "stdout",
     "output_type": "stream",
     "text": [
      "[[1 2]\n",
      " [3 4]]\n",
      "2\n"
     ]
    }
   ],
   "source": [
    "# Making the array for indexing\n",
    "a = np.array([[1,2], [3,4]])\n",
    "print(a)\n",
    "\n",
    "# Have only 1 value using integer array indexing\n",
    "b = a[0, 1] # Getting row 0 and column 1 value\n",
    "print(b)"
   ]
  },
  {
   "cell_type": "code",
   "execution_count": 42,
   "id": "14defa8e",
   "metadata": {},
   "outputs": [
    {
     "name": "stdout",
     "output_type": "stream",
     "text": [
      "[[1 2 3 4]\n",
      " [5 6 7 8]]\n"
     ]
    }
   ],
   "source": [
    "# Making the array for slicing\n",
    "a = np.array([[1,2,3, 4], [5,6,7,8]])\n",
    "print(a)"
   ]
  },
  {
   "cell_type": "code",
   "execution_count": 43,
   "id": "bf927cad",
   "metadata": {},
   "outputs": [
    {
     "name": "stdout",
     "output_type": "stream",
     "text": [
      "[1 2 3 4]\n"
     ]
    }
   ],
   "source": [
    "# Getting the entirety of row 0\n",
    "b = a[0, :] # : indicates selecting all columns; this can be done for rows with a[:, 0] for example\n",
    "print(b)"
   ]
  },
  {
   "cell_type": "code",
   "execution_count": 44,
   "id": "6a619cdb",
   "metadata": {},
   "outputs": [
    {
     "name": "stdout",
     "output_type": "stream",
     "text": [
      "[2 3]\n"
     ]
    }
   ],
   "source": [
    "# We can put in start and stop values; remember, the last index is excluded\n",
    "b = a[0, 1:3] # Selecting the entire row and columns 1 and 2\n",
    "print(b)"
   ]
  },
  {
   "cell_type": "code",
   "execution_count": 45,
   "id": "29f85e52",
   "metadata": {},
   "outputs": [
    {
     "name": "stdout",
     "output_type": "stream",
     "text": [
      "8\n"
     ]
    }
   ],
   "source": [
    "# Selecting using negative indexing\n",
    "b = a[-1, -1] # This will select the very last element in the array; can also do a[-1, -2] for second last column\n",
    "print(b)"
   ]
  },
  {
   "cell_type": "code",
   "execution_count": 46,
   "id": "bf247661",
   "metadata": {},
   "outputs": [
    {
     "name": "stdout",
     "output_type": "stream",
     "text": [
      "[[1 2]\n",
      " [3 4]\n",
      " [5 6]]\n"
     ]
    }
   ],
   "source": [
    "# Making an array for boolean indexing\n",
    "a = np.array([[1,2], [3,4], [5,6]]) # This will make a 3x2 array \n",
    "print(a)"
   ]
  },
  {
   "cell_type": "code",
   "execution_count": 47,
   "id": "1a2ce952",
   "metadata": {},
   "outputs": [
    {
     "name": "stdout",
     "output_type": "stream",
     "text": [
      "[[False False]\n",
      " [ True  True]\n",
      " [ True  True]]\n"
     ]
    }
   ],
   "source": [
    "# Using boolean indexing\n",
    "bool_idx = a > 2 # Contains True/False values and will be the same shape as the original array \n",
    "print(bool_idx) "
   ]
  },
  {
   "cell_type": "code",
   "execution_count": 48,
   "id": "981cbab5",
   "metadata": {},
   "outputs": [
    {
     "name": "stdout",
     "output_type": "stream",
     "text": [
      "[3 4 5 6]\n"
     ]
    }
   ],
   "source": [
    "# Now we can index the original array using the array we creating using boolean indices\n",
    "print(a[bool_idx]) # This will print only the elements where the condition we specified is met; the array will be 1 D"
   ]
  },
  {
   "cell_type": "code",
   "execution_count": 49,
   "id": "d9b2bbe3",
   "metadata": {},
   "outputs": [
    {
     "name": "stdout",
     "output_type": "stream",
     "text": [
      "[3 4 5 6]\n"
     ]
    }
   ],
   "source": [
    "# We can do this process using only one step rather than 2\n",
    "print(a[a > 2])"
   ]
  },
  {
   "cell_type": "code",
   "execution_count": 50,
   "id": "ed3ac544",
   "metadata": {},
   "outputs": [
    {
     "name": "stdout",
     "output_type": "stream",
     "text": [
      "[[-1 -1]\n",
      " [ 3  4]\n",
      " [ 5  6]]\n"
     ]
    }
   ],
   "source": [
    "# If we want to have an array that is still the same size, we can use the .where method\n",
    "b = np.where(a > 2, a, -1) # Array will be the same shape and the positions where it is not true will have -1\n",
    "print(b)"
   ]
  },
  {
   "cell_type": "code",
   "execution_count": 53,
   "id": "9a51ef77",
   "metadata": {},
   "outputs": [
    {
     "name": "stdout",
     "output_type": "stream",
     "text": [
      "[10 19 30 41 50 61]\n",
      "[19 41 61]\n"
     ]
    }
   ],
   "source": [
    "# Using fancy indexing; making an array\n",
    "a = np.array([10, 19, 30, 41, 50, 61])\n",
    "print(a)\n",
    "\n",
    "# Creating an array with just some indicies\n",
    "b = [1, 3, 5] # Using a python list to specify indices\n",
    "print(a[b])"
   ]
  },
  {
   "cell_type": "code",
   "execution_count": 54,
   "id": "134d6590",
   "metadata": {},
   "outputs": [
    {
     "name": "stdout",
     "output_type": "stream",
     "text": [
      "[10 30 50]\n"
     ]
    }
   ],
   "source": [
    "# Using a dummy example to find the even indices\n",
    "even = np.argwhere(a % 2 == 0).flatten() # .flatten() makes the array one dimensional \n",
    "print(a[even])"
   ]
  },
  {
   "cell_type": "markdown",
   "id": "54fda87b",
   "metadata": {},
   "source": [
    "## Reshaping Arrays"
   ]
  },
  {
   "cell_type": "code",
   "execution_count": 56,
   "id": "adb9ca33",
   "metadata": {},
   "outputs": [
    {
     "name": "stdout",
     "output_type": "stream",
     "text": [
      "[1 2 3 4 5 6]\n"
     ]
    }
   ],
   "source": [
    "# Creating an array using the arrange function\n",
    "a = np.arange(1, 7) # This will create an array with numbers 1-6\n",
    "print(a)"
   ]
  },
  {
   "cell_type": "code",
   "execution_count": 58,
   "id": "ae219699",
   "metadata": {},
   "outputs": [
    {
     "name": "stdout",
     "output_type": "stream",
     "text": [
      "(6,)\n"
     ]
    }
   ],
   "source": [
    "# Checking the shape\n",
    "print(a.shape) # It is one dimension with 6 elements"
   ]
  },
  {
   "cell_type": "code",
   "execution_count": 60,
   "id": "7f3f0145",
   "metadata": {},
   "outputs": [
    {
     "name": "stdout",
     "output_type": "stream",
     "text": [
      "[[1 2 3]\n",
      " [4 5 6]]\n",
      "(2, 3)\n"
     ]
    }
   ],
   "source": [
    "# Reshaping the array\n",
    "b = a.reshape((2,3)) # Must put in a tuple; the array will be reshaped to a 2x3 array\n",
    "print(b)\n",
    "print(b.shape)"
   ]
  },
  {
   "cell_type": "markdown",
   "id": "b42f1a88",
   "metadata": {},
   "source": [
    "If the shape cannot be used, meaning the original vector cannot fit into the new shape, `numpy` will give you an error. So, for example, if you have a one-dimensional vector with 6 elements and try to reshape is to 2x4, which would require 8 elements, it will not work. "
   ]
  },
  {
   "cell_type": "code",
   "execution_count": 62,
   "id": "29d05bcf",
   "metadata": {},
   "outputs": [
    {
     "name": "stdout",
     "output_type": "stream",
     "text": [
      "[[1 2 3 4 5 6]]\n",
      "(1, 6)\n"
     ]
    }
   ],
   "source": [
    "# Using the .newaxis method to create a new axis; this is needed when a model needs the data to be shaped in a certain manner\n",
    "b = a[np.newaxis, :] # This will make a list of lists\n",
    "print(b)\n",
    "print(b.shape)"
   ]
  },
  {
   "cell_type": "code",
   "execution_count": 63,
   "id": "d27f3851",
   "metadata": {},
   "outputs": [
    {
     "name": "stdout",
     "output_type": "stream",
     "text": [
      "[[1]\n",
      " [2]\n",
      " [3]\n",
      " [4]\n",
      " [5]\n",
      " [6]]\n",
      "(6, 1)\n"
     ]
    }
   ],
   "source": [
    "# Making a new axis on the other way around\n",
    "b = a[:, np.newaxis] # This will make a list of lists\n",
    "print(b)\n",
    "print(b.shape)"
   ]
  },
  {
   "cell_type": "markdown",
   "id": "e41b5b3a",
   "metadata": {},
   "source": [
    "## Concatenation"
   ]
  },
  {
   "cell_type": "code",
   "execution_count": 65,
   "id": "1e63638b",
   "metadata": {},
   "outputs": [
    {
     "name": "stdout",
     "output_type": "stream",
     "text": [
      "[[1 2]\n",
      " [3 4]]\n",
      "[[5 6]]\n"
     ]
    }
   ],
   "source": [
    "# Appending an element to a numpy array; making the arrays\n",
    "\n",
    "# First array\n",
    "a = np.array([[1,2], [3,4]])\n",
    "print(a)\n",
    "\n",
    "# Second array\n",
    "b = np.array([[5,6]])\n",
    "print(b)"
   ]
  },
  {
   "cell_type": "code",
   "execution_count": 66,
   "id": "05f0126e",
   "metadata": {},
   "outputs": [
    {
     "name": "stdout",
     "output_type": "stream",
     "text": [
      "[[1 2]\n",
      " [3 4]\n",
      " [5 6]]\n"
     ]
    }
   ],
   "source": [
    "# Putting the arrays together; default\n",
    "c = np.concatenate((a,b)) # Needs the 2 arrays as a tuple \n",
    "# By default, numpy will add the second array along axis 1, meaning a new row; by default the argument axis = 0\n",
    "print(c)"
   ]
  },
  {
   "cell_type": "code",
   "execution_count": 68,
   "id": "c730a611",
   "metadata": {},
   "outputs": [
    {
     "name": "stdout",
     "output_type": "stream",
     "text": [
      "[1 2 3 4 5 6]\n"
     ]
    }
   ],
   "source": [
    "# Putting the arrays together; axis = None\n",
    "c = np.concatenate((a,b), axis = None) # This will flatten the array into a one dimensional object\n",
    "print(c)"
   ]
  },
  {
   "cell_type": "code",
   "execution_count": 69,
   "id": "1faa73a5",
   "metadata": {},
   "outputs": [
    {
     "ename": "ValueError",
     "evalue": "all the input array dimensions for the concatenation axis must match exactly, but along dimension 0, the array at index 0 has size 2 and the array at index 1 has size 1",
     "output_type": "error",
     "traceback": [
      "\u001b[1;31m---------------------------------------------------------------------------\u001b[0m",
      "\u001b[1;31mValueError\u001b[0m                                Traceback (most recent call last)",
      "Input \u001b[1;32mIn [69]\u001b[0m, in \u001b[0;36m<cell line: 2>\u001b[1;34m()\u001b[0m\n\u001b[0;32m      1\u001b[0m \u001b[38;5;66;03m# Putting arrays together; axis = 1\u001b[39;00m\n\u001b[1;32m----> 2\u001b[0m c \u001b[38;5;241m=\u001b[39m \u001b[43mnp\u001b[49m\u001b[38;5;241;43m.\u001b[39;49m\u001b[43mconcatenate\u001b[49m\u001b[43m(\u001b[49m\u001b[43m(\u001b[49m\u001b[43ma\u001b[49m\u001b[43m,\u001b[49m\u001b[43mb\u001b[49m\u001b[43m)\u001b[49m\u001b[43m,\u001b[49m\u001b[43m \u001b[49m\u001b[43maxis\u001b[49m\u001b[43m \u001b[49m\u001b[38;5;241;43m=\u001b[39;49m\u001b[43m \u001b[49m\u001b[38;5;241;43m1\u001b[39;49m\u001b[43m)\u001b[49m\n\u001b[0;32m      3\u001b[0m \u001b[38;5;28mprint\u001b[39m(c)\n",
      "File \u001b[1;32m<__array_function__ internals>:5\u001b[0m, in \u001b[0;36mconcatenate\u001b[1;34m(*args, **kwargs)\u001b[0m\n",
      "\u001b[1;31mValueError\u001b[0m: all the input array dimensions for the concatenation axis must match exactly, but along dimension 0, the array at index 0 has size 2 and the array at index 1 has size 1"
     ]
    }
   ],
   "source": [
    "# Putting arrays together; axis = 1\n",
    "c = np.concatenate((a,b), axis = 1) # This will throw an error because the dimensions to no match\n",
    "print(c)"
   ]
  },
  {
   "cell_type": "markdown",
   "id": "811a4919",
   "metadata": {},
   "source": [
    "As we can see, we get a value error because the dimensions do not match. In this case, a = 2x2 and b = 1x2. But, b must be 2x1 to match the dimensions."
   ]
  },
  {
   "cell_type": "code",
   "execution_count": 70,
   "id": "3f9f6438",
   "metadata": {},
   "outputs": [
    {
     "name": "stdout",
     "output_type": "stream",
     "text": [
      "[[1 2 5]\n",
      " [3 4 6]]\n"
     ]
    }
   ],
   "source": [
    "# Transposing b so we can add it as a column\n",
    "c = np.concatenate((a,b.T), axis = 1)\n",
    "print(c)"
   ]
  },
  {
   "cell_type": "code",
   "execution_count": 71,
   "id": "6bd8c955",
   "metadata": {},
   "outputs": [
    {
     "name": "stdout",
     "output_type": "stream",
     "text": [
      "[1 2 3 4 5 6 7 8]\n"
     ]
    }
   ],
   "source": [
    "# Using hstack; stacking arrays in squence horizontally column-wise; one column after another\n",
    "a = np.array([1,2,3,4])\n",
    "b = np.array([5,6,7,8])\n",
    "c = np.hstack((a,b)) # Takes a tuple\n",
    "print(c)"
   ]
  },
  {
   "cell_type": "code",
   "execution_count": 72,
   "id": "82c4e4c5",
   "metadata": {},
   "outputs": [
    {
     "name": "stdout",
     "output_type": "stream",
     "text": [
      "[[1 2 3 4]\n",
      " [5 6 7 8]]\n"
     ]
    }
   ],
   "source": [
    "# Using vstack; stacking arrays vertically row-wise; adds the second array as a new row\n",
    "a = np.array([1,2,3,4])\n",
    "b = np.array([5,6,7,8])\n",
    "c = np.vstack((a,b)) # Takes a tuple\n",
    "print(c)"
   ]
  },
  {
   "cell_type": "markdown",
   "id": "498edb09",
   "metadata": {},
   "source": [
    "## Broadcasting\n",
    "\n",
    "This a powerful mechanism of `numpy` which allows arrays to work with arrays of different shapes when doing mathematical operations."
   ]
  },
  {
   "cell_type": "code",
   "execution_count": 74,
   "id": "1608f11b",
   "metadata": {},
   "outputs": [
    {
     "name": "stdout",
     "output_type": "stream",
     "text": [
      "[[1 2 3]\n",
      " [4 5 6]\n",
      " [1 2 3]\n",
      " [4 5 6]]\n",
      "[1 0 1]\n"
     ]
    }
   ],
   "source": [
    "# Making a big array\n",
    "x = np.array([[1,2,3], [4,5,6], [1,2,3], [4,5,6]])\n",
    "print(x)\n",
    "\n",
    "# Making a smaller array\n",
    "a = np.array([1,0,1])\n",
    "print(a)"
   ]
  },
  {
   "cell_type": "code",
   "execution_count": 75,
   "id": "0afd5274",
   "metadata": {},
   "outputs": [
    {
     "name": "stdout",
     "output_type": "stream",
     "text": [
      "[[2 2 4]\n",
      " [5 5 7]\n",
      " [2 2 4]\n",
      " [5 5 7]]\n"
     ]
    }
   ],
   "source": [
    "# Adding a to x\n",
    "y = x + a # This will [1, 0, 1] to each row element-wise\n",
    "print(y)"
   ]
  },
  {
   "cell_type": "markdown",
   "id": "688f2af9",
   "metadata": {},
   "source": [
    "When operating on two arrays, `numpy` compares their shapes element-wise. It starts with the trailing (i.e. rightmost) dimensions and works its way left. Two dimensions are compatible when:\n",
    "\n",
    "* They are equal, or\n",
    "* They are 1\n",
    "\n",
    "If these conditions are not met, a `ValueError: operands could not be broadcast together` exception is thrown, indicating that the arrays have incompatible shapes."
   ]
  },
  {
   "cell_type": "code",
   "execution_count": 76,
   "id": "1e11b32d",
   "metadata": {},
   "outputs": [
    {
     "name": "stdout",
     "output_type": "stream",
     "text": [
      "[[1 2 3]\n",
      " [4 5 6]\n",
      " [1 2 3]\n",
      " [4 5 6]]\n",
      "[1 0]\n"
     ]
    }
   ],
   "source": [
    "# Example of broadcasting not working\n",
    "# Making a big array\n",
    "x = np.array([[1,2,3], [4,5,6], [1,2,3], [4,5,6]])\n",
    "print(x)\n",
    "\n",
    "# Making a smaller array\n",
    "a = np.array([1,0])\n",
    "print(a)"
   ]
  },
  {
   "cell_type": "code",
   "execution_count": 83,
   "id": "96ddc82c",
   "metadata": {},
   "outputs": [
    {
     "ename": "ValueError",
     "evalue": "operands could not be broadcast together with shapes (4,3) (2,7) ",
     "output_type": "error",
     "traceback": [
      "\u001b[1;31m---------------------------------------------------------------------------\u001b[0m",
      "\u001b[1;31mValueError\u001b[0m                                Traceback (most recent call last)",
      "Input \u001b[1;32mIn [83]\u001b[0m, in \u001b[0;36m<cell line: 2>\u001b[1;34m()\u001b[0m\n\u001b[0;32m      1\u001b[0m \u001b[38;5;66;03m# Adding a to x\u001b[39;00m\n\u001b[1;32m----> 2\u001b[0m y \u001b[38;5;241m=\u001b[39m \u001b[43mx\u001b[49m\u001b[43m \u001b[49m\u001b[38;5;241;43m+\u001b[39;49m\u001b[43m \u001b[49m\u001b[43ma\u001b[49m \u001b[38;5;66;03m# This will [1, 0, 1] to each row element-wise\u001b[39;00m\n\u001b[0;32m      3\u001b[0m \u001b[38;5;28mprint\u001b[39m(y)\n",
      "\u001b[1;31mValueError\u001b[0m: operands could not be broadcast together with shapes (4,3) (2,7) "
     ]
    }
   ],
   "source": [
    "# Adding a to x\n",
    "y = x + a # This will [1, 0, 1] to each row element-wise\n",
    "print(y)"
   ]
  },
  {
   "cell_type": "markdown",
   "id": "7a099a02",
   "metadata": {},
   "source": [
    "## Functions & Axis"
   ]
  },
  {
   "cell_type": "code",
   "execution_count": 78,
   "id": "8688fe25",
   "metadata": {},
   "outputs": [
    {
     "name": "stdout",
     "output_type": "stream",
     "text": [
      "[[ 7  8  9 10 11 12 13]\n",
      " [17 18 19 20 21 22 23]]\n"
     ]
    }
   ],
   "source": [
    "# Creating a new array\n",
    "a = np.array([[7,8,9,10,11,12,13], [17,18,19,20,21,22,23]])\n",
    "print(a)"
   ]
  },
  {
   "cell_type": "code",
   "execution_count": 80,
   "id": "8b652b89",
   "metadata": {},
   "outputs": [
    {
     "name": "stdout",
     "output_type": "stream",
     "text": [
      "210\n"
     ]
    }
   ],
   "source": [
    "# Calculating the sum of a\n",
    "print(a.sum()) # This is the total sum of the entire array "
   ]
  },
  {
   "cell_type": "code",
   "execution_count": 81,
   "id": "30fa8600",
   "metadata": {},
   "outputs": [
    {
     "name": "stdout",
     "output_type": "stream",
     "text": [
      "210\n"
     ]
    }
   ],
   "source": [
    "# Calculating the sum of a using the axis argument\n",
    "print(a.sum(axis = None)) # = None is the default "
   ]
  },
  {
   "cell_type": "code",
   "execution_count": 82,
   "id": "e0e7e6a0",
   "metadata": {},
   "outputs": [
    {
     "name": "stdout",
     "output_type": "stream",
     "text": [
      "[24 26 28 30 32 34 36]\n"
     ]
    }
   ],
   "source": [
    "# Calculating the sum along the rows\n",
    "print(a.sum(axis = 0)) # = 0 is calculating the sum row-wise; so 7+17, 8+18, etc. we get one entry per each column"
   ]
  },
  {
   "cell_type": "code",
   "execution_count": 84,
   "id": "82f13bfb",
   "metadata": {},
   "outputs": [
    {
     "name": "stdout",
     "output_type": "stream",
     "text": [
      "[ 70 140]\n"
     ]
    }
   ],
   "source": [
    "# Calculating the sum along the columns\n",
    "print(a.sum(axis = 1)) # = 1 is calculating the sum column-wise; so 7+8+9, 17+18+19, etc. we get one entry per each row"
   ]
  },
  {
   "cell_type": "code",
   "execution_count": 86,
   "id": "a12159e8",
   "metadata": {},
   "outputs": [
    {
     "name": "stdout",
     "output_type": "stream",
     "text": [
      "[10. 20.]\n",
      "[12. 13. 14. 15. 16. 17. 18.]\n",
      "15.0\n"
     ]
    }
   ],
   "source": [
    "# Can also use the mean \n",
    "print(a.mean(axis = 1)) # This will calculate the mean over all columns\n",
    "print(a.mean(axis = 0)) # Calculate the mean for each column; 17+7/2, 18+8/2, etc. \n",
    "print(a.mean(axis = None)) # Overall mean"
   ]
  },
  {
   "cell_type": "code",
   "execution_count": 87,
   "id": "164a979c",
   "metadata": {},
   "outputs": [
    {
     "name": "stdout",
     "output_type": "stream",
     "text": [
      "29.0\n"
     ]
    }
   ],
   "source": [
    "# Calculating the variance\n",
    "print(a.var(axis = None))"
   ]
  },
  {
   "cell_type": "code",
   "execution_count": 88,
   "id": "a1f56756",
   "metadata": {},
   "outputs": [
    {
     "name": "stdout",
     "output_type": "stream",
     "text": [
      "5.385164807134504\n"
     ]
    }
   ],
   "source": [
    "# Calculating the standard deviation\n",
    "print(a.std(axis = None))"
   ]
  },
  {
   "cell_type": "code",
   "execution_count": 89,
   "id": "56ed277b",
   "metadata": {},
   "outputs": [
    {
     "name": "stdout",
     "output_type": "stream",
     "text": [
      "7\n",
      "23\n"
     ]
    }
   ],
   "source": [
    "# Getting the minimum or maximum\n",
    "print(a.min(axis = None))\n",
    "print(a.max(axis = None))"
   ]
  },
  {
   "cell_type": "markdown",
   "id": "a292548b",
   "metadata": {},
   "source": [
    "## Datatypes"
   ]
  },
  {
   "cell_type": "code",
   "execution_count": 92,
   "id": "c1c99a88",
   "metadata": {},
   "outputs": [
    {
     "name": "stdout",
     "output_type": "stream",
     "text": [
      "int32\n"
     ]
    }
   ],
   "source": [
    "# Creating an array without a datatype; it can figure it out on its own\n",
    "x = np.array([1, 2]) #Int32\n",
    "print(x.dtype)"
   ]
  },
  {
   "cell_type": "code",
   "execution_count": 95,
   "id": "2daa2930",
   "metadata": {},
   "outputs": [
    {
     "name": "stdout",
     "output_type": "stream",
     "text": [
      "float64\n"
     ]
    }
   ],
   "source": [
    "# Float\n",
    "x = np.array([1.0, 2.0])\n",
    "print(x.dtype)"
   ]
  },
  {
   "cell_type": "code",
   "execution_count": 94,
   "id": "5b4eed57",
   "metadata": {},
   "outputs": [
    {
     "name": "stdout",
     "output_type": "stream",
     "text": [
      "int64\n"
     ]
    }
   ],
   "source": [
    "# Can pass the dtype = argument to set the type\n",
    "x = np.array([1.0, 2.0], dtype = np.int64)\n",
    "print(x.dtype)"
   ]
  },
  {
   "cell_type": "code",
   "execution_count": 96,
   "id": "5e151c19",
   "metadata": {},
   "outputs": [
    {
     "name": "stdout",
     "output_type": "stream",
     "text": [
      "<U1\n"
     ]
    }
   ],
   "source": [
    "# Can pass the dtype = argument to set the type\n",
    "x = np.array(['a', 'b'])\n",
    "print(x.dtype)"
   ]
  },
  {
   "cell_type": "markdown",
   "id": "026ee924",
   "metadata": {},
   "source": [
    "You can check the `numpy` documentation to check all of the data types. Typically, for machine learning, we will use either float32 or float64."
   ]
  },
  {
   "cell_type": "markdown",
   "id": "dc864a43",
   "metadata": {},
   "source": [
    "## Copying Arrays"
   ]
  },
  {
   "cell_type": "code",
   "execution_count": 97,
   "id": "3d420cf9",
   "metadata": {},
   "outputs": [
    {
     "name": "stdout",
     "output_type": "stream",
     "text": [
      "[42  2  3]\n",
      "[42  2  3]\n"
     ]
    }
   ],
   "source": [
    "# Making a new array and copying\n",
    "a = np.array([1,2,3])\n",
    "b = a\n",
    "\n",
    "# Modifying b\n",
    "b[0] = 42\n",
    "\n",
    "# Displaying a & b\n",
    "print(a)\n",
    "print(b)"
   ]
  },
  {
   "cell_type": "markdown",
   "id": "53f74c91",
   "metadata": {},
   "source": [
    "As you can see, `a` also has 42 as the first value, even though we only changed it for `b`. This is because we only copied the reference to `b`. Both objects point to the same location in the memory; this is why it modifies both objects."
   ]
  },
  {
   "cell_type": "code",
   "execution_count": 98,
   "id": "64771d22",
   "metadata": {},
   "outputs": [
    {
     "name": "stdout",
     "output_type": "stream",
     "text": [
      "[1 2 3]\n",
      "[42  2  3]\n"
     ]
    }
   ],
   "source": [
    "# Making a new array and copying the numpy way\n",
    "a = np.array([1,2,3])\n",
    "b = a.copy()\n",
    "\n",
    "# Modifying b\n",
    "b[0] = 42\n",
    "\n",
    "# Displaying a & b\n",
    "print(a)\n",
    "print(b)"
   ]
  },
  {
   "cell_type": "markdown",
   "id": "2a4d9400",
   "metadata": {},
   "source": [
    "## Generating Arrays"
   ]
  },
  {
   "cell_type": "code",
   "execution_count": 99,
   "id": "55810923",
   "metadata": {},
   "outputs": [
    {
     "name": "stdout",
     "output_type": "stream",
     "text": [
      "[[0. 0. 0.]\n",
      " [0. 0. 0.]]\n"
     ]
    }
   ],
   "source": [
    "# Using numpy to generate an array of 0s\n",
    "a = np.zeros((2,3)) # Takes a tuple with the dimensions of the desired array\n",
    "print(a)"
   ]
  },
  {
   "cell_type": "code",
   "execution_count": 100,
   "id": "8fc6e0e3",
   "metadata": {},
   "outputs": [
    {
     "name": "stdout",
     "output_type": "stream",
     "text": [
      "[[1. 1. 1.]\n",
      " [1. 1. 1.]]\n"
     ]
    }
   ],
   "source": [
    "# Using numpy to generate an array of 1s\n",
    "a = np.ones((2,3)) # Takes a tuple with the dimensions of the desired array\n",
    "print(a)"
   ]
  },
  {
   "cell_type": "code",
   "execution_count": 102,
   "id": "ab7af46d",
   "metadata": {},
   "outputs": [
    {
     "name": "stdout",
     "output_type": "stream",
     "text": [
      "float64\n"
     ]
    }
   ],
   "source": [
    "# The default data type is float\n",
    "print(a.dtype)"
   ]
  },
  {
   "cell_type": "code",
   "execution_count": 103,
   "id": "d98555bb",
   "metadata": {},
   "outputs": [
    {
     "name": "stdout",
     "output_type": "stream",
     "text": [
      "[[5. 5. 5.]\n",
      " [5. 5. 5.]]\n"
     ]
    }
   ],
   "source": [
    "# Specific values in an array; making an array with all 5s in this example\n",
    "a = np.full((2,3), 5.0)\n",
    "print(a)"
   ]
  },
  {
   "cell_type": "code",
   "execution_count": 104,
   "id": "24bd63cf",
   "metadata": {},
   "outputs": [
    {
     "name": "stdout",
     "output_type": "stream",
     "text": [
      "[[1. 0. 0.]\n",
      " [0. 1. 0.]\n",
      " [0. 0. 1.]]\n"
     ]
    }
   ],
   "source": [
    "# Making an identity matrix\n",
    "a = np.eye((3)) # Only takes one argument; matrix will be square with 1s on the diagonal and 0 everywhere else\n",
    "print(a)"
   ]
  },
  {
   "cell_type": "code",
   "execution_count": 106,
   "id": "380dcbe7",
   "metadata": {},
   "outputs": [
    {
     "name": "stdout",
     "output_type": "stream",
     "text": [
      "[ 0  1  2  3  4  5  6  7  8  9 10 11 12 13 14 15 16 17 18 19]\n"
     ]
    }
   ],
   "source": [
    "# Making a one dimensional array with a range\n",
    "a = np.arange(20) # The last number is not included\n",
    "print(a)"
   ]
  },
  {
   "cell_type": "code",
   "execution_count": 107,
   "id": "402f7b88",
   "metadata": {},
   "outputs": [
    {
     "name": "stdout",
     "output_type": "stream",
     "text": [
      "[ 0.   2.5  5.   7.5 10. ]\n"
     ]
    }
   ],
   "source": [
    "# Linspace function; will get the start, stop, and number of steps\n",
    "a = np.linspace(0, 10, 5) # Will take the start value, 0, and end value, 10, and make sure you get 5 elements; they will \n",
    "# be equally spaced \n",
    "print(a)"
   ]
  },
  {
   "cell_type": "markdown",
   "id": "745864b5",
   "metadata": {},
   "source": [
    "## Random Numbers"
   ]
  },
  {
   "cell_type": "code",
   "execution_count": 108,
   "id": "4e726056",
   "metadata": {},
   "outputs": [
    {
     "name": "stdout",
     "output_type": "stream",
     "text": [
      "[[0.54657948 0.3269891 ]\n",
      " [0.88373754 0.01803662]\n",
      " [0.56898745 0.29597196]]\n"
     ]
    }
   ],
   "source": [
    "# Generating an array with random numbers from uniform\n",
    "a = np.random.random((3,2)) # Will generate an array of size 3x2 from the uniform distribution; all numbers will\n",
    "# be between 0 and 1\n",
    "print(a)"
   ]
  },
  {
   "cell_type": "code",
   "execution_count": 109,
   "id": "e446dac5",
   "metadata": {},
   "outputs": [
    {
     "name": "stdout",
     "output_type": "stream",
     "text": [
      "[[-1.45459431 -1.22524348]\n",
      " [ 0.28795102  0.94063403]\n",
      " [ 0.98682133 -0.39999688]]\n"
     ]
    }
   ],
   "source": [
    "# Generating random numbers using the Gaussian/Normal distribution\n",
    "a = np.random.randn(3,2) # This does not take a tuple as shape, but each dimension as separate argument\n",
    "print(a)"
   ]
  },
  {
   "cell_type": "code",
   "execution_count": 110,
   "id": "5945fbca",
   "metadata": {},
   "outputs": [
    {
     "name": "stdout",
     "output_type": "stream",
     "text": [
      "-0.0033757791804425396 1.034258597055191\n"
     ]
    }
   ],
   "source": [
    "# Displaying the mean (0) and variance (1) of the normal distribution\n",
    "a = np.random.randn(1000) # Making a one-dimensional array with 1000 values\n",
    "print(a.mean(), a.var())"
   ]
  },
  {
   "cell_type": "code",
   "execution_count": 111,
   "id": "dce6b794",
   "metadata": {},
   "outputs": [
    {
     "name": "stdout",
     "output_type": "stream",
     "text": [
      "[[5 4 6]\n",
      " [6 7 5]\n",
      " [9 7 3]]\n"
     ]
    }
   ],
   "source": [
    "# Generating random integers\n",
    "a = np.random.randint(3,10, size = (3, 3)) # Takes start and stop values and tuple with dimensions; second number is excluded\n",
    "print(a)"
   ]
  },
  {
   "cell_type": "code",
   "execution_count": 112,
   "id": "b2e2ea25",
   "metadata": {},
   "outputs": [
    {
     "name": "stdout",
     "output_type": "stream",
     "text": [
      "[[6 1 4]\n",
      " [8 0 1]\n",
      " [0 1 4]]\n"
     ]
    }
   ],
   "source": [
    "# Generating random integers with only 1 number; this will use 0 as the lower bound\n",
    "a = np.random.randint(10, size = (3, 3)) # Takes start and stop values and tuple with dimensions; 10 will still be excluded\n",
    "print(a)"
   ]
  },
  {
   "cell_type": "code",
   "execution_count": 114,
   "id": "ef2f44f8",
   "metadata": {},
   "outputs": [
    {
     "name": "stdout",
     "output_type": "stream",
     "text": [
      "[3 3 4 2 4 2 1 0 2 0]\n"
     ]
    }
   ],
   "source": [
    "# Getting a random choice\n",
    "a = np.random.choice(5, size = 10) # Generates an array with the size = and chooses from numbers between 0 and 5, excluding 5\n",
    "print(a)"
   ]
  },
  {
   "cell_type": "code",
   "execution_count": 115,
   "id": "93ee7a21",
   "metadata": {},
   "outputs": [
    {
     "name": "stdout",
     "output_type": "stream",
     "text": [
      "[-7 -8 -8 -8 -7 -6 -8 -8 -7 -6]\n"
     ]
    }
   ],
   "source": [
    "# Getting a random choice with a list\n",
    "a = np.random.choice([-8, -7, -6], size = 10) # Generates an array with the size = and picks randomly from the list\n",
    "print(a)"
   ]
  },
  {
   "cell_type": "markdown",
   "id": "8f460ff5",
   "metadata": {},
   "source": [
    "## Linear Algebra"
   ]
  },
  {
   "cell_type": "code",
   "execution_count": 116,
   "id": "ab8aaba7",
   "metadata": {},
   "outputs": [
    {
     "name": "stdout",
     "output_type": "stream",
     "text": [
      "[-0.37228132  5.37228132]\n",
      "[[-0.82456484 -0.41597356]\n",
      " [ 0.56576746 -0.90937671]]\n",
      "[-0.82456484  0.56576746]\n",
      "[ 0.30697009 -0.21062466] [ 0.30697009 -0.21062466]\n",
      "[ True False]\n",
      "True\n"
     ]
    }
   ],
   "source": [
    "# eigenvalues\n",
    "a = np.array([[1,2], [3,4]])\n",
    "eigenvalues, eigenvectors = np.linalg.eig(a)\n",
    "# Note: use eigh if your matrix is symmetric (faster)\n",
    "print(eigenvalues)\n",
    "print(eigenvectors) # column vectors\n",
    "print(eigenvectors[:,0]) # column 0 corresponding to eigenvalue[0]\n",
    "\n",
    "# verify: e-vec * e-val = A * e-vec\n",
    "d = eigenvectors[:,0] * eigenvalues[0]\n",
    "e = a @ eigenvectors[:, 0]\n",
    "print(d, e)\n",
    "print(d == e) # numerical issues\n",
    "\n",
    "# correct way to compare matrix\n",
    "print(np.allclose(d,e))"
   ]
  },
  {
   "cell_type": "code",
   "execution_count": 117,
   "id": "7ba1abff",
   "metadata": {},
   "outputs": [
    {
     "name": "stdout",
     "output_type": "stream",
     "text": [
      "[1500.  700.]\n",
      "[1500.  700.]\n"
     ]
    }
   ],
   "source": [
    "# solve linear system\n",
    "# x1+x2=2200\n",
    "# 1.5 x1 + 4 x2 = 5050\n",
    "# 2 equations and 2 unknowns\n",
    "A = np.array([[1, 1], [1.5, 4]])\n",
    "b = np.array([2200,5050])\n",
    "\n",
    "# Ax = b <=> x = A-1 b\n",
    "\n",
    "# But: inverse is slow and less accurate\n",
    "x = np.linalg.inv(A).dot(b) # not recommended\n",
    "print(x)\n",
    "x = np.linalg.solve(A,b) # good\n",
    "print(x)"
   ]
  },
  {
   "cell_type": "markdown",
   "id": "931f9cc3",
   "metadata": {},
   "source": [
    "## Loading a CSV File"
   ]
  },
  {
   "cell_type": "raw",
   "id": "bb7cc96d",
   "metadata": {},
   "source": [
    "# 1) load with np.loadtxt()\n",
    "# skiprows=1\n",
    "data = np.loadtxt(FILE_NAME, delimiter = \",\", dtype = np.float32)\n",
    "print(data.shape, data.dtype)\n",
    "\n",
    "# 2) load with np.genfromtxt()\n",
    "# skip_header=0, missing_values=\"---\", filling_values=0.0\n",
    "data = np.genfromtxt(FILE_NAME, delimiter = \",\", dtype = np.float32)\n",
    "print(data.shape)"
   ]
  }
 ],
 "metadata": {
  "kernelspec": {
   "display_name": "Python 3 (ipykernel)",
   "language": "python",
   "name": "python3"
  },
  "language_info": {
   "codemirror_mode": {
    "name": "ipython",
    "version": 3
   },
   "file_extension": ".py",
   "mimetype": "text/x-python",
   "name": "python",
   "nbconvert_exporter": "python",
   "pygments_lexer": "ipython3",
   "version": "3.9.7"
  }
 },
 "nbformat": 4,
 "nbformat_minor": 5
}
