{
 "cells": [
  {
   "cell_type": "markdown",
   "id": "10ccae30",
   "metadata": {},
   "source": [
    "# Code Chef Practice Problems"
   ]
  },
  {
   "cell_type": "markdown",
   "id": "4d1835b1",
   "metadata": {},
   "source": [
    "## Number 1: Fever\n",
    "\n",
    "Chef is not feeling well today. He measured his body temperature using a thermometer and it came out to be X°F.\n",
    "\n",
    "A person is said to have fever if his body temperature is strictly greater than 98°F.\n",
    "\n",
    "Determine if Chef has fever or not."
   ]
  },
  {
   "cell_type": "code",
   "execution_count": 1,
   "id": "7230cf0b",
   "metadata": {},
   "outputs": [
    {
     "name": "stdout",
     "output_type": "stream",
     "text": [
      "Yes\n",
      "No\n"
     ]
    }
   ],
   "source": [
    "# Making the function\n",
    "def fev(temp):\n",
    "    if temp <= 98:\n",
    "        result = \"No\"\n",
    "    else:\n",
    "        result = \"Yes\"\n",
    "    return(result)\n",
    "\n",
    "# Testing the function\n",
    "print(fev(100))\n",
    "print(fev(97))"
   ]
  },
  {
   "cell_type": "markdown",
   "id": "c5e92bf3",
   "metadata": {},
   "source": [
    "## Number 2: \n",
    "\n",
    "Uttu broke his phone. He can get it repaired by spending X rupees or he can buy a new phone by spending Y rupees. Uttu wants to spend as little money as possible. Find out if it is better to get the phone repaired or to buy a new phone."
   ]
  },
  {
   "cell_type": "code",
   "execution_count": 2,
   "id": "d87d9be0",
   "metadata": {},
   "outputs": [
    {
     "name": "stdout",
     "output_type": "stream",
     "text": [
      "Repaired\n",
      "Any\n"
     ]
    }
   ],
   "source": [
    "# Making the function\n",
    "def phone(X, Y):\n",
    "    if X == Y:\n",
    "        result = \"Any\"\n",
    "    elif X > Y:\n",
    "        result = \"New Phone\"\n",
    "    else:\n",
    "        result = \"Repaired\"\n",
    "    return(result)\n",
    "\n",
    "# Testing the function\n",
    "print(phone(100, 200))\n",
    "print(phone(200, 200))"
   ]
  },
  {
   "cell_type": "markdown",
   "id": "0420f42d",
   "metadata": {},
   "source": [
    "## Number 3:\n",
    "\n",
    "Alice is driving from her home to her office which is A kilometers away and will take her X hours to reach.\n",
    "Bob is driving from his home to his office which is B kilometers away and will take him Y hours to reach.\n",
    "\n",
    "Determine who is driving faster, else, if they are both driving at the same speed print EQUAL."
   ]
  },
  {
   "cell_type": "code",
   "execution_count": 3,
   "id": "f288901c",
   "metadata": {},
   "outputs": [
    {
     "name": "stdout",
     "output_type": "stream",
     "text": [
      "Bob\n",
      "Equal\n"
     ]
    }
   ],
   "source": [
    "# Making the function\n",
    "def dist(A, X, B, Y):\n",
    "    if A/X > B/Y:\n",
    "        speed = \"Alice\"\n",
    "    elif B/Y > A/X:\n",
    "        speed = \"Bob\"\n",
    "    else:\n",
    "        speed = \"Equal\"\n",
    "    return(speed)\n",
    "\n",
    "# Testing the function\n",
    "print(dist(20, 6, 20, 5))\n",
    "print(dist(10, 3, 20, 6))"
   ]
  },
  {
   "cell_type": "markdown",
   "id": "977777b1",
   "metadata": {},
   "source": [
    "## Number 4:\n",
    "\n",
    "Write a program that accepts sets of three numbers, and prints the second-maximum number among the three."
   ]
  },
  {
   "cell_type": "code",
   "execution_count": 4,
   "id": "d9716fa2",
   "metadata": {},
   "outputs": [
    {
     "name": "stdout",
     "output_type": "stream",
     "text": [
      "2\n",
      "6\n"
     ]
    }
   ],
   "source": [
    "# Making the function\n",
    "def secmax(one, two, three):\n",
    "    numbers = [one, two, three]\n",
    "    numbers.sort()\n",
    "    return(numbers[1])\n",
    "\n",
    "# Testing the function\n",
    "print(secmax(1,2,3))\n",
    "print(secmax(10,6,3))"
   ]
  },
  {
   "cell_type": "markdown",
   "id": "a7525bee",
   "metadata": {},
   "source": [
    "## Number 5:\n",
    "\n",
    "Alice and Bob are very good friends and they always distribute all the eatables equally among themselves.\n",
    "\n",
    "Alice has A chocolates and Bob has B chocolates. Determine whether Alice and Bob can distribute all the chocolates equally among themselves.\n",
    "\n",
    "Note that:\n",
    "\n",
    "* It is not allowed to break a chocolate into more than one piece.\n",
    "* No chocolate shall be left in the distribution."
   ]
  },
  {
   "cell_type": "code",
   "execution_count": 5,
   "id": "6eb5d51d",
   "metadata": {},
   "outputs": [
    {
     "name": "stdout",
     "output_type": "stream",
     "text": [
      "No\n",
      "Yes\n"
     ]
    }
   ],
   "source": [
    "# Making the function\n",
    "def split(alice, bob):\n",
    "    if (alice + bob) % 2 == 0:\n",
    "        result = \"Yes\"\n",
    "    else:\n",
    "        result = \"No\"\n",
    "    return(result)\n",
    "\n",
    "# Testing the function\n",
    "print(split(2,1))\n",
    "print(split(2,2))"
   ]
  },
  {
   "cell_type": "markdown",
   "id": "67ceb4e6",
   "metadata": {},
   "source": [
    "## Number 6:\n",
    "\n",
    "Alice, Bob and Charlie are bidding for an artifact at an auction.\n",
    "Alice bids A rupees, Bob bids B rupees, and Charlie bids C rupees (where A, B, and C are distinct).\n",
    "\n",
    "According to the rules of the auction, the person who bids the highest amount will win the auction.\n",
    "Determine who will win the auction."
   ]
  },
  {
   "cell_type": "code",
   "execution_count": 6,
   "id": "ecc077d7",
   "metadata": {},
   "outputs": [
    {
     "name": "stdout",
     "output_type": "stream",
     "text": [
      "Alice\n",
      "Bob\n",
      "Charlie\n"
     ]
    }
   ],
   "source": [
    "# Making the function\n",
    "def bid(A, B, C):\n",
    "    if (A > B) & (A > C):\n",
    "        winner = \"Alice\"\n",
    "    elif (B > A) & (B > C):\n",
    "        winner = \"Bob\"\n",
    "    else:\n",
    "        winner = \"Charlie\"\n",
    "    return(winner)\n",
    "\n",
    "# Testing the function\n",
    "print(bid(100, 50, 25))\n",
    "print(bid(50, 100, 25))\n",
    "print(bid(25, 50, 100))"
   ]
  },
  {
   "cell_type": "markdown",
   "id": "54ee4fe8",
   "metadata": {},
   "source": [
    "## Number 7: \n",
    "\n",
    "Finally, after purchasing a water cooler during the April long challenge, Chef noticed that his water cooler requires 2 liters of water to cool for one hour.\n",
    "\n",
    "How much water (in liters) would be required by the cooler to cool for N hours?"
   ]
  },
  {
   "cell_type": "code",
   "execution_count": 7,
   "id": "ec26be91",
   "metadata": {},
   "outputs": [
    {
     "name": "stdout",
     "output_type": "stream",
     "text": [
      "4\n",
      "8\n"
     ]
    }
   ],
   "source": [
    "# Making the function\n",
    "def water(hours):\n",
    "    water = 2 * hours\n",
    "    return(water)\n",
    "\n",
    "# Testing the function\n",
    "print(water(2))\n",
    "print(water(4))"
   ]
  },
  {
   "cell_type": "markdown",
   "id": "3bbe6811",
   "metadata": {},
   "source": [
    "## Number 8:\n",
    "\n",
    "There were initially X million people in a town, out of which Y million people left the town and Z million people immigrated to this town.\n",
    "\n",
    "Determine the final population of town in millions."
   ]
  },
  {
   "cell_type": "code",
   "execution_count": 10,
   "id": "7baf28f4",
   "metadata": {},
   "outputs": [
    {
     "name": "stdout",
     "output_type": "stream",
     "text": [
      "4\n",
      "2\n",
      "11\n"
     ]
    }
   ],
   "source": [
    "# Making the function\n",
    "def pop(X, Y, Z):\n",
    "    final_pop = (X - Y) + Z\n",
    "    return(final_pop)\n",
    "\n",
    "# Testing the function\n",
    "print(pop(3,1,2))\n",
    "print(pop(2,2,2))\n",
    "print(pop(4,1,8))"
   ]
  },
  {
   "cell_type": "markdown",
   "id": "116cbe6c",
   "metadata": {},
   "source": [
    "## Number 9:\n",
    "\n",
    "Alice is playing Air Hockey with Bob. The first person to earn seven points wins the match. Currently, Alice's score is A and Bob's score is B.\n",
    "\n",
    "Charlie is eagerly waiting for his turn. Help Charlie by calculating the minimum number of points that will be further scored in the match before it ends."
   ]
  },
  {
   "cell_type": "code",
   "execution_count": 14,
   "id": "8d110349",
   "metadata": {},
   "outputs": [
    {
     "name": "stdout",
     "output_type": "stream",
     "text": [
      "7\n",
      "2\n",
      "1\n",
      "3\n"
     ]
    }
   ],
   "source": [
    "# Making the function\n",
    "def hockey(A, B):\n",
    "    points_A = 7 - A\n",
    "    points_B = 7 - B\n",
    "    return(min(points_A, points_B))\n",
    "\n",
    "# Testing the function\n",
    "print(hockey(0,0))\n",
    "print(hockey(2,5))\n",
    "print(hockey(5,6))\n",
    "print(hockey(4,3))"
   ]
  },
  {
   "cell_type": "markdown",
   "id": "ed4cbbea",
   "metadata": {},
   "source": [
    "## Number 10:\n",
    "\n",
    "On a certain train, Chef-the ticket collector, collects a fine of Rs. X if a passenger is travelling without a ticket. It is known that a passenger carries either a single ticket or no ticket.\n",
    "\n",
    "P passengers are travelling and they have a total of Q tickets. Help Chef calculate the total fine collected.\n",
    "\n",
    "* The first integer, X, is the fee in rupees.\n",
    "* The second integer, P, is the number of passengers on the train.\n",
    "* The third integer, Q, is the number of tickets Chef collected."
   ]
  },
  {
   "cell_type": "code",
   "execution_count": 16,
   "id": "c2ddc757",
   "metadata": {},
   "outputs": [
    {
     "name": "stdout",
     "output_type": "stream",
     "text": [
      "0\n",
      "6\n",
      "8\n",
      "63\n"
     ]
    }
   ],
   "source": [
    "# Making the function\n",
    "def fine(X, P, Q):\n",
    "    missing_tix = P - Q\n",
    "    total_fine = X * missing_tix\n",
    "    return(total_fine)\n",
    "\n",
    "# Testing the function\n",
    "print(fine(4,1,1))\n",
    "print(fine(2,10,7))\n",
    "print(fine(8,5,4))\n",
    "print(fine(9,7,0))"
   ]
  },
  {
   "cell_type": "markdown",
   "id": "cb3551ed",
   "metadata": {},
   "source": [
    "## Number 11:\n",
    "\n",
    "Alice buys a toy with a selling price of 100 rupees. There is a discount of X percent on the toy. Find the amount Alice needs to pay for it."
   ]
  },
  {
   "cell_type": "code",
   "execution_count": 32,
   "id": "82491d63",
   "metadata": {},
   "outputs": [
    {
     "name": "stdout",
     "output_type": "stream",
     "text": [
      "95.0\n",
      "90.0\n",
      "79.2\n"
     ]
    }
   ],
   "source": [
    "# Making the function\n",
    "def price(X, price):\n",
    "    discount = X/100\n",
    "    final_price = price - (discount * price)\n",
    "    return(final_price)\n",
    "\n",
    "# Testing the function\n",
    "print(price(5, 100))\n",
    "print(price(10, 100))\n",
    "print(price(10, 88))"
   ]
  },
  {
   "cell_type": "markdown",
   "id": "eca35348",
   "metadata": {},
   "source": [
    "## Number 12:\n",
    "\n",
    "Write a program to find the remainder when an integer A is divided by an integer B."
   ]
  },
  {
   "cell_type": "code",
   "execution_count": 33,
   "id": "9b7bbc42",
   "metadata": {},
   "outputs": [
    {
     "name": "stdout",
     "output_type": "stream",
     "text": [
      "1\n",
      "100\n",
      "10\n"
     ]
    }
   ],
   "source": [
    "# Making the function\n",
    "def rem(A, B):\n",
    "    remainder = A % B\n",
    "    return(remainder)\n",
    "\n",
    "# Testing the function\n",
    "print(rem(1, 2))\n",
    "print(rem(100, 200))\n",
    "print(rem(40, 15))"
   ]
  },
  {
   "cell_type": "markdown",
   "id": "c9828787",
   "metadata": {},
   "source": [
    "## Number 13:\n",
    "\n",
    "Ezio can manipulate at most X number of guards with the Apple of Eden.\n",
    "\n",
    "Given that there are Y number of guards, predict if he can safely manipulate all of them."
   ]
  },
  {
   "cell_type": "code",
   "execution_count": 38,
   "id": "ce0f51c1",
   "metadata": {},
   "outputs": [
    {
     "name": "stdout",
     "output_type": "stream",
     "text": [
      "No\n",
      "Yes\n",
      "Yes\n"
     ]
    }
   ],
   "source": [
    "# Making the function\n",
    "def mani(X, Y):\n",
    "    if X % Y == 0:\n",
    "        result = \"Yes\"\n",
    "    else:\n",
    "        result = \"No\"\n",
    "    return(result)\n",
    "\n",
    "# Testing the function\n",
    "print(mani(5,6))\n",
    "print(mani(6,6))\n",
    "print(mani(9,1))"
   ]
  },
  {
   "cell_type": "markdown",
   "id": "c020a017",
   "metadata": {},
   "source": [
    "## Number 14:\n",
    "\n",
    "You're given an integer N. Write a program to calculate the sum of all the digits of N."
   ]
  },
  {
   "cell_type": "code",
   "execution_count": 44,
   "id": "f1800907",
   "metadata": {},
   "outputs": [
    {
     "name": "stdout",
     "output_type": "stream",
     "text": [
      "15\n",
      "9\n",
      "8\n"
     ]
    }
   ],
   "source": [
    "# Making the function\n",
    "def sumdig(N):\n",
    "    digits = [int(x) for x in str(N)]\n",
    "    total = sum(digits)\n",
    "    return(total)\n",
    "\n",
    "# Testing the function\n",
    "print(sumdig(12345))\n",
    "print(sumdig(31203))\n",
    "print(sumdig(2123))"
   ]
  },
  {
   "cell_type": "markdown",
   "id": "39ec7a34",
   "metadata": {},
   "source": [
    "## Number 15:\n",
    "\n",
    "If given an integer N, write a program to obtain the sum of the first and last digits of this number."
   ]
  },
  {
   "cell_type": "code",
   "execution_count": 46,
   "id": "6dacc10c",
   "metadata": {},
   "outputs": [
    {
     "name": "stdout",
     "output_type": "stream",
     "text": [
      "5\n",
      "5\n",
      "5\n"
     ]
    }
   ],
   "source": [
    "# Testing the function\n",
    "def fldig(N):\n",
    "    digits = [int(x) for x in str(N)]\n",
    "    total = digits[0] + digits[-1]\n",
    "    return(total)\n",
    "\n",
    "# Testing the function\n",
    "print(fldig(1234))\n",
    "print(fldig(124894))\n",
    "print(fldig(242323))"
   ]
  },
  {
   "cell_type": "markdown",
   "id": "f5363e4a",
   "metadata": {},
   "source": [
    "## Number 16:\n",
    "\n",
    "You are given that a mango weighs X kilograms and a truck weighs Y kilograms. You want to cross a bridge that can withstand a weight of Z kilograms.\n",
    "\n",
    "Find the maximum number of mangoes you can load in the truck so that you can cross the bridge safely."
   ]
  },
  {
   "cell_type": "code",
   "execution_count": 18,
   "id": "34c579ae",
   "metadata": {},
   "outputs": [
    {
     "name": "stdout",
     "output_type": "stream",
     "text": [
      "3\n",
      "2\n",
      "0\n"
     ]
    }
   ],
   "source": [
    "# Making the function\n",
    "def mango(X, Y, Z):\n",
    "    result = (Z-Y)//X\n",
    "    return(result)\n",
    "\n",
    "# Testing the function\n",
    "print(mango(2,5,11))\n",
    "print(mango(4,10,20))\n",
    "print(mango(1,1,1))"
   ]
  },
  {
   "cell_type": "markdown",
   "id": "fbf619fc",
   "metadata": {},
   "source": [
    "## Number 17:\n",
    "\n",
    "Alice has a bucket of water initially having W litres of water in it. The maximum capacity of the bucket is X liters.\n",
    "\n",
    "Alice turned on the tap and the water starts flowing into the bucket at a rate of Y litres/hour. She left the tap running for exactly Z hours. Determine whether the bucket has been overflown, filled exactly, or is still left unfilled."
   ]
  },
  {
   "cell_type": "code",
   "execution_count": 20,
   "id": "4c4bbf58",
   "metadata": {},
   "outputs": [
    {
     "name": "stdout",
     "output_type": "stream",
     "text": [
      "overflown\n",
      "filled exactly\n",
      "unfilled\n",
      "overflown\n"
     ]
    }
   ],
   "source": [
    "# Making the function\n",
    "def water(W, X, Y, Z):\n",
    "    fill = W + (Y * Z)\n",
    "    if fill > X:\n",
    "        result = \"overflown\"\n",
    "    elif fill < X:\n",
    "        result = \"unfilled\"\n",
    "    elif fill == X:\n",
    "        result = \"filled exactly\"\n",
    "    return(result)\n",
    "\n",
    "# Testing the function\n",
    "print(water(1,2,3,4))\n",
    "print(water(10,70,10,6))\n",
    "print(water(2,100,4,3))\n",
    "print(water(4,3,2,1))"
   ]
  },
  {
   "cell_type": "markdown",
   "id": "69ddd6ef",
   "metadata": {},
   "source": [
    "## Number 18:\n",
    "\n",
    "Chef has finally got the chance of his lifetime to drive in an F1 tournament. But, there is one problem. Chef did not know about the 107% rule and now he is worried whether he will be allowed to race in the main event or not.\n",
    "\n",
    "Given the fastest finish time as X seconds and Chef's finish time as Y seconds, determine whether Chef will be allowed to race in the main event or not.\n",
    "\n",
    "Note that, Chef will only be allowed to race if his finish time is within 107% of the fastest finish time."
   ]
  },
  {
   "cell_type": "code",
   "execution_count": 25,
   "id": "63ada121",
   "metadata": {},
   "outputs": [
    {
     "name": "stdout",
     "output_type": "stream",
     "text": [
      "No\n",
      "Yes\n",
      "No\n",
      "Yes\n"
     ]
    }
   ],
   "source": [
    "# Making the function\n",
    "def fone(X, Y):\n",
    "    time_limit = 1.07 * X\n",
    "    if Y <= time_limit:\n",
    "        result = \"Yes\"\n",
    "    elif Y > time_limit:\n",
    "        result = \"No\"\n",
    "    return(result)\n",
    "\n",
    "# Testing the function\n",
    "print(fone(1,2))\n",
    "print(fone(15,16))\n",
    "print(fone(15,17))\n",
    "print(fone(100,107))"
   ]
  },
  {
   "cell_type": "markdown",
   "id": "344a996f",
   "metadata": {},
   "source": [
    "## Number 19:\n",
    "\n",
    "In the medieval age, there were 3 kingdoms A, B, and C. The army of these kingdom had $N_A$ , $N_B$, and $N_C$ soldiers respectively.\n",
    "\n",
    "You are given that an army with X soldiers can defeat an army with Y soldiers only if X > Y.\n",
    "\n",
    "An army is said to be dominant if it can defeat both the other armies combined. For example, kingdom C's army will be dominant only if $N_C$ > $N_A$ + $N_BN$ \n",
    "\n",
    "Determine whether any of the armies is dominant or not."
   ]
  },
  {
   "cell_type": "code",
   "execution_count": 4,
   "id": "f559503f",
   "metadata": {},
   "outputs": [
    {
     "name": "stdout",
     "output_type": "stream",
     "text": [
      "Yes\n",
      "No\n",
      "Yes\n"
     ]
    }
   ],
   "source": [
    "# Making the function\n",
    "def dom(A,B,C):\n",
    "    if (A > B + C) | (B > A + C) | (C > A + B):\n",
    "        result = \"Yes\"\n",
    "    else:\n",
    "        result = \"No\"\n",
    "    return(result)\n",
    "\n",
    "# Testing the function\n",
    "print(dom(15,5,6))\n",
    "print(dom(12,13,16))\n",
    "print(dom(1,1,100))"
   ]
  },
  {
   "cell_type": "markdown",
   "id": "79c3ec92",
   "metadata": {},
   "source": [
    "## Number 20:\n",
    "\n",
    "Chef wants to gift C chocolates to Botswal on his birthday. However, he has only X chocolates with him.\n",
    "The cost of 1 chocolate is Y rupees.\n",
    "\n",
    "Find the minimum money in rupees Chef needs to spend so that he can gift C chocolates to Botswal."
   ]
  },
  {
   "cell_type": "code",
   "execution_count": 6,
   "id": "444ae182",
   "metadata": {},
   "outputs": [
    {
     "name": "stdout",
     "output_type": "stream",
     "text": [
      "10\n",
      "9\n"
     ]
    }
   ],
   "source": [
    "# Making the function\n",
    "def gift(C,X,Y):\n",
    "    result = (C - X) * Y\n",
    "    return(result)\n",
    "\n",
    "# Testing the function\n",
    "print(gift(7,5,5))\n",
    "print(gift(10,1,1))"
   ]
  },
  {
   "cell_type": "markdown",
   "id": "c824cfad",
   "metadata": {},
   "source": [
    "## Number 21: \n",
    "\n",
    "A single car can accommodate at most 4 people.\n",
    "\n",
    "N friends want to go to a restaurant for a party. Find the minimum number of cars required to accommodate all the friends."
   ]
  },
  {
   "cell_type": "code",
   "execution_count": 13,
   "id": "d800f574",
   "metadata": {},
   "outputs": [
    {
     "name": "stdout",
     "output_type": "stream",
     "text": [
      "1\n",
      "1\n",
      "2\n",
      "25\n"
     ]
    }
   ],
   "source": [
    "# importing math\n",
    "import math\n",
    "\n",
    "# Making the function\n",
    "def cars(N):\n",
    "    result = math.ceil(N/4)\n",
    "    return(result)\n",
    "\n",
    "# Testing the function\n",
    "print(cars(4))\n",
    "print(cars(2))\n",
    "print(cars(7))\n",
    "print(cars(98))"
   ]
  },
  {
   "cell_type": "markdown",
   "id": "57f58bd4",
   "metadata": {},
   "source": [
    "## Number 22:\n",
    "\n",
    "Chef discovered that his secret recipe has been stolen. He immediately informs the police of the theft.\n",
    "\n",
    "It is known that the policeman and thief move on the number line. You are given that:\n",
    "\n",
    "* The initial location of the policeman on the number line is X and his speed is 2 units per second.\n",
    "* The initial location of the thief on the number line is Y and his speed is 1 unit per second.\n",
    "\n",
    "Find the minimum time (in seconds) in which the policeman can catch the thief. Note that, the policeman catches the thief as soon as their locations become equal and the thief will try to evade the policeman for as long as possible."
   ]
  },
  {
   "cell_type": "code",
   "execution_count": 23,
   "id": "7d31b810",
   "metadata": {},
   "outputs": [
    {
     "name": "stdout",
     "output_type": "stream",
     "text": [
      "2\n",
      "1\n",
      "0\n"
     ]
    }
   ],
   "source": [
    "# Making the function\n",
    "def chase(X,Y):\n",
    "    if X >= Y:\n",
    "        result = (X - Y)\n",
    "    else:\n",
    "        result = (Y - X)\n",
    "    return(result)\n",
    "\n",
    "# Testing the function\n",
    "print(chase(1, 3))\n",
    "print(chase(2, 1))\n",
    "print(chase(1, 1))"
   ]
  }
 ],
 "metadata": {
  "kernelspec": {
   "display_name": "Python 3 (ipykernel)",
   "language": "python",
   "name": "python3"
  },
  "language_info": {
   "codemirror_mode": {
    "name": "ipython",
    "version": 3
   },
   "file_extension": ".py",
   "mimetype": "text/x-python",
   "name": "python",
   "nbconvert_exporter": "python",
   "pygments_lexer": "ipython3",
   "version": "3.9.7"
  }
 },
 "nbformat": 4,
 "nbformat_minor": 5
}
